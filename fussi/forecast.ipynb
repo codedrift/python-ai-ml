{
 "metadata": {
  "language_info": {
   "codemirror_mode": {
    "name": "ipython",
    "version": 3
   },
   "file_extension": ".py",
   "mimetype": "text/x-python",
   "name": "python",
   "nbconvert_exporter": "python",
   "pygments_lexer": "ipython3",
   "version": "3.9.5"
  },
  "orig_nbformat": 2,
  "kernelspec": {
   "name": "python395jvsc74a57bd07dcf71fd47c96333ec9dfc7cd7e032a016d3af3bbbffcbd80863390ea480ae65",
   "display_name": "Python 3.9.5 64-bit ('fussi-t3kC0vn3': pipenv)"
  }
 },
 "nbformat": 4,
 "nbformat_minor": 2,
 "cells": [
  {
   "cell_type": "code",
   "execution_count": 26,
   "metadata": {},
   "outputs": [],
   "source": [
    "import json\n",
    "import numpy as np\n",
    "import pandas as pd\n",
    "import seaborn as sns\n",
    "import matplotlib.pyplot as plt\n",
    "plt.style.use('fivethirtyeight') # For plots"
   ]
  },
  {
   "cell_type": "code",
   "execution_count": 27,
   "metadata": {},
   "outputs": [],
   "source": [
    "df_matches = pd.read_csv('data/euro/Uefa Euro Cup All Matches.csv', encoding='utf8')\n",
    "df_players = pd.read_csv('data/euro/Uefa Euro Cup All Players.csv')\n",
    "df_cup_stats = pd.read_csv('data/euro/Uefa Euro Cup General Statistics.csv')\n",
    "df_team_stats = pd.read_csv('data/euro/Uefa Euro Cup Participated Teams General Statistics.csv')"
   ]
  },
  {
   "cell_type": "code",
   "execution_count": 28,
   "metadata": {},
   "outputs": [
    {
     "output_type": "execute_result",
     "data": {
      "text/plain": [
       "    Rank                 Team  Participations  Played   Win  Draw  Loss  \\\n",
       "0    1.0              Germany            12.0    49.0  26.0  12.0  11.0   \n",
       "1    2.0               France             9.0    39.0  20.0   9.0  10.0   \n",
       "2    3.0                Spain            10.0    40.0  19.0  11.0  10.0   \n",
       "3    4.0                Italy             9.0    38.0  16.0  16.0   6.0   \n",
       "4    5.0             Portugal             7.0    35.0  18.0   9.0   8.0   \n",
       "5    6.0          Netherlands             9.0    35.0  17.0   8.0  10.0   \n",
       "6    7.0       Czech Republic             9.0    32.0  13.0   6.0  13.0   \n",
       "7    8.0               Russia            11.0    33.0  12.0   7.0  14.0   \n",
       "8    9.0              England             9.0    31.0  10.0  11.0  10.0   \n",
       "9   10.0              Croatia             5.0    18.0   8.0   5.0   5.0   \n",
       "10  11.0              Denmark             8.0    27.0   7.0   6.0  14.0   \n",
       "11  12.0              Belgium             5.0    17.0   7.0   2.0   8.0   \n",
       "12  13.0               Sweden             6.0    20.0   5.0   6.0   9.0   \n",
       "13  14.0               Greece             4.0    16.0   5.0   3.0   8.0   \n",
       "14  15.0               Turkey             4.0    15.0   4.0   2.0   9.0   \n",
       "15  16.0                Wales             1.0     6.0   4.0   0.0   2.0   \n",
       "16  17.0               Poland             3.0    11.0   2.0   6.0   3.0   \n",
       "17  18.0          Switzerland             4.0    13.0   2.0   5.0   6.0   \n",
       "18  19.0               Serbia             5.0    14.0   3.0   2.0   9.0   \n",
       "19  20.0              Iceland             1.0     5.0   2.0   2.0   1.0   \n",
       "20  21.0              Hungary             3.0     8.0   2.0   2.0   4.0   \n",
       "21  22.0  Republic of Ireland             3.0    10.0   2.0   2.0   6.0   \n",
       "22  23.0              Romania             5.0    16.0   1.0   5.0  10.0   \n",
       "23  24.0             Scotland             2.0     6.0   2.0   1.0   3.0   \n",
       "24  25.0               Norway             1.0     3.0   1.0   1.0   1.0   \n",
       "25  26.0             Slovakia             1.0     4.0   1.0   1.0   2.0   \n",
       "26  27.0             Bulgaria             2.0     6.0   1.0   1.0   4.0   \n",
       "27  28.0              Albania             1.0     3.0   1.0   0.0   2.0   \n",
       "28  29.0     Northern Ireland             1.0     4.0   1.0   0.0   3.0   \n",
       "29  30.0              Ukraine             2.0     6.0   1.0   0.0   5.0   \n",
       "30  31.0             Slovenia             1.0     3.0   0.0   2.0   1.0   \n",
       "31  32.0              Austria             2.0     6.0   0.0   2.0   4.0   \n",
       "32  33.0               Latvia             1.0     3.0   0.0   1.0   2.0   \n",
       "33   NaN              Finland             NaN     NaN   NaN   NaN   NaN   \n",
       "\n",
       "    Goal_For  Goal_Against Goal_Difference  Points  Points/match  \n",
       "0       72.0          48.0              24    90.0          1.84  \n",
       "1       62.0          44.0              18    69.0          1.77  \n",
       "2       55.0          36.0              19    68.0          1.70  \n",
       "3       39.0          27.0              12    64.0          1.68  \n",
       "4       49.0          31.0              18    63.0          1.80  \n",
       "5       57.0          37.0              20    59.0          1.69  \n",
       "6       42.0          43.0              −1    45.0          1.41  \n",
       "7       38.0          45.0              −7    43.0          1.30  \n",
       "8       40.0          35.0               5    41.0          1.32  \n",
       "9       23.0          20.0               3    29.0          1.61  \n",
       "10      30.0          43.0             −13    27.0          1.00  \n",
       "11      22.0          25.0              −3    23.0          1.35  \n",
       "12      25.0          24.0               1    21.0          1.05  \n",
       "13      14.0          20.0              −6    18.0          1.13  \n",
       "14      13.0          22.0              −9    14.0          0.93  \n",
       "15      10.0           6.0               4    12.0          2.00  \n",
       "16       7.0           9.0              −2    12.0          1.09  \n",
       "17       8.0          15.0              −7    11.0          0.85  \n",
       "18      22.0          39.0             −17    11.0          0.79  \n",
       "19       8.0           9.0              −1     8.0          1.60  \n",
       "20      11.0          14.0              −3     8.0          1.00  \n",
       "21       6.0          17.0             −11     8.0          0.80  \n",
       "22      10.0          21.0             −11     8.0          0.50  \n",
       "23       4.0           5.0              −1     7.0          1.17  \n",
       "24       1.0           1.0               0     4.0          1.33  \n",
       "25       3.0           6.0              −3     4.0          1.00  \n",
       "26       4.0          13.0              −9     4.0          0.67  \n",
       "27       1.0           3.0              −2     3.0          1.00  \n",
       "28       2.0           3.0              −1     3.0          0.75  \n",
       "29       2.0           9.0              −7     3.0          0.50  \n",
       "30       4.0           5.0              −1     2.0          0.67  \n",
       "31       2.0           7.0              −5     2.0          0.33  \n",
       "32       1.0           5.0              −4     1.0          0.33  \n",
       "33       NaN           NaN             NaN     NaN          0.00  "
      ],
      "text/html": "<div>\n<style scoped>\n    .dataframe tbody tr th:only-of-type {\n        vertical-align: middle;\n    }\n\n    .dataframe tbody tr th {\n        vertical-align: top;\n    }\n\n    .dataframe thead th {\n        text-align: right;\n    }\n</style>\n<table border=\"1\" class=\"dataframe\">\n  <thead>\n    <tr style=\"text-align: right;\">\n      <th></th>\n      <th>Rank</th>\n      <th>Team</th>\n      <th>Participations</th>\n      <th>Played</th>\n      <th>Win</th>\n      <th>Draw</th>\n      <th>Loss</th>\n      <th>Goal_For</th>\n      <th>Goal_Against</th>\n      <th>Goal_Difference</th>\n      <th>Points</th>\n      <th>Points/match</th>\n    </tr>\n  </thead>\n  <tbody>\n    <tr>\n      <th>0</th>\n      <td>1.0</td>\n      <td>Germany</td>\n      <td>12.0</td>\n      <td>49.0</td>\n      <td>26.0</td>\n      <td>12.0</td>\n      <td>11.0</td>\n      <td>72.0</td>\n      <td>48.0</td>\n      <td>24</td>\n      <td>90.0</td>\n      <td>1.84</td>\n    </tr>\n    <tr>\n      <th>1</th>\n      <td>2.0</td>\n      <td>France</td>\n      <td>9.0</td>\n      <td>39.0</td>\n      <td>20.0</td>\n      <td>9.0</td>\n      <td>10.0</td>\n      <td>62.0</td>\n      <td>44.0</td>\n      <td>18</td>\n      <td>69.0</td>\n      <td>1.77</td>\n    </tr>\n    <tr>\n      <th>2</th>\n      <td>3.0</td>\n      <td>Spain</td>\n      <td>10.0</td>\n      <td>40.0</td>\n      <td>19.0</td>\n      <td>11.0</td>\n      <td>10.0</td>\n      <td>55.0</td>\n      <td>36.0</td>\n      <td>19</td>\n      <td>68.0</td>\n      <td>1.70</td>\n    </tr>\n    <tr>\n      <th>3</th>\n      <td>4.0</td>\n      <td>Italy</td>\n      <td>9.0</td>\n      <td>38.0</td>\n      <td>16.0</td>\n      <td>16.0</td>\n      <td>6.0</td>\n      <td>39.0</td>\n      <td>27.0</td>\n      <td>12</td>\n      <td>64.0</td>\n      <td>1.68</td>\n    </tr>\n    <tr>\n      <th>4</th>\n      <td>5.0</td>\n      <td>Portugal</td>\n      <td>7.0</td>\n      <td>35.0</td>\n      <td>18.0</td>\n      <td>9.0</td>\n      <td>8.0</td>\n      <td>49.0</td>\n      <td>31.0</td>\n      <td>18</td>\n      <td>63.0</td>\n      <td>1.80</td>\n    </tr>\n    <tr>\n      <th>5</th>\n      <td>6.0</td>\n      <td>Netherlands</td>\n      <td>9.0</td>\n      <td>35.0</td>\n      <td>17.0</td>\n      <td>8.0</td>\n      <td>10.0</td>\n      <td>57.0</td>\n      <td>37.0</td>\n      <td>20</td>\n      <td>59.0</td>\n      <td>1.69</td>\n    </tr>\n    <tr>\n      <th>6</th>\n      <td>7.0</td>\n      <td>Czech Republic</td>\n      <td>9.0</td>\n      <td>32.0</td>\n      <td>13.0</td>\n      <td>6.0</td>\n      <td>13.0</td>\n      <td>42.0</td>\n      <td>43.0</td>\n      <td>−1</td>\n      <td>45.0</td>\n      <td>1.41</td>\n    </tr>\n    <tr>\n      <th>7</th>\n      <td>8.0</td>\n      <td>Russia</td>\n      <td>11.0</td>\n      <td>33.0</td>\n      <td>12.0</td>\n      <td>7.0</td>\n      <td>14.0</td>\n      <td>38.0</td>\n      <td>45.0</td>\n      <td>−7</td>\n      <td>43.0</td>\n      <td>1.30</td>\n    </tr>\n    <tr>\n      <th>8</th>\n      <td>9.0</td>\n      <td>England</td>\n      <td>9.0</td>\n      <td>31.0</td>\n      <td>10.0</td>\n      <td>11.0</td>\n      <td>10.0</td>\n      <td>40.0</td>\n      <td>35.0</td>\n      <td>5</td>\n      <td>41.0</td>\n      <td>1.32</td>\n    </tr>\n    <tr>\n      <th>9</th>\n      <td>10.0</td>\n      <td>Croatia</td>\n      <td>5.0</td>\n      <td>18.0</td>\n      <td>8.0</td>\n      <td>5.0</td>\n      <td>5.0</td>\n      <td>23.0</td>\n      <td>20.0</td>\n      <td>3</td>\n      <td>29.0</td>\n      <td>1.61</td>\n    </tr>\n    <tr>\n      <th>10</th>\n      <td>11.0</td>\n      <td>Denmark</td>\n      <td>8.0</td>\n      <td>27.0</td>\n      <td>7.0</td>\n      <td>6.0</td>\n      <td>14.0</td>\n      <td>30.0</td>\n      <td>43.0</td>\n      <td>−13</td>\n      <td>27.0</td>\n      <td>1.00</td>\n    </tr>\n    <tr>\n      <th>11</th>\n      <td>12.0</td>\n      <td>Belgium</td>\n      <td>5.0</td>\n      <td>17.0</td>\n      <td>7.0</td>\n      <td>2.0</td>\n      <td>8.0</td>\n      <td>22.0</td>\n      <td>25.0</td>\n      <td>−3</td>\n      <td>23.0</td>\n      <td>1.35</td>\n    </tr>\n    <tr>\n      <th>12</th>\n      <td>13.0</td>\n      <td>Sweden</td>\n      <td>6.0</td>\n      <td>20.0</td>\n      <td>5.0</td>\n      <td>6.0</td>\n      <td>9.0</td>\n      <td>25.0</td>\n      <td>24.0</td>\n      <td>1</td>\n      <td>21.0</td>\n      <td>1.05</td>\n    </tr>\n    <tr>\n      <th>13</th>\n      <td>14.0</td>\n      <td>Greece</td>\n      <td>4.0</td>\n      <td>16.0</td>\n      <td>5.0</td>\n      <td>3.0</td>\n      <td>8.0</td>\n      <td>14.0</td>\n      <td>20.0</td>\n      <td>−6</td>\n      <td>18.0</td>\n      <td>1.13</td>\n    </tr>\n    <tr>\n      <th>14</th>\n      <td>15.0</td>\n      <td>Turkey</td>\n      <td>4.0</td>\n      <td>15.0</td>\n      <td>4.0</td>\n      <td>2.0</td>\n      <td>9.0</td>\n      <td>13.0</td>\n      <td>22.0</td>\n      <td>−9</td>\n      <td>14.0</td>\n      <td>0.93</td>\n    </tr>\n    <tr>\n      <th>15</th>\n      <td>16.0</td>\n      <td>Wales</td>\n      <td>1.0</td>\n      <td>6.0</td>\n      <td>4.0</td>\n      <td>0.0</td>\n      <td>2.0</td>\n      <td>10.0</td>\n      <td>6.0</td>\n      <td>4</td>\n      <td>12.0</td>\n      <td>2.00</td>\n    </tr>\n    <tr>\n      <th>16</th>\n      <td>17.0</td>\n      <td>Poland</td>\n      <td>3.0</td>\n      <td>11.0</td>\n      <td>2.0</td>\n      <td>6.0</td>\n      <td>3.0</td>\n      <td>7.0</td>\n      <td>9.0</td>\n      <td>−2</td>\n      <td>12.0</td>\n      <td>1.09</td>\n    </tr>\n    <tr>\n      <th>17</th>\n      <td>18.0</td>\n      <td>Switzerland</td>\n      <td>4.0</td>\n      <td>13.0</td>\n      <td>2.0</td>\n      <td>5.0</td>\n      <td>6.0</td>\n      <td>8.0</td>\n      <td>15.0</td>\n      <td>−7</td>\n      <td>11.0</td>\n      <td>0.85</td>\n    </tr>\n    <tr>\n      <th>18</th>\n      <td>19.0</td>\n      <td>Serbia</td>\n      <td>5.0</td>\n      <td>14.0</td>\n      <td>3.0</td>\n      <td>2.0</td>\n      <td>9.0</td>\n      <td>22.0</td>\n      <td>39.0</td>\n      <td>−17</td>\n      <td>11.0</td>\n      <td>0.79</td>\n    </tr>\n    <tr>\n      <th>19</th>\n      <td>20.0</td>\n      <td>Iceland</td>\n      <td>1.0</td>\n      <td>5.0</td>\n      <td>2.0</td>\n      <td>2.0</td>\n      <td>1.0</td>\n      <td>8.0</td>\n      <td>9.0</td>\n      <td>−1</td>\n      <td>8.0</td>\n      <td>1.60</td>\n    </tr>\n    <tr>\n      <th>20</th>\n      <td>21.0</td>\n      <td>Hungary</td>\n      <td>3.0</td>\n      <td>8.0</td>\n      <td>2.0</td>\n      <td>2.0</td>\n      <td>4.0</td>\n      <td>11.0</td>\n      <td>14.0</td>\n      <td>−3</td>\n      <td>8.0</td>\n      <td>1.00</td>\n    </tr>\n    <tr>\n      <th>21</th>\n      <td>22.0</td>\n      <td>Republic of Ireland</td>\n      <td>3.0</td>\n      <td>10.0</td>\n      <td>2.0</td>\n      <td>2.0</td>\n      <td>6.0</td>\n      <td>6.0</td>\n      <td>17.0</td>\n      <td>−11</td>\n      <td>8.0</td>\n      <td>0.80</td>\n    </tr>\n    <tr>\n      <th>22</th>\n      <td>23.0</td>\n      <td>Romania</td>\n      <td>5.0</td>\n      <td>16.0</td>\n      <td>1.0</td>\n      <td>5.0</td>\n      <td>10.0</td>\n      <td>10.0</td>\n      <td>21.0</td>\n      <td>−11</td>\n      <td>8.0</td>\n      <td>0.50</td>\n    </tr>\n    <tr>\n      <th>23</th>\n      <td>24.0</td>\n      <td>Scotland</td>\n      <td>2.0</td>\n      <td>6.0</td>\n      <td>2.0</td>\n      <td>1.0</td>\n      <td>3.0</td>\n      <td>4.0</td>\n      <td>5.0</td>\n      <td>−1</td>\n      <td>7.0</td>\n      <td>1.17</td>\n    </tr>\n    <tr>\n      <th>24</th>\n      <td>25.0</td>\n      <td>Norway</td>\n      <td>1.0</td>\n      <td>3.0</td>\n      <td>1.0</td>\n      <td>1.0</td>\n      <td>1.0</td>\n      <td>1.0</td>\n      <td>1.0</td>\n      <td>0</td>\n      <td>4.0</td>\n      <td>1.33</td>\n    </tr>\n    <tr>\n      <th>25</th>\n      <td>26.0</td>\n      <td>Slovakia</td>\n      <td>1.0</td>\n      <td>4.0</td>\n      <td>1.0</td>\n      <td>1.0</td>\n      <td>2.0</td>\n      <td>3.0</td>\n      <td>6.0</td>\n      <td>−3</td>\n      <td>4.0</td>\n      <td>1.00</td>\n    </tr>\n    <tr>\n      <th>26</th>\n      <td>27.0</td>\n      <td>Bulgaria</td>\n      <td>2.0</td>\n      <td>6.0</td>\n      <td>1.0</td>\n      <td>1.0</td>\n      <td>4.0</td>\n      <td>4.0</td>\n      <td>13.0</td>\n      <td>−9</td>\n      <td>4.0</td>\n      <td>0.67</td>\n    </tr>\n    <tr>\n      <th>27</th>\n      <td>28.0</td>\n      <td>Albania</td>\n      <td>1.0</td>\n      <td>3.0</td>\n      <td>1.0</td>\n      <td>0.0</td>\n      <td>2.0</td>\n      <td>1.0</td>\n      <td>3.0</td>\n      <td>−2</td>\n      <td>3.0</td>\n      <td>1.00</td>\n    </tr>\n    <tr>\n      <th>28</th>\n      <td>29.0</td>\n      <td>Northern Ireland</td>\n      <td>1.0</td>\n      <td>4.0</td>\n      <td>1.0</td>\n      <td>0.0</td>\n      <td>3.0</td>\n      <td>2.0</td>\n      <td>3.0</td>\n      <td>−1</td>\n      <td>3.0</td>\n      <td>0.75</td>\n    </tr>\n    <tr>\n      <th>29</th>\n      <td>30.0</td>\n      <td>Ukraine</td>\n      <td>2.0</td>\n      <td>6.0</td>\n      <td>1.0</td>\n      <td>0.0</td>\n      <td>5.0</td>\n      <td>2.0</td>\n      <td>9.0</td>\n      <td>−7</td>\n      <td>3.0</td>\n      <td>0.50</td>\n    </tr>\n    <tr>\n      <th>30</th>\n      <td>31.0</td>\n      <td>Slovenia</td>\n      <td>1.0</td>\n      <td>3.0</td>\n      <td>0.0</td>\n      <td>2.0</td>\n      <td>1.0</td>\n      <td>4.0</td>\n      <td>5.0</td>\n      <td>−1</td>\n      <td>2.0</td>\n      <td>0.67</td>\n    </tr>\n    <tr>\n      <th>31</th>\n      <td>32.0</td>\n      <td>Austria</td>\n      <td>2.0</td>\n      <td>6.0</td>\n      <td>0.0</td>\n      <td>2.0</td>\n      <td>4.0</td>\n      <td>2.0</td>\n      <td>7.0</td>\n      <td>−5</td>\n      <td>2.0</td>\n      <td>0.33</td>\n    </tr>\n    <tr>\n      <th>32</th>\n      <td>33.0</td>\n      <td>Latvia</td>\n      <td>1.0</td>\n      <td>3.0</td>\n      <td>0.0</td>\n      <td>1.0</td>\n      <td>2.0</td>\n      <td>1.0</td>\n      <td>5.0</td>\n      <td>−4</td>\n      <td>1.0</td>\n      <td>0.33</td>\n    </tr>\n    <tr>\n      <th>33</th>\n      <td>NaN</td>\n      <td>Finland</td>\n      <td>NaN</td>\n      <td>NaN</td>\n      <td>NaN</td>\n      <td>NaN</td>\n      <td>NaN</td>\n      <td>NaN</td>\n      <td>NaN</td>\n      <td>NaN</td>\n      <td>NaN</td>\n      <td>0.00</td>\n    </tr>\n  </tbody>\n</table>\n</div>"
     },
     "metadata": {},
     "execution_count": 28
    }
   ],
   "source": [
    "df_team_stats = df_team_stats.append({\"Team\":\"North Macedonia\", \"Points/match\": 0}, ignore_index=True)\n",
    "df_team_stats = df_team_stats.append({\"Team\":\"Finland\", \"Points/match\": 0}, ignore_index=True)"
   ]
  },
  {
   "cell_type": "code",
   "execution_count": 29,
   "metadata": {},
   "outputs": [
    {
     "output_type": "stream",
     "name": "stdout",
     "text": [
      "<class 'pandas.core.frame.DataFrame'>\nRangeIndex: 286 entries, 0 to 285\nData columns (total 12 columns):\n #   Column                Non-Null Count  Dtype \n---  ------                --------------  ----- \n 0   Date                  286 non-null    object\n 1   Time                  286 non-null    object\n 2   HomeTeamName          286 non-null    object\n 3   AwayTeamName          286 non-null    object\n 4   HomeTeamGoals         286 non-null    int64 \n 5   AwayTeamGoals         286 non-null    int64 \n 6   Stage                 286 non-null    object\n 7   SpecialWinConditions  33 non-null     object\n 8   Stadium               286 non-null    object\n 9   City                  286 non-null    object\n 10  Attendance            286 non-null    int64 \n 11  Year                  286 non-null    int64 \ndtypes: int64(4), object(8)\nmemory usage: 26.9+ KB\n"
     ]
    }
   ],
   "source": [
    "df_matches.info()"
   ]
  },
  {
   "cell_type": "code",
   "execution_count": 30,
   "metadata": {},
   "outputs": [
    {
     "output_type": "execute_result",
     "data": {
      "text/plain": [
       "                        Date   Time     HomeTeamName   AwayTeamName  \\\n",
       "0   6 July 1960 (1960-07-06)  20:00          France      Yugoslavia   \n",
       "1   6 July 1960 (1960-07-06)  21:30  Czechoslovakia    Soviet Union   \n",
       "2   9 July 1960 (1960-07-09)  21:30  Czechoslovakia          France   \n",
       "3  10 July 1960 (1960-07-10)  21:30    Soviet Union      Yugoslavia   \n",
       "4  17 June 1964 (1964-06-17)  20:00           Spain         Hungary   \n",
       "\n",
       "   HomeTeamGoals  AwayTeamGoals                 Stage  \\\n",
       "0              4              5           Semi-finals   \n",
       "1              0              3           Semi-finals   \n",
       "2              2              0  Third place play-off   \n",
       "3              2              1                 Final   \n",
       "4              2              1           Semi-finals   \n",
       "\n",
       "                  SpecialWinConditions            Stadium        City  \\\n",
       "0                                  NaN   Parc des Princes       Paris   \n",
       "1                                  NaN    Stade Vélodrome   Marseille   \n",
       "2                                  NaN    Stade Vélodrome   Marseille   \n",
       "3  Soviet Union  win after extra time    Parc des Princes       Paris   \n",
       "4         Spain  win after extra time   Santiago Bernabéu      Madrid   \n",
       "\n",
       "   Attendance  Year  \n",
       "0       26370  1960  \n",
       "1       25184  1960  \n",
       "2        9438  1960  \n",
       "3       17966  1960  \n",
       "4       34713  1964  "
      ],
      "text/html": "<div>\n<style scoped>\n    .dataframe tbody tr th:only-of-type {\n        vertical-align: middle;\n    }\n\n    .dataframe tbody tr th {\n        vertical-align: top;\n    }\n\n    .dataframe thead th {\n        text-align: right;\n    }\n</style>\n<table border=\"1\" class=\"dataframe\">\n  <thead>\n    <tr style=\"text-align: right;\">\n      <th></th>\n      <th>Date</th>\n      <th>Time</th>\n      <th>HomeTeamName</th>\n      <th>AwayTeamName</th>\n      <th>HomeTeamGoals</th>\n      <th>AwayTeamGoals</th>\n      <th>Stage</th>\n      <th>SpecialWinConditions</th>\n      <th>Stadium</th>\n      <th>City</th>\n      <th>Attendance</th>\n      <th>Year</th>\n    </tr>\n  </thead>\n  <tbody>\n    <tr>\n      <th>0</th>\n      <td>6 July 1960 (1960-07-06)</td>\n      <td>20:00</td>\n      <td>France</td>\n      <td>Yugoslavia</td>\n      <td>4</td>\n      <td>5</td>\n      <td>Semi-finals</td>\n      <td>NaN</td>\n      <td>Parc des Princes</td>\n      <td>Paris</td>\n      <td>26370</td>\n      <td>1960</td>\n    </tr>\n    <tr>\n      <th>1</th>\n      <td>6 July 1960 (1960-07-06)</td>\n      <td>21:30</td>\n      <td>Czechoslovakia</td>\n      <td>Soviet Union</td>\n      <td>0</td>\n      <td>3</td>\n      <td>Semi-finals</td>\n      <td>NaN</td>\n      <td>Stade Vélodrome</td>\n      <td>Marseille</td>\n      <td>25184</td>\n      <td>1960</td>\n    </tr>\n    <tr>\n      <th>2</th>\n      <td>9 July 1960 (1960-07-09)</td>\n      <td>21:30</td>\n      <td>Czechoslovakia</td>\n      <td>France</td>\n      <td>2</td>\n      <td>0</td>\n      <td>Third place play-off</td>\n      <td>NaN</td>\n      <td>Stade Vélodrome</td>\n      <td>Marseille</td>\n      <td>9438</td>\n      <td>1960</td>\n    </tr>\n    <tr>\n      <th>3</th>\n      <td>10 July 1960 (1960-07-10)</td>\n      <td>21:30</td>\n      <td>Soviet Union</td>\n      <td>Yugoslavia</td>\n      <td>2</td>\n      <td>1</td>\n      <td>Final</td>\n      <td>Soviet Union  win after extra time</td>\n      <td>Parc des Princes</td>\n      <td>Paris</td>\n      <td>17966</td>\n      <td>1960</td>\n    </tr>\n    <tr>\n      <th>4</th>\n      <td>17 June 1964 (1964-06-17)</td>\n      <td>20:00</td>\n      <td>Spain</td>\n      <td>Hungary</td>\n      <td>2</td>\n      <td>1</td>\n      <td>Semi-finals</td>\n      <td>Spain  win after extra time</td>\n      <td>Santiago Bernabéu</td>\n      <td>Madrid</td>\n      <td>34713</td>\n      <td>1964</td>\n    </tr>\n  </tbody>\n</table>\n</div>"
     },
     "metadata": {},
     "execution_count": 30
    }
   ],
   "source": [
    "df_matches.head()"
   ]
  },
  {
   "cell_type": "code",
   "execution_count": 31,
   "metadata": {},
   "outputs": [
    {
     "output_type": "execute_result",
     "data": {
      "text/plain": [
       "   Rank      Team  Participations  Played  Win  Draw  Loss  Goal_For  \\\n",
       "0     1   Germany              12      49   26    12    11        72   \n",
       "1     2    France               9      39   20     9    10        62   \n",
       "2     3     Spain              10      40   19    11    10        55   \n",
       "3     4     Italy               9      38   16    16     6        39   \n",
       "4     5  Portugal               7      35   18     9     8        49   \n",
       "\n",
       "   Goal_Against Goal_Difference  Points  Points/match  \n",
       "0            48              24      90          1.84  \n",
       "1            44              18      69          1.77  \n",
       "2            36              19      68          1.70  \n",
       "3            27              12      64          1.68  \n",
       "4            31              18      63          1.80  "
      ],
      "text/html": "<div>\n<style scoped>\n    .dataframe tbody tr th:only-of-type {\n        vertical-align: middle;\n    }\n\n    .dataframe tbody tr th {\n        vertical-align: top;\n    }\n\n    .dataframe thead th {\n        text-align: right;\n    }\n</style>\n<table border=\"1\" class=\"dataframe\">\n  <thead>\n    <tr style=\"text-align: right;\">\n      <th></th>\n      <th>Rank</th>\n      <th>Team</th>\n      <th>Participations</th>\n      <th>Played</th>\n      <th>Win</th>\n      <th>Draw</th>\n      <th>Loss</th>\n      <th>Goal_For</th>\n      <th>Goal_Against</th>\n      <th>Goal_Difference</th>\n      <th>Points</th>\n      <th>Points/match</th>\n    </tr>\n  </thead>\n  <tbody>\n    <tr>\n      <th>0</th>\n      <td>1</td>\n      <td>Germany</td>\n      <td>12</td>\n      <td>49</td>\n      <td>26</td>\n      <td>12</td>\n      <td>11</td>\n      <td>72</td>\n      <td>48</td>\n      <td>24</td>\n      <td>90</td>\n      <td>1.84</td>\n    </tr>\n    <tr>\n      <th>1</th>\n      <td>2</td>\n      <td>France</td>\n      <td>9</td>\n      <td>39</td>\n      <td>20</td>\n      <td>9</td>\n      <td>10</td>\n      <td>62</td>\n      <td>44</td>\n      <td>18</td>\n      <td>69</td>\n      <td>1.77</td>\n    </tr>\n    <tr>\n      <th>2</th>\n      <td>3</td>\n      <td>Spain</td>\n      <td>10</td>\n      <td>40</td>\n      <td>19</td>\n      <td>11</td>\n      <td>10</td>\n      <td>55</td>\n      <td>36</td>\n      <td>19</td>\n      <td>68</td>\n      <td>1.70</td>\n    </tr>\n    <tr>\n      <th>3</th>\n      <td>4</td>\n      <td>Italy</td>\n      <td>9</td>\n      <td>38</td>\n      <td>16</td>\n      <td>16</td>\n      <td>6</td>\n      <td>39</td>\n      <td>27</td>\n      <td>12</td>\n      <td>64</td>\n      <td>1.68</td>\n    </tr>\n    <tr>\n      <th>4</th>\n      <td>5</td>\n      <td>Portugal</td>\n      <td>7</td>\n      <td>35</td>\n      <td>18</td>\n      <td>9</td>\n      <td>8</td>\n      <td>49</td>\n      <td>31</td>\n      <td>18</td>\n      <td>63</td>\n      <td>1.80</td>\n    </tr>\n  </tbody>\n</table>\n</div>"
     },
     "metadata": {},
     "execution_count": 31
    }
   ],
   "source": [
    "df_team_stats.head()"
   ]
  },
  {
   "cell_type": "code",
   "execution_count": 32,
   "metadata": {},
   "outputs": [
    {
     "output_type": "execute_result",
     "data": {
      "text/plain": [
       "['Germany',\n",
       " 'France',\n",
       " 'Spain',\n",
       " 'Italy',\n",
       " 'Portugal',\n",
       " 'Netherlands',\n",
       " 'Czech Republic',\n",
       " 'Russia',\n",
       " 'England',\n",
       " 'Croatia',\n",
       " 'Denmark',\n",
       " 'Belgium',\n",
       " 'Sweden',\n",
       " 'Greece',\n",
       " 'Turkey',\n",
       " 'Wales',\n",
       " 'Poland',\n",
       " 'Switzerland',\n",
       " 'Serbia',\n",
       " 'Iceland',\n",
       " 'Hungary',\n",
       " 'Republic of Ireland',\n",
       " 'Romania',\n",
       " 'Scotland',\n",
       " 'Norway',\n",
       " 'Slovakia',\n",
       " 'Bulgaria',\n",
       " 'Albania',\n",
       " 'Northern Ireland',\n",
       " 'Ukraine',\n",
       " 'Slovenia',\n",
       " 'Austria',\n",
       " 'Latvia']"
      ]
     },
     "metadata": {},
     "execution_count": 32
    }
   ],
   "source": [
    "df_team_stats.Team.to_list()"
   ]
  },
  {
   "cell_type": "code",
   "execution_count": 33,
   "metadata": {},
   "outputs": [
    {
     "output_type": "execute_result",
     "data": {
      "text/plain": [
       "0      4\n",
       "1      0\n",
       "2      2\n",
       "3      2\n",
       "4      2\n",
       "      ..\n",
       "281    1\n",
       "282    5\n",
       "283    2\n",
       "284    0\n",
       "285    1\n",
       "Name: HomeTeamGoals, Length: 286, dtype: int64"
      ]
     },
     "metadata": {},
     "execution_count": 33
    }
   ],
   "source": [
    "df_matches.HomeTeamGoals"
   ]
  },
  {
   "cell_type": "code",
   "execution_count": 34,
   "metadata": {},
   "outputs": [
    {
     "output_type": "display_data",
     "data": {
      "text/plain": "<Figure size 432x288 with 1 Axes>",
      "image/svg+xml": "<?xml version=\"1.0\" encoding=\"utf-8\" standalone=\"no\"?>\n<!DOCTYPE svg PUBLIC \"-//W3C//DTD SVG 1.1//EN\"\n  \"http://www.w3.org/Graphics/SVG/1.1/DTD/svg11.dtd\">\n<svg height=\"264.729375pt\" version=\"1.1\" viewBox=\"0 0 431.81425 264.729375\" width=\"431.81425pt\" xmlns=\"http://www.w3.org/2000/svg\" xmlns:xlink=\"http://www.w3.org/1999/xlink\">\n <metadata>\n  <rdf:RDF xmlns:cc=\"http://creativecommons.org/ns#\" xmlns:dc=\"http://purl.org/dc/elements/1.1/\" xmlns:rdf=\"http://www.w3.org/1999/02/22-rdf-syntax-ns#\">\n   <cc:Work>\n    <dc:type rdf:resource=\"http://purl.org/dc/dcmitype/StillImage\"/>\n    <dc:date>2021-06-09T12:10:39.949673</dc:date>\n    <dc:format>image/svg+xml</dc:format>\n    <dc:creator>\n     <cc:Agent>\n      <dc:title>Matplotlib v3.4.2, https://matplotlib.org/</dc:title>\n     </cc:Agent>\n    </dc:creator>\n   </cc:Work>\n  </rdf:RDF>\n </metadata>\n <defs>\n  <style type=\"text/css\">*{stroke-linecap:butt;stroke-linejoin:round;}</style>\n </defs>\n <g id=\"figure_1\">\n  <g id=\"patch_1\">\n   <path d=\"M 0 264.729375 \nL 431.81425 264.729375 \nL 431.81425 0 \nL 0 0 \nz\n\" style=\"fill:#f0f0f0;\"/>\n  </g>\n  <g id=\"axes_1\">\n   <g id=\"patch_2\">\n    <path d=\"M 48.77425 240.48 \nL 424.61425 240.48 \nL 424.61425 7.2 \nL 48.77425 7.2 \nz\n\" style=\"fill:#f0f0f0;\"/>\n   </g>\n   <g id=\"matplotlib.axis_1\">\n    <g id=\"xtick_1\">\n     <g id=\"line2d_1\">\n      <path clip-path=\"url(#p977ba92ceb)\" d=\"M 65.857886 240.48 \nL 65.857886 7.2 \n\" style=\"fill:none;stroke:#cbcbcb;\"/>\n     </g>\n     <g id=\"line2d_2\"/>\n     <g id=\"text_1\">\n      <!-- 0 -->\n      <g transform=\"translate(61.404136 254.617813)scale(0.14 -0.14)\">\n       <defs>\n        <path d=\"M 2034 4250 \nQ 1547 4250 1301 3770 \nQ 1056 3291 1056 2328 \nQ 1056 1369 1301 889 \nQ 1547 409 2034 409 \nQ 2525 409 2770 889 \nQ 3016 1369 3016 2328 \nQ 3016 3291 2770 3770 \nQ 2525 4250 2034 4250 \nz\nM 2034 4750 \nQ 2819 4750 3233 4129 \nQ 3647 3509 3647 2328 \nQ 3647 1150 3233 529 \nQ 2819 -91 2034 -91 \nQ 1250 -91 836 529 \nQ 422 1150 422 2328 \nQ 422 3509 836 4129 \nQ 1250 4750 2034 4750 \nz\n\" id=\"DejaVuSans-30\" transform=\"scale(0.015625)\"/>\n       </defs>\n       <use xlink:href=\"#DejaVuSans-30\"/>\n      </g>\n     </g>\n    </g>\n    <g id=\"xtick_2\">\n     <g id=\"line2d_3\">\n      <path clip-path=\"url(#p977ba92ceb)\" d=\"M 122.803341 240.48 \nL 122.803341 7.2 \n\" style=\"fill:none;stroke:#cbcbcb;\"/>\n     </g>\n     <g id=\"line2d_4\"/>\n     <g id=\"text_2\">\n      <!-- 1 -->\n      <g transform=\"translate(118.349591 254.617813)scale(0.14 -0.14)\">\n       <defs>\n        <path d=\"M 794 531 \nL 1825 531 \nL 1825 4091 \nL 703 3866 \nL 703 4441 \nL 1819 4666 \nL 2450 4666 \nL 2450 531 \nL 3481 531 \nL 3481 0 \nL 794 0 \nL 794 531 \nz\n\" id=\"DejaVuSans-31\" transform=\"scale(0.015625)\"/>\n       </defs>\n       <use xlink:href=\"#DejaVuSans-31\"/>\n      </g>\n     </g>\n    </g>\n    <g id=\"xtick_3\">\n     <g id=\"line2d_5\">\n      <path clip-path=\"url(#p977ba92ceb)\" d=\"M 179.748795 240.48 \nL 179.748795 7.2 \n\" style=\"fill:none;stroke:#cbcbcb;\"/>\n     </g>\n     <g id=\"line2d_6\"/>\n     <g id=\"text_3\">\n      <!-- 2 -->\n      <g transform=\"translate(175.295045 254.617813)scale(0.14 -0.14)\">\n       <defs>\n        <path d=\"M 1228 531 \nL 3431 531 \nL 3431 0 \nL 469 0 \nL 469 531 \nQ 828 903 1448 1529 \nQ 2069 2156 2228 2338 \nQ 2531 2678 2651 2914 \nQ 2772 3150 2772 3378 \nQ 2772 3750 2511 3984 \nQ 2250 4219 1831 4219 \nQ 1534 4219 1204 4116 \nQ 875 4013 500 3803 \nL 500 4441 \nQ 881 4594 1212 4672 \nQ 1544 4750 1819 4750 \nQ 2544 4750 2975 4387 \nQ 3406 4025 3406 3419 \nQ 3406 3131 3298 2873 \nQ 3191 2616 2906 2266 \nQ 2828 2175 2409 1742 \nQ 1991 1309 1228 531 \nz\n\" id=\"DejaVuSans-32\" transform=\"scale(0.015625)\"/>\n       </defs>\n       <use xlink:href=\"#DejaVuSans-32\"/>\n      </g>\n     </g>\n    </g>\n    <g id=\"xtick_4\">\n     <g id=\"line2d_7\">\n      <path clip-path=\"url(#p977ba92ceb)\" d=\"M 236.69425 240.48 \nL 236.69425 7.2 \n\" style=\"fill:none;stroke:#cbcbcb;\"/>\n     </g>\n     <g id=\"line2d_8\"/>\n     <g id=\"text_4\">\n      <!-- 3 -->\n      <g transform=\"translate(232.2405 254.617813)scale(0.14 -0.14)\">\n       <defs>\n        <path d=\"M 2597 2516 \nQ 3050 2419 3304 2112 \nQ 3559 1806 3559 1356 \nQ 3559 666 3084 287 \nQ 2609 -91 1734 -91 \nQ 1441 -91 1130 -33 \nQ 819 25 488 141 \nL 488 750 \nQ 750 597 1062 519 \nQ 1375 441 1716 441 \nQ 2309 441 2620 675 \nQ 2931 909 2931 1356 \nQ 2931 1769 2642 2001 \nQ 2353 2234 1838 2234 \nL 1294 2234 \nL 1294 2753 \nL 1863 2753 \nQ 2328 2753 2575 2939 \nQ 2822 3125 2822 3475 \nQ 2822 3834 2567 4026 \nQ 2313 4219 1838 4219 \nQ 1578 4219 1281 4162 \nQ 984 4106 628 3988 \nL 628 4550 \nQ 988 4650 1302 4700 \nQ 1616 4750 1894 4750 \nQ 2613 4750 3031 4423 \nQ 3450 4097 3450 3541 \nQ 3450 3153 3228 2886 \nQ 3006 2619 2597 2516 \nz\n\" id=\"DejaVuSans-33\" transform=\"scale(0.015625)\"/>\n       </defs>\n       <use xlink:href=\"#DejaVuSans-33\"/>\n      </g>\n     </g>\n    </g>\n    <g id=\"xtick_5\">\n     <g id=\"line2d_9\">\n      <path clip-path=\"url(#p977ba92ceb)\" d=\"M 293.639705 240.48 \nL 293.639705 7.2 \n\" style=\"fill:none;stroke:#cbcbcb;\"/>\n     </g>\n     <g id=\"line2d_10\"/>\n     <g id=\"text_5\">\n      <!-- 4 -->\n      <g transform=\"translate(289.185955 254.617813)scale(0.14 -0.14)\">\n       <defs>\n        <path d=\"M 2419 4116 \nL 825 1625 \nL 2419 1625 \nL 2419 4116 \nz\nM 2253 4666 \nL 3047 4666 \nL 3047 1625 \nL 3713 1625 \nL 3713 1100 \nL 3047 1100 \nL 3047 0 \nL 2419 0 \nL 2419 1100 \nL 313 1100 \nL 313 1709 \nL 2253 4666 \nz\n\" id=\"DejaVuSans-34\" transform=\"scale(0.015625)\"/>\n       </defs>\n       <use xlink:href=\"#DejaVuSans-34\"/>\n      </g>\n     </g>\n    </g>\n    <g id=\"xtick_6\">\n     <g id=\"line2d_11\">\n      <path clip-path=\"url(#p977ba92ceb)\" d=\"M 350.585159 240.48 \nL 350.585159 7.2 \n\" style=\"fill:none;stroke:#cbcbcb;\"/>\n     </g>\n     <g id=\"line2d_12\"/>\n     <g id=\"text_6\">\n      <!-- 5 -->\n      <g transform=\"translate(346.131409 254.617813)scale(0.14 -0.14)\">\n       <defs>\n        <path d=\"M 691 4666 \nL 3169 4666 \nL 3169 4134 \nL 1269 4134 \nL 1269 2991 \nQ 1406 3038 1543 3061 \nQ 1681 3084 1819 3084 \nQ 2600 3084 3056 2656 \nQ 3513 2228 3513 1497 \nQ 3513 744 3044 326 \nQ 2575 -91 1722 -91 \nQ 1428 -91 1123 -41 \nQ 819 9 494 109 \nL 494 744 \nQ 775 591 1075 516 \nQ 1375 441 1709 441 \nQ 2250 441 2565 725 \nQ 2881 1009 2881 1497 \nQ 2881 1984 2565 2268 \nQ 2250 2553 1709 2553 \nQ 1456 2553 1204 2497 \nQ 953 2441 691 2322 \nL 691 4666 \nz\n\" id=\"DejaVuSans-35\" transform=\"scale(0.015625)\"/>\n       </defs>\n       <use xlink:href=\"#DejaVuSans-35\"/>\n      </g>\n     </g>\n    </g>\n    <g id=\"xtick_7\">\n     <g id=\"line2d_13\">\n      <path clip-path=\"url(#p977ba92ceb)\" d=\"M 407.530614 240.48 \nL 407.530614 7.2 \n\" style=\"fill:none;stroke:#cbcbcb;\"/>\n     </g>\n     <g id=\"line2d_14\"/>\n     <g id=\"text_7\">\n      <!-- 6 -->\n      <g transform=\"translate(403.076864 254.617813)scale(0.14 -0.14)\">\n       <defs>\n        <path d=\"M 2113 2584 \nQ 1688 2584 1439 2293 \nQ 1191 2003 1191 1497 \nQ 1191 994 1439 701 \nQ 1688 409 2113 409 \nQ 2538 409 2786 701 \nQ 3034 994 3034 1497 \nQ 3034 2003 2786 2293 \nQ 2538 2584 2113 2584 \nz\nM 3366 4563 \nL 3366 3988 \nQ 3128 4100 2886 4159 \nQ 2644 4219 2406 4219 \nQ 1781 4219 1451 3797 \nQ 1122 3375 1075 2522 \nQ 1259 2794 1537 2939 \nQ 1816 3084 2150 3084 \nQ 2853 3084 3261 2657 \nQ 3669 2231 3669 1497 \nQ 3669 778 3244 343 \nQ 2819 -91 2113 -91 \nQ 1303 -91 875 529 \nQ 447 1150 447 2328 \nQ 447 3434 972 4092 \nQ 1497 4750 2381 4750 \nQ 2619 4750 2861 4703 \nQ 3103 4656 3366 4563 \nz\n\" id=\"DejaVuSans-36\" transform=\"scale(0.015625)\"/>\n       </defs>\n       <use xlink:href=\"#DejaVuSans-36\"/>\n      </g>\n     </g>\n    </g>\n   </g>\n   <g id=\"matplotlib.axis_2\">\n    <g id=\"ytick_1\">\n     <g id=\"line2d_15\">\n      <path clip-path=\"url(#p977ba92ceb)\" d=\"M 48.77425 240.48 \nL 424.61425 240.48 \n\" style=\"fill:none;stroke:#cbcbcb;\"/>\n     </g>\n     <g id=\"line2d_16\"/>\n     <g id=\"text_8\">\n      <!-- 0 -->\n      <g transform=\"translate(36.36675 245.798906)scale(0.14 -0.14)\">\n       <use xlink:href=\"#DejaVuSans-30\"/>\n      </g>\n     </g>\n    </g>\n    <g id=\"ytick_2\">\n     <g id=\"line2d_17\">\n      <path clip-path=\"url(#p977ba92ceb)\" d=\"M 48.77425 191.651115 \nL 424.61425 191.651115 \n\" style=\"fill:none;stroke:#cbcbcb;\"/>\n     </g>\n     <g id=\"line2d_18\"/>\n     <g id=\"text_9\">\n      <!-- 20 -->\n      <g transform=\"translate(27.45925 196.970021)scale(0.14 -0.14)\">\n       <use xlink:href=\"#DejaVuSans-32\"/>\n       <use x=\"63.623047\" xlink:href=\"#DejaVuSans-30\"/>\n      </g>\n     </g>\n    </g>\n    <g id=\"ytick_3\">\n     <g id=\"line2d_19\">\n      <path clip-path=\"url(#p977ba92ceb)\" d=\"M 48.77425 142.822229 \nL 424.61425 142.822229 \n\" style=\"fill:none;stroke:#cbcbcb;\"/>\n     </g>\n     <g id=\"line2d_20\"/>\n     <g id=\"text_10\">\n      <!-- 40 -->\n      <g transform=\"translate(27.45925 148.141135)scale(0.14 -0.14)\">\n       <use xlink:href=\"#DejaVuSans-34\"/>\n       <use x=\"63.623047\" xlink:href=\"#DejaVuSans-30\"/>\n      </g>\n     </g>\n    </g>\n    <g id=\"ytick_4\">\n     <g id=\"line2d_21\">\n      <path clip-path=\"url(#p977ba92ceb)\" d=\"M 48.77425 93.993344 \nL 424.61425 93.993344 \n\" style=\"fill:none;stroke:#cbcbcb;\"/>\n     </g>\n     <g id=\"line2d_22\"/>\n     <g id=\"text_11\">\n      <!-- 60 -->\n      <g transform=\"translate(27.45925 99.31225)scale(0.14 -0.14)\">\n       <use xlink:href=\"#DejaVuSans-36\"/>\n       <use x=\"63.623047\" xlink:href=\"#DejaVuSans-30\"/>\n      </g>\n     </g>\n    </g>\n    <g id=\"ytick_5\">\n     <g id=\"line2d_23\">\n      <path clip-path=\"url(#p977ba92ceb)\" d=\"M 48.77425 45.164458 \nL 424.61425 45.164458 \n\" style=\"fill:none;stroke:#cbcbcb;\"/>\n     </g>\n     <g id=\"line2d_24\"/>\n     <g id=\"text_12\">\n      <!-- 80 -->\n      <g transform=\"translate(27.45925 50.483365)scale(0.14 -0.14)\">\n       <defs>\n        <path d=\"M 2034 2216 \nQ 1584 2216 1326 1975 \nQ 1069 1734 1069 1313 \nQ 1069 891 1326 650 \nQ 1584 409 2034 409 \nQ 2484 409 2743 651 \nQ 3003 894 3003 1313 \nQ 3003 1734 2745 1975 \nQ 2488 2216 2034 2216 \nz\nM 1403 2484 \nQ 997 2584 770 2862 \nQ 544 3141 544 3541 \nQ 544 4100 942 4425 \nQ 1341 4750 2034 4750 \nQ 2731 4750 3128 4425 \nQ 3525 4100 3525 3541 \nQ 3525 3141 3298 2862 \nQ 3072 2584 2669 2484 \nQ 3125 2378 3379 2068 \nQ 3634 1759 3634 1313 \nQ 3634 634 3220 271 \nQ 2806 -91 2034 -91 \nQ 1263 -91 848 271 \nQ 434 634 434 1313 \nQ 434 1759 690 2068 \nQ 947 2378 1403 2484 \nz\nM 1172 3481 \nQ 1172 3119 1398 2916 \nQ 1625 2713 2034 2713 \nQ 2441 2713 2670 2916 \nQ 2900 3119 2900 3481 \nQ 2900 3844 2670 4047 \nQ 2441 4250 2034 4250 \nQ 1625 4250 1398 4047 \nQ 1172 3844 1172 3481 \nz\n\" id=\"DejaVuSans-38\" transform=\"scale(0.015625)\"/>\n       </defs>\n       <use xlink:href=\"#DejaVuSans-38\"/>\n       <use x=\"63.623047\" xlink:href=\"#DejaVuSans-30\"/>\n      </g>\n     </g>\n    </g>\n    <g id=\"text_13\">\n     <!-- Frequency -->\n     <g transform=\"translate(19.965375 167.233875)rotate(-90)scale(0.168 -0.168)\">\n      <defs>\n       <path d=\"M 628 4666 \nL 3309 4666 \nL 3309 4134 \nL 1259 4134 \nL 1259 2759 \nL 3109 2759 \nL 3109 2228 \nL 1259 2228 \nL 1259 0 \nL 628 0 \nL 628 4666 \nz\n\" id=\"DejaVuSans-46\" transform=\"scale(0.015625)\"/>\n       <path d=\"M 2631 2963 \nQ 2534 3019 2420 3045 \nQ 2306 3072 2169 3072 \nQ 1681 3072 1420 2755 \nQ 1159 2438 1159 1844 \nL 1159 0 \nL 581 0 \nL 581 3500 \nL 1159 3500 \nL 1159 2956 \nQ 1341 3275 1631 3429 \nQ 1922 3584 2338 3584 \nQ 2397 3584 2469 3576 \nQ 2541 3569 2628 3553 \nL 2631 2963 \nz\n\" id=\"DejaVuSans-72\" transform=\"scale(0.015625)\"/>\n       <path d=\"M 3597 1894 \nL 3597 1613 \nL 953 1613 \nQ 991 1019 1311 708 \nQ 1631 397 2203 397 \nQ 2534 397 2845 478 \nQ 3156 559 3463 722 \nL 3463 178 \nQ 3153 47 2828 -22 \nQ 2503 -91 2169 -91 \nQ 1331 -91 842 396 \nQ 353 884 353 1716 \nQ 353 2575 817 3079 \nQ 1281 3584 2069 3584 \nQ 2775 3584 3186 3129 \nQ 3597 2675 3597 1894 \nz\nM 3022 2063 \nQ 3016 2534 2758 2815 \nQ 2500 3097 2075 3097 \nQ 1594 3097 1305 2825 \nQ 1016 2553 972 2059 \nL 3022 2063 \nz\n\" id=\"DejaVuSans-65\" transform=\"scale(0.015625)\"/>\n       <path d=\"M 947 1747 \nQ 947 1113 1208 752 \nQ 1469 391 1925 391 \nQ 2381 391 2643 752 \nQ 2906 1113 2906 1747 \nQ 2906 2381 2643 2742 \nQ 2381 3103 1925 3103 \nQ 1469 3103 1208 2742 \nQ 947 2381 947 1747 \nz\nM 2906 525 \nQ 2725 213 2448 61 \nQ 2172 -91 1784 -91 \nQ 1150 -91 751 415 \nQ 353 922 353 1747 \nQ 353 2572 751 3078 \nQ 1150 3584 1784 3584 \nQ 2172 3584 2448 3432 \nQ 2725 3281 2906 2969 \nL 2906 3500 \nL 3481 3500 \nL 3481 -1331 \nL 2906 -1331 \nL 2906 525 \nz\n\" id=\"DejaVuSans-71\" transform=\"scale(0.015625)\"/>\n       <path d=\"M 544 1381 \nL 544 3500 \nL 1119 3500 \nL 1119 1403 \nQ 1119 906 1312 657 \nQ 1506 409 1894 409 \nQ 2359 409 2629 706 \nQ 2900 1003 2900 1516 \nL 2900 3500 \nL 3475 3500 \nL 3475 0 \nL 2900 0 \nL 2900 538 \nQ 2691 219 2414 64 \nQ 2138 -91 1772 -91 \nQ 1169 -91 856 284 \nQ 544 659 544 1381 \nz\nM 1991 3584 \nL 1991 3584 \nz\n\" id=\"DejaVuSans-75\" transform=\"scale(0.015625)\"/>\n       <path d=\"M 3513 2113 \nL 3513 0 \nL 2938 0 \nL 2938 2094 \nQ 2938 2591 2744 2837 \nQ 2550 3084 2163 3084 \nQ 1697 3084 1428 2787 \nQ 1159 2491 1159 1978 \nL 1159 0 \nL 581 0 \nL 581 3500 \nL 1159 3500 \nL 1159 2956 \nQ 1366 3272 1645 3428 \nQ 1925 3584 2291 3584 \nQ 2894 3584 3203 3211 \nQ 3513 2838 3513 2113 \nz\n\" id=\"DejaVuSans-6e\" transform=\"scale(0.015625)\"/>\n       <path d=\"M 3122 3366 \nL 3122 2828 \nQ 2878 2963 2633 3030 \nQ 2388 3097 2138 3097 \nQ 1578 3097 1268 2742 \nQ 959 2388 959 1747 \nQ 959 1106 1268 751 \nQ 1578 397 2138 397 \nQ 2388 397 2633 464 \nQ 2878 531 3122 666 \nL 3122 134 \nQ 2881 22 2623 -34 \nQ 2366 -91 2075 -91 \nQ 1284 -91 818 406 \nQ 353 903 353 1747 \nQ 353 2603 823 3093 \nQ 1294 3584 2113 3584 \nQ 2378 3584 2631 3529 \nQ 2884 3475 3122 3366 \nz\n\" id=\"DejaVuSans-63\" transform=\"scale(0.015625)\"/>\n       <path d=\"M 2059 -325 \nQ 1816 -950 1584 -1140 \nQ 1353 -1331 966 -1331 \nL 506 -1331 \nL 506 -850 \nL 844 -850 \nQ 1081 -850 1212 -737 \nQ 1344 -625 1503 -206 \nL 1606 56 \nL 191 3500 \nL 800 3500 \nL 1894 763 \nL 2988 3500 \nL 3597 3500 \nL 2059 -325 \nz\n\" id=\"DejaVuSans-79\" transform=\"scale(0.015625)\"/>\n      </defs>\n      <use xlink:href=\"#DejaVuSans-46\"/>\n      <use x=\"50.269531\" xlink:href=\"#DejaVuSans-72\"/>\n      <use x=\"89.132812\" xlink:href=\"#DejaVuSans-65\"/>\n      <use x=\"150.65625\" xlink:href=\"#DejaVuSans-71\"/>\n      <use x=\"214.132812\" xlink:href=\"#DejaVuSans-75\"/>\n      <use x=\"277.511719\" xlink:href=\"#DejaVuSans-65\"/>\n      <use x=\"339.035156\" xlink:href=\"#DejaVuSans-6e\"/>\n      <use x=\"402.414062\" xlink:href=\"#DejaVuSans-63\"/>\n      <use x=\"457.394531\" xlink:href=\"#DejaVuSans-79\"/>\n     </g>\n    </g>\n   </g>\n   <g id=\"patch_3\">\n    <path clip-path=\"url(#p977ba92ceb)\" d=\"M 65.857886 240.48 \nL 100.025159 240.48 \nL 100.025159 32.957237 \nL 65.857886 32.957237 \nz\n\" style=\"fill:#008fd5;\"/>\n   </g>\n   <g id=\"patch_4\">\n    <path clip-path=\"url(#p977ba92ceb)\" d=\"M 100.025159 240.48 \nL 134.192432 240.48 \nL 134.192432 18.308571 \nL 100.025159 18.308571 \nz\n\" style=\"fill:#008fd5;\"/>\n   </g>\n   <g id=\"patch_5\">\n    <path clip-path=\"url(#p977ba92ceb)\" d=\"M 134.192432 240.48 \nL 168.359705 240.48 \nL 168.359705 240.48 \nL 134.192432 240.48 \nz\n\" style=\"fill:#008fd5;\"/>\n   </g>\n   <g id=\"patch_6\">\n    <path clip-path=\"url(#p977ba92ceb)\" d=\"M 168.359705 240.48 \nL 202.526977 240.48 \nL 202.526977 72.020345 \nL 168.359705 72.020345 \nz\n\" style=\"fill:#008fd5;\"/>\n   </g>\n   <g id=\"patch_7\">\n    <path clip-path=\"url(#p977ba92ceb)\" d=\"M 202.526977 240.48 \nL 236.69425 240.48 \nL 236.69425 240.48 \nL 202.526977 240.48 \nz\n\" style=\"fill:#008fd5;\"/>\n   </g>\n   <g id=\"patch_8\">\n    <path clip-path=\"url(#p977ba92ceb)\" d=\"M 236.69425 240.48 \nL 270.861523 240.48 \nL 270.861523 169.678116 \nL 236.69425 169.678116 \nz\n\" style=\"fill:#008fd5;\"/>\n   </g>\n   <g id=\"patch_9\">\n    <path clip-path=\"url(#p977ba92ceb)\" d=\"M 270.861523 240.48 \nL 305.028795 240.48 \nL 305.028795 223.38989 \nL 270.861523 223.38989 \nz\n\" style=\"fill:#008fd5;\"/>\n   </g>\n   <g id=\"patch_10\">\n    <path clip-path=\"url(#p977ba92ceb)\" d=\"M 305.028795 240.48 \nL 339.196068 240.48 \nL 339.196068 240.48 \nL 305.028795 240.48 \nz\n\" style=\"fill:#008fd5;\"/>\n   </g>\n   <g id=\"patch_11\">\n    <path clip-path=\"url(#p977ba92ceb)\" d=\"M 339.196068 240.48 \nL 373.363341 240.48 \nL 373.363341 230.714223 \nL 339.196068 230.714223 \nz\n\" style=\"fill:#008fd5;\"/>\n   </g>\n   <g id=\"patch_12\">\n    <path clip-path=\"url(#p977ba92ceb)\" d=\"M 373.363341 240.48 \nL 407.530614 240.48 \nL 407.530614 238.038556 \nL 373.363341 238.038556 \nz\n\" style=\"fill:#008fd5;\"/>\n   </g>\n   <g id=\"patch_13\">\n    <path d=\"M 48.77425 240.48 \nL 48.77425 7.2 \n\" style=\"fill:none;stroke:#f0f0f0;stroke-linecap:square;stroke-linejoin:miter;stroke-width:3;\"/>\n   </g>\n   <g id=\"patch_14\">\n    <path d=\"M 424.61425 240.48 \nL 424.61425 7.2 \n\" style=\"fill:none;stroke:#f0f0f0;stroke-linecap:square;stroke-linejoin:miter;stroke-width:3;\"/>\n   </g>\n   <g id=\"patch_15\">\n    <path d=\"M 48.77425 240.48 \nL 424.61425 240.48 \n\" style=\"fill:none;stroke:#f0f0f0;stroke-linecap:square;stroke-linejoin:miter;stroke-width:3;\"/>\n   </g>\n   <g id=\"patch_16\">\n    <path d=\"M 48.77425 7.2 \nL 424.61425 7.2 \n\" style=\"fill:none;stroke:#f0f0f0;stroke-linecap:square;stroke-linejoin:miter;stroke-width:3;\"/>\n   </g>\n  </g>\n </g>\n <defs>\n  <clipPath id=\"p977ba92ceb\">\n   <rect height=\"233.28\" width=\"375.84\" x=\"48.77425\" y=\"7.2\"/>\n  </clipPath>\n </defs>\n</svg>\n",
      "image/png": "[encoded data removed]"
     },
     "metadata": {}
    }
   ],
   "source": [
    "df_matches.HomeTeamGoals.plot(kind=\"hist\");"
   ]
  },
  {
   "cell_type": "code",
   "execution_count": 35,
   "metadata": {},
   "outputs": [
    {
     "output_type": "display_data",
     "data": {
      "text/plain": "<Figure size 432x288 with 1 Axes>",
      "image/svg+xml": "<?xml version=\"1.0\" encoding=\"utf-8\" standalone=\"no\"?>\n<!DOCTYPE svg PUBLIC \"-//W3C//DTD SVG 1.1//EN\"\n  \"http://www.w3.org/Graphics/SVG/1.1/DTD/svg11.dtd\">\n<svg height=\"264.729375pt\" version=\"1.1\" viewBox=\"0 0 440.72175 264.729375\" width=\"440.72175pt\" xmlns=\"http://www.w3.org/2000/svg\" xmlns:xlink=\"http://www.w3.org/1999/xlink\">\n <metadata>\n  <rdf:RDF xmlns:cc=\"http://creativecommons.org/ns#\" xmlns:dc=\"http://purl.org/dc/elements/1.1/\" xmlns:rdf=\"http://www.w3.org/1999/02/22-rdf-syntax-ns#\">\n   <cc:Work>\n    <dc:type rdf:resource=\"http://purl.org/dc/dcmitype/StillImage\"/>\n    <dc:date>2021-06-09T12:10:40.288768</dc:date>\n    <dc:format>image/svg+xml</dc:format>\n    <dc:creator>\n     <cc:Agent>\n      <dc:title>Matplotlib v3.4.2, https://matplotlib.org/</dc:title>\n     </cc:Agent>\n    </dc:creator>\n   </cc:Work>\n  </rdf:RDF>\n </metadata>\n <defs>\n  <style type=\"text/css\">*{stroke-linecap:butt;stroke-linejoin:round;}</style>\n </defs>\n <g id=\"figure_1\">\n  <g id=\"patch_1\">\n   <path d=\"M 0 264.729375 \nL 440.72175 264.729375 \nL 440.72175 0 \nL 0 0 \nz\n\" style=\"fill:#f0f0f0;\"/>\n  </g>\n  <g id=\"axes_1\">\n   <g id=\"patch_2\">\n    <path d=\"M 57.68175 240.48 \nL 433.52175 240.48 \nL 433.52175 7.2 \nL 57.68175 7.2 \nz\n\" style=\"fill:#f0f0f0;\"/>\n   </g>\n   <g id=\"matplotlib.axis_1\">\n    <g id=\"xtick_1\">\n     <g id=\"line2d_1\">\n      <path clip-path=\"url(#pfd40ba3c1a)\" d=\"M 74.765386 240.48 \nL 74.765386 7.2 \n\" style=\"fill:none;stroke:#cbcbcb;\"/>\n     </g>\n     <g id=\"line2d_2\"/>\n     <g id=\"text_1\">\n      <!-- 0 -->\n      <g transform=\"translate(70.311636 254.617813)scale(0.14 -0.14)\">\n       <defs>\n        <path d=\"M 2034 4250 \nQ 1547 4250 1301 3770 \nQ 1056 3291 1056 2328 \nQ 1056 1369 1301 889 \nQ 1547 409 2034 409 \nQ 2525 409 2770 889 \nQ 3016 1369 3016 2328 \nQ 3016 3291 2770 3770 \nQ 2525 4250 2034 4250 \nz\nM 2034 4750 \nQ 2819 4750 3233 4129 \nQ 3647 3509 3647 2328 \nQ 3647 1150 3233 529 \nQ 2819 -91 2034 -91 \nQ 1250 -91 836 529 \nQ 422 1150 422 2328 \nQ 422 3509 836 4129 \nQ 1250 4750 2034 4750 \nz\n\" id=\"DejaVuSans-30\" transform=\"scale(0.015625)\"/>\n       </defs>\n       <use xlink:href=\"#DejaVuSans-30\"/>\n      </g>\n     </g>\n    </g>\n    <g id=\"xtick_2\">\n     <g id=\"line2d_3\">\n      <path clip-path=\"url(#pfd40ba3c1a)\" d=\"M 143.099932 240.48 \nL 143.099932 7.2 \n\" style=\"fill:none;stroke:#cbcbcb;\"/>\n     </g>\n     <g id=\"line2d_4\"/>\n     <g id=\"text_2\">\n      <!-- 1 -->\n      <g transform=\"translate(138.646182 254.617813)scale(0.14 -0.14)\">\n       <defs>\n        <path d=\"M 794 531 \nL 1825 531 \nL 1825 4091 \nL 703 3866 \nL 703 4441 \nL 1819 4666 \nL 2450 4666 \nL 2450 531 \nL 3481 531 \nL 3481 0 \nL 794 0 \nL 794 531 \nz\n\" id=\"DejaVuSans-31\" transform=\"scale(0.015625)\"/>\n       </defs>\n       <use xlink:href=\"#DejaVuSans-31\"/>\n      </g>\n     </g>\n    </g>\n    <g id=\"xtick_3\">\n     <g id=\"line2d_5\">\n      <path clip-path=\"url(#pfd40ba3c1a)\" d=\"M 211.434477 240.48 \nL 211.434477 7.2 \n\" style=\"fill:none;stroke:#cbcbcb;\"/>\n     </g>\n     <g id=\"line2d_6\"/>\n     <g id=\"text_3\">\n      <!-- 2 -->\n      <g transform=\"translate(206.980727 254.617813)scale(0.14 -0.14)\">\n       <defs>\n        <path d=\"M 1228 531 \nL 3431 531 \nL 3431 0 \nL 469 0 \nL 469 531 \nQ 828 903 1448 1529 \nQ 2069 2156 2228 2338 \nQ 2531 2678 2651 2914 \nQ 2772 3150 2772 3378 \nQ 2772 3750 2511 3984 \nQ 2250 4219 1831 4219 \nQ 1534 4219 1204 4116 \nQ 875 4013 500 3803 \nL 500 4441 \nQ 881 4594 1212 4672 \nQ 1544 4750 1819 4750 \nQ 2544 4750 2975 4387 \nQ 3406 4025 3406 3419 \nQ 3406 3131 3298 2873 \nQ 3191 2616 2906 2266 \nQ 2828 2175 2409 1742 \nQ 1991 1309 1228 531 \nz\n\" id=\"DejaVuSans-32\" transform=\"scale(0.015625)\"/>\n       </defs>\n       <use xlink:href=\"#DejaVuSans-32\"/>\n      </g>\n     </g>\n    </g>\n    <g id=\"xtick_4\">\n     <g id=\"line2d_7\">\n      <path clip-path=\"url(#pfd40ba3c1a)\" d=\"M 279.769023 240.48 \nL 279.769023 7.2 \n\" style=\"fill:none;stroke:#cbcbcb;\"/>\n     </g>\n     <g id=\"line2d_8\"/>\n     <g id=\"text_4\">\n      <!-- 3 -->\n      <g transform=\"translate(275.315273 254.617813)scale(0.14 -0.14)\">\n       <defs>\n        <path d=\"M 2597 2516 \nQ 3050 2419 3304 2112 \nQ 3559 1806 3559 1356 \nQ 3559 666 3084 287 \nQ 2609 -91 1734 -91 \nQ 1441 -91 1130 -33 \nQ 819 25 488 141 \nL 488 750 \nQ 750 597 1062 519 \nQ 1375 441 1716 441 \nQ 2309 441 2620 675 \nQ 2931 909 2931 1356 \nQ 2931 1769 2642 2001 \nQ 2353 2234 1838 2234 \nL 1294 2234 \nL 1294 2753 \nL 1863 2753 \nQ 2328 2753 2575 2939 \nQ 2822 3125 2822 3475 \nQ 2822 3834 2567 4026 \nQ 2313 4219 1838 4219 \nQ 1578 4219 1281 4162 \nQ 984 4106 628 3988 \nL 628 4550 \nQ 988 4650 1302 4700 \nQ 1616 4750 1894 4750 \nQ 2613 4750 3031 4423 \nQ 3450 4097 3450 3541 \nQ 3450 3153 3228 2886 \nQ 3006 2619 2597 2516 \nz\n\" id=\"DejaVuSans-33\" transform=\"scale(0.015625)\"/>\n       </defs>\n       <use xlink:href=\"#DejaVuSans-33\"/>\n      </g>\n     </g>\n    </g>\n    <g id=\"xtick_5\">\n     <g id=\"line2d_9\">\n      <path clip-path=\"url(#pfd40ba3c1a)\" d=\"M 348.103568 240.48 \nL 348.103568 7.2 \n\" style=\"fill:none;stroke:#cbcbcb;\"/>\n     </g>\n     <g id=\"line2d_10\"/>\n     <g id=\"text_5\">\n      <!-- 4 -->\n      <g transform=\"translate(343.649818 254.617813)scale(0.14 -0.14)\">\n       <defs>\n        <path d=\"M 2419 4116 \nL 825 1625 \nL 2419 1625 \nL 2419 4116 \nz\nM 2253 4666 \nL 3047 4666 \nL 3047 1625 \nL 3713 1625 \nL 3713 1100 \nL 3047 1100 \nL 3047 0 \nL 2419 0 \nL 2419 1100 \nL 313 1100 \nL 313 1709 \nL 2253 4666 \nz\n\" id=\"DejaVuSans-34\" transform=\"scale(0.015625)\"/>\n       </defs>\n       <use xlink:href=\"#DejaVuSans-34\"/>\n      </g>\n     </g>\n    </g>\n    <g id=\"xtick_6\">\n     <g id=\"line2d_11\">\n      <path clip-path=\"url(#pfd40ba3c1a)\" d=\"M 416.438114 240.48 \nL 416.438114 7.2 \n\" style=\"fill:none;stroke:#cbcbcb;\"/>\n     </g>\n     <g id=\"line2d_12\"/>\n     <g id=\"text_6\">\n      <!-- 5 -->\n      <g transform=\"translate(411.984364 254.617813)scale(0.14 -0.14)\">\n       <defs>\n        <path d=\"M 691 4666 \nL 3169 4666 \nL 3169 4134 \nL 1269 4134 \nL 1269 2991 \nQ 1406 3038 1543 3061 \nQ 1681 3084 1819 3084 \nQ 2600 3084 3056 2656 \nQ 3513 2228 3513 1497 \nQ 3513 744 3044 326 \nQ 2575 -91 1722 -91 \nQ 1428 -91 1123 -41 \nQ 819 9 494 109 \nL 494 744 \nQ 775 591 1075 516 \nQ 1375 441 1709 441 \nQ 2250 441 2565 725 \nQ 2881 1009 2881 1497 \nQ 2881 1984 2565 2268 \nQ 2250 2553 1709 2553 \nQ 1456 2553 1204 2497 \nQ 953 2441 691 2322 \nL 691 4666 \nz\n\" id=\"DejaVuSans-35\" transform=\"scale(0.015625)\"/>\n       </defs>\n       <use xlink:href=\"#DejaVuSans-35\"/>\n      </g>\n     </g>\n    </g>\n   </g>\n   <g id=\"matplotlib.axis_2\">\n    <g id=\"ytick_1\">\n     <g id=\"line2d_13\">\n      <path clip-path=\"url(#pfd40ba3c1a)\" d=\"M 57.68175 240.48 \nL 433.52175 240.48 \n\" style=\"fill:none;stroke:#cbcbcb;\"/>\n     </g>\n     <g id=\"line2d_14\"/>\n     <g id=\"text_7\">\n      <!-- 0 -->\n      <g transform=\"translate(45.27425 245.798906)scale(0.14 -0.14)\">\n       <use xlink:href=\"#DejaVuSans-30\"/>\n      </g>\n     </g>\n    </g>\n    <g id=\"ytick_2\">\n     <g id=\"line2d_15\">\n      <path clip-path=\"url(#pfd40ba3c1a)\" d=\"M 57.68175 197.754725 \nL 433.52175 197.754725 \n\" style=\"fill:none;stroke:#cbcbcb;\"/>\n     </g>\n     <g id=\"line2d_16\"/>\n     <g id=\"text_8\">\n      <!-- 20 -->\n      <g transform=\"translate(36.36675 203.073632)scale(0.14 -0.14)\">\n       <use xlink:href=\"#DejaVuSans-32\"/>\n       <use x=\"63.623047\" xlink:href=\"#DejaVuSans-30\"/>\n      </g>\n     </g>\n    </g>\n    <g id=\"ytick_3\">\n     <g id=\"line2d_17\">\n      <path clip-path=\"url(#pfd40ba3c1a)\" d=\"M 57.68175 155.029451 \nL 433.52175 155.029451 \n\" style=\"fill:none;stroke:#cbcbcb;\"/>\n     </g>\n     <g id=\"line2d_18\"/>\n     <g id=\"text_9\">\n      <!-- 40 -->\n      <g transform=\"translate(36.36675 160.348357)scale(0.14 -0.14)\">\n       <use xlink:href=\"#DejaVuSans-34\"/>\n       <use x=\"63.623047\" xlink:href=\"#DejaVuSans-30\"/>\n      </g>\n     </g>\n    </g>\n    <g id=\"ytick_4\">\n     <g id=\"line2d_19\">\n      <path clip-path=\"url(#pfd40ba3c1a)\" d=\"M 57.68175 112.304176 \nL 433.52175 112.304176 \n\" style=\"fill:none;stroke:#cbcbcb;\"/>\n     </g>\n     <g id=\"line2d_20\"/>\n     <g id=\"text_10\">\n      <!-- 60 -->\n      <g transform=\"translate(36.36675 117.623082)scale(0.14 -0.14)\">\n       <defs>\n        <path d=\"M 2113 2584 \nQ 1688 2584 1439 2293 \nQ 1191 2003 1191 1497 \nQ 1191 994 1439 701 \nQ 1688 409 2113 409 \nQ 2538 409 2786 701 \nQ 3034 994 3034 1497 \nQ 3034 2003 2786 2293 \nQ 2538 2584 2113 2584 \nz\nM 3366 4563 \nL 3366 3988 \nQ 3128 4100 2886 4159 \nQ 2644 4219 2406 4219 \nQ 1781 4219 1451 3797 \nQ 1122 3375 1075 2522 \nQ 1259 2794 1537 2939 \nQ 1816 3084 2150 3084 \nQ 2853 3084 3261 2657 \nQ 3669 2231 3669 1497 \nQ 3669 778 3244 343 \nQ 2819 -91 2113 -91 \nQ 1303 -91 875 529 \nQ 447 1150 447 2328 \nQ 447 3434 972 4092 \nQ 1497 4750 2381 4750 \nQ 2619 4750 2861 4703 \nQ 3103 4656 3366 4563 \nz\n\" id=\"DejaVuSans-36\" transform=\"scale(0.015625)\"/>\n       </defs>\n       <use xlink:href=\"#DejaVuSans-36\"/>\n       <use x=\"63.623047\" xlink:href=\"#DejaVuSans-30\"/>\n      </g>\n     </g>\n    </g>\n    <g id=\"ytick_5\">\n     <g id=\"line2d_21\">\n      <path clip-path=\"url(#pfd40ba3c1a)\" d=\"M 57.68175 69.578901 \nL 433.52175 69.578901 \n\" style=\"fill:none;stroke:#cbcbcb;\"/>\n     </g>\n     <g id=\"line2d_22\"/>\n     <g id=\"text_11\">\n      <!-- 80 -->\n      <g transform=\"translate(36.36675 74.897807)scale(0.14 -0.14)\">\n       <defs>\n        <path d=\"M 2034 2216 \nQ 1584 2216 1326 1975 \nQ 1069 1734 1069 1313 \nQ 1069 891 1326 650 \nQ 1584 409 2034 409 \nQ 2484 409 2743 651 \nQ 3003 894 3003 1313 \nQ 3003 1734 2745 1975 \nQ 2488 2216 2034 2216 \nz\nM 1403 2484 \nQ 997 2584 770 2862 \nQ 544 3141 544 3541 \nQ 544 4100 942 4425 \nQ 1341 4750 2034 4750 \nQ 2731 4750 3128 4425 \nQ 3525 4100 3525 3541 \nQ 3525 3141 3298 2862 \nQ 3072 2584 2669 2484 \nQ 3125 2378 3379 2068 \nQ 3634 1759 3634 1313 \nQ 3634 634 3220 271 \nQ 2806 -91 2034 -91 \nQ 1263 -91 848 271 \nQ 434 634 434 1313 \nQ 434 1759 690 2068 \nQ 947 2378 1403 2484 \nz\nM 1172 3481 \nQ 1172 3119 1398 2916 \nQ 1625 2713 2034 2713 \nQ 2441 2713 2670 2916 \nQ 2900 3119 2900 3481 \nQ 2900 3844 2670 4047 \nQ 2441 4250 2034 4250 \nQ 1625 4250 1398 4047 \nQ 1172 3844 1172 3481 \nz\n\" id=\"DejaVuSans-38\" transform=\"scale(0.015625)\"/>\n       </defs>\n       <use xlink:href=\"#DejaVuSans-38\"/>\n       <use x=\"63.623047\" xlink:href=\"#DejaVuSans-30\"/>\n      </g>\n     </g>\n    </g>\n    <g id=\"ytick_6\">\n     <g id=\"line2d_23\">\n      <path clip-path=\"url(#pfd40ba3c1a)\" d=\"M 57.68175 26.853626 \nL 433.52175 26.853626 \n\" style=\"fill:none;stroke:#cbcbcb;\"/>\n     </g>\n     <g id=\"line2d_24\"/>\n     <g id=\"text_12\">\n      <!-- 100 -->\n      <g transform=\"translate(27.45925 32.172533)scale(0.14 -0.14)\">\n       <use xlink:href=\"#DejaVuSans-31\"/>\n       <use x=\"63.623047\" xlink:href=\"#DejaVuSans-30\"/>\n       <use x=\"127.246094\" xlink:href=\"#DejaVuSans-30\"/>\n      </g>\n     </g>\n    </g>\n    <g id=\"text_13\">\n     <!-- Frequency -->\n     <g transform=\"translate(19.965375 167.233875)rotate(-90)scale(0.168 -0.168)\">\n      <defs>\n       <path d=\"M 628 4666 \nL 3309 4666 \nL 3309 4134 \nL 1259 4134 \nL 1259 2759 \nL 3109 2759 \nL 3109 2228 \nL 1259 2228 \nL 1259 0 \nL 628 0 \nL 628 4666 \nz\n\" id=\"DejaVuSans-46\" transform=\"scale(0.015625)\"/>\n       <path d=\"M 2631 2963 \nQ 2534 3019 2420 3045 \nQ 2306 3072 2169 3072 \nQ 1681 3072 1420 2755 \nQ 1159 2438 1159 1844 \nL 1159 0 \nL 581 0 \nL 581 3500 \nL 1159 3500 \nL 1159 2956 \nQ 1341 3275 1631 3429 \nQ 1922 3584 2338 3584 \nQ 2397 3584 2469 3576 \nQ 2541 3569 2628 3553 \nL 2631 2963 \nz\n\" id=\"DejaVuSans-72\" transform=\"scale(0.015625)\"/>\n       <path d=\"M 3597 1894 \nL 3597 1613 \nL 953 1613 \nQ 991 1019 1311 708 \nQ 1631 397 2203 397 \nQ 2534 397 2845 478 \nQ 3156 559 3463 722 \nL 3463 178 \nQ 3153 47 2828 -22 \nQ 2503 -91 2169 -91 \nQ 1331 -91 842 396 \nQ 353 884 353 1716 \nQ 353 2575 817 3079 \nQ 1281 3584 2069 3584 \nQ 2775 3584 3186 3129 \nQ 3597 2675 3597 1894 \nz\nM 3022 2063 \nQ 3016 2534 2758 2815 \nQ 2500 3097 2075 3097 \nQ 1594 3097 1305 2825 \nQ 1016 2553 972 2059 \nL 3022 2063 \nz\n\" id=\"DejaVuSans-65\" transform=\"scale(0.015625)\"/>\n       <path d=\"M 947 1747 \nQ 947 1113 1208 752 \nQ 1469 391 1925 391 \nQ 2381 391 2643 752 \nQ 2906 1113 2906 1747 \nQ 2906 2381 2643 2742 \nQ 2381 3103 1925 3103 \nQ 1469 3103 1208 2742 \nQ 947 2381 947 1747 \nz\nM 2906 525 \nQ 2725 213 2448 61 \nQ 2172 -91 1784 -91 \nQ 1150 -91 751 415 \nQ 353 922 353 1747 \nQ 353 2572 751 3078 \nQ 1150 3584 1784 3584 \nQ 2172 3584 2448 3432 \nQ 2725 3281 2906 2969 \nL 2906 3500 \nL 3481 3500 \nL 3481 -1331 \nL 2906 -1331 \nL 2906 525 \nz\n\" id=\"DejaVuSans-71\" transform=\"scale(0.015625)\"/>\n       <path d=\"M 544 1381 \nL 544 3500 \nL 1119 3500 \nL 1119 1403 \nQ 1119 906 1312 657 \nQ 1506 409 1894 409 \nQ 2359 409 2629 706 \nQ 2900 1003 2900 1516 \nL 2900 3500 \nL 3475 3500 \nL 3475 0 \nL 2900 0 \nL 2900 538 \nQ 2691 219 2414 64 \nQ 2138 -91 1772 -91 \nQ 1169 -91 856 284 \nQ 544 659 544 1381 \nz\nM 1991 3584 \nL 1991 3584 \nz\n\" id=\"DejaVuSans-75\" transform=\"scale(0.015625)\"/>\n       <path d=\"M 3513 2113 \nL 3513 0 \nL 2938 0 \nL 2938 2094 \nQ 2938 2591 2744 2837 \nQ 2550 3084 2163 3084 \nQ 1697 3084 1428 2787 \nQ 1159 2491 1159 1978 \nL 1159 0 \nL 581 0 \nL 581 3500 \nL 1159 3500 \nL 1159 2956 \nQ 1366 3272 1645 3428 \nQ 1925 3584 2291 3584 \nQ 2894 3584 3203 3211 \nQ 3513 2838 3513 2113 \nz\n\" id=\"DejaVuSans-6e\" transform=\"scale(0.015625)\"/>\n       <path d=\"M 3122 3366 \nL 3122 2828 \nQ 2878 2963 2633 3030 \nQ 2388 3097 2138 3097 \nQ 1578 3097 1268 2742 \nQ 959 2388 959 1747 \nQ 959 1106 1268 751 \nQ 1578 397 2138 397 \nQ 2388 397 2633 464 \nQ 2878 531 3122 666 \nL 3122 134 \nQ 2881 22 2623 -34 \nQ 2366 -91 2075 -91 \nQ 1284 -91 818 406 \nQ 353 903 353 1747 \nQ 353 2603 823 3093 \nQ 1294 3584 2113 3584 \nQ 2378 3584 2631 3529 \nQ 2884 3475 3122 3366 \nz\n\" id=\"DejaVuSans-63\" transform=\"scale(0.015625)\"/>\n       <path d=\"M 2059 -325 \nQ 1816 -950 1584 -1140 \nQ 1353 -1331 966 -1331 \nL 506 -1331 \nL 506 -850 \nL 844 -850 \nQ 1081 -850 1212 -737 \nQ 1344 -625 1503 -206 \nL 1606 56 \nL 191 3500 \nL 800 3500 \nL 1894 763 \nL 2988 3500 \nL 3597 3500 \nL 2059 -325 \nz\n\" id=\"DejaVuSans-79\" transform=\"scale(0.015625)\"/>\n      </defs>\n      <use xlink:href=\"#DejaVuSans-46\"/>\n      <use x=\"50.269531\" xlink:href=\"#DejaVuSans-72\"/>\n      <use x=\"89.132812\" xlink:href=\"#DejaVuSans-65\"/>\n      <use x=\"150.65625\" xlink:href=\"#DejaVuSans-71\"/>\n      <use x=\"214.132812\" xlink:href=\"#DejaVuSans-75\"/>\n      <use x=\"277.511719\" xlink:href=\"#DejaVuSans-65\"/>\n      <use x=\"339.035156\" xlink:href=\"#DejaVuSans-6e\"/>\n      <use x=\"402.414062\" xlink:href=\"#DejaVuSans-63\"/>\n      <use x=\"457.394531\" xlink:href=\"#DejaVuSans-79\"/>\n     </g>\n    </g>\n   </g>\n   <g id=\"patch_3\">\n    <path clip-path=\"url(#pfd40ba3c1a)\" d=\"M 74.765386 240.48 \nL 108.932659 240.48 \nL 108.932659 37.534945 \nL 74.765386 37.534945 \nz\n\" style=\"fill:#008fd5;\"/>\n   </g>\n   <g id=\"patch_4\">\n    <path clip-path=\"url(#pfd40ba3c1a)\" d=\"M 108.932659 240.48 \nL 143.099932 240.48 \nL 143.099932 240.48 \nL 108.932659 240.48 \nz\n\" style=\"fill:#008fd5;\"/>\n   </g>\n   <g id=\"patch_5\">\n    <path clip-path=\"url(#pfd40ba3c1a)\" d=\"M 143.099932 240.48 \nL 177.267205 240.48 \nL 177.267205 18.308571 \nL 143.099932 18.308571 \nz\n\" style=\"fill:#008fd5;\"/>\n   </g>\n   <g id=\"patch_6\">\n    <path clip-path=\"url(#pfd40ba3c1a)\" d=\"M 177.267205 240.48 \nL 211.434477 240.48 \nL 211.434477 240.48 \nL 177.267205 240.48 \nz\n\" style=\"fill:#008fd5;\"/>\n   </g>\n   <g id=\"patch_7\">\n    <path clip-path=\"url(#pfd40ba3c1a)\" d=\"M 211.434477 240.48 \nL 245.60175 240.48 \nL 245.60175 122.985495 \nL 211.434477 122.985495 \nz\n\" style=\"fill:#008fd5;\"/>\n   </g>\n   <g id=\"patch_8\">\n    <path clip-path=\"url(#pfd40ba3c1a)\" d=\"M 245.60175 240.48 \nL 279.769023 240.48 \nL 279.769023 240.48 \nL 245.60175 240.48 \nz\n\" style=\"fill:#008fd5;\"/>\n   </g>\n   <g id=\"patch_9\">\n    <path clip-path=\"url(#pfd40ba3c1a)\" d=\"M 279.769023 240.48 \nL 313.936295 240.48 \nL 313.936295 184.937143 \nL 279.769023 184.937143 \nz\n\" style=\"fill:#008fd5;\"/>\n   </g>\n   <g id=\"patch_10\">\n    <path clip-path=\"url(#pfd40ba3c1a)\" d=\"M 313.936295 240.48 \nL 348.103568 240.48 \nL 348.103568 240.48 \nL 313.936295 240.48 \nz\n\" style=\"fill:#008fd5;\"/>\n   </g>\n   <g id=\"patch_11\">\n    <path clip-path=\"url(#pfd40ba3c1a)\" d=\"M 348.103568 240.48 \nL 382.270841 240.48 \nL 382.270841 229.798681 \nL 348.103568 229.798681 \nz\n\" style=\"fill:#008fd5;\"/>\n   </g>\n   <g id=\"patch_12\">\n    <path clip-path=\"url(#pfd40ba3c1a)\" d=\"M 382.270841 240.48 \nL 416.438114 240.48 \nL 416.438114 238.343736 \nL 382.270841 238.343736 \nz\n\" style=\"fill:#008fd5;\"/>\n   </g>\n   <g id=\"patch_13\">\n    <path d=\"M 57.68175 240.48 \nL 57.68175 7.2 \n\" style=\"fill:none;stroke:#f0f0f0;stroke-linecap:square;stroke-linejoin:miter;stroke-width:3;\"/>\n   </g>\n   <g id=\"patch_14\">\n    <path d=\"M 433.52175 240.48 \nL 433.52175 7.2 \n\" style=\"fill:none;stroke:#f0f0f0;stroke-linecap:square;stroke-linejoin:miter;stroke-width:3;\"/>\n   </g>\n   <g id=\"patch_15\">\n    <path d=\"M 57.68175 240.48 \nL 433.52175 240.48 \n\" style=\"fill:none;stroke:#f0f0f0;stroke-linecap:square;stroke-linejoin:miter;stroke-width:3;\"/>\n   </g>\n   <g id=\"patch_16\">\n    <path d=\"M 57.68175 7.2 \nL 433.52175 7.2 \n\" style=\"fill:none;stroke:#f0f0f0;stroke-linecap:square;stroke-linejoin:miter;stroke-width:3;\"/>\n   </g>\n  </g>\n </g>\n <defs>\n  <clipPath id=\"pfd40ba3c1a\">\n   <rect height=\"233.28\" width=\"375.84\" x=\"57.68175\" y=\"7.2\"/>\n  </clipPath>\n </defs>\n</svg>\n",
      "image/png": "[encoded data removed]"
     },
     "metadata": {}
    }
   ],
   "source": [
    "df_matches.AwayTeamGoals.plot(kind=\"hist\");"
   ]
  },
  {
   "cell_type": "code",
   "execution_count": 36,
   "metadata": {},
   "outputs": [
    {
     "output_type": "execute_result",
     "data": {
      "text/plain": [
       "['Soviet Union\\xa0 win after extra time ',\n",
       " 'Spain\\xa0 win after extra time ',\n",
       " 'Hungary\\xa0 win after extra time ',\n",
       " '\\xa0Soviet Union win after extra time ',\n",
       " '\\xa0Yugoslavia win after extra time ',\n",
       " 'Czechoslovakia\\xa0 win after extra time ',\n",
       " '\\xa0West Germany win after extra time ',\n",
       " 'Netherlands\\xa0 win after extra time ',\n",
       " 'Czechoslovakia\\xa0 win on Penalities 5–3',\n",
       " 'France\\xa0 win after extra time ',\n",
       " '\\xa0Spain win on Penalities 4–5',\n",
       " '\\xa0Denmark win on Penalities 4–5',\n",
       " '\\xa0England win on Penalities 2–4',\n",
       " 'France\\xa0 win on Penalities 5–4',\n",
       " '\\xa0Czech Republic win on Penalities 5–6',\n",
       " 'Germany\\xa0 win on Penalities 6–5',\n",
       " '\\xa0Germany win after extra time ',\n",
       " 'France\\xa0 win after extra time ',\n",
       " 'Italy\\xa0 win on Penalities 3–1',\n",
       " 'France\\xa0 win after extra time ',\n",
       " 'Portugal\\xa0 win on Penalities 6–5',\n",
       " '\\xa0Netherlands win on Penalities 4–5',\n",
       " 'Greece\\xa0 win after extra time ',\n",
       " '\\xa0Turkey win on Penalities 1–3',\n",
       " '\\xa0Russia win after extra time ',\n",
       " 'Spain\\xa0 win on Penalities 4–2',\n",
       " '\\xa0Italy win on Penalities 2–4',\n",
       " '\\xa0Spain win on Penalities 2–4',\n",
       " '\\xa0Poland win on Penalities 4–5',\n",
       " '\\xa0Portugal win after extra time ',\n",
       " '\\xa0Portugal win on Penalities 3–5',\n",
       " 'Germany\\xa0 win on Penalities 6–5',\n",
       " 'Portugal\\xa0 win after extra time ']"
      ]
     },
     "metadata": {},
     "execution_count": 36
    }
   ],
   "source": [
    "df_matches.SpecialWinConditions.dropna().to_list()"
   ]
  },
  {
   "cell_type": "code",
   "execution_count": 37,
   "metadata": {},
   "outputs": [
    {
     "output_type": "execute_result",
     "data": {
      "text/plain": [
       "['Germany',\n",
       " 'France',\n",
       " 'Spain',\n",
       " 'Italy',\n",
       " 'Portugal',\n",
       " 'Netherlands',\n",
       " 'Czech Republic',\n",
       " 'Russia',\n",
       " 'England',\n",
       " 'Croatia',\n",
       " 'Denmark',\n",
       " 'Belgium',\n",
       " 'Sweden',\n",
       " 'Greece',\n",
       " 'Turkey',\n",
       " 'Wales',\n",
       " 'Poland',\n",
       " 'Switzerland',\n",
       " 'Serbia',\n",
       " 'Iceland',\n",
       " 'Hungary',\n",
       " 'Republic of Ireland',\n",
       " 'Romania',\n",
       " 'Scotland',\n",
       " 'Norway',\n",
       " 'Slovakia',\n",
       " 'Bulgaria',\n",
       " 'Albania',\n",
       " 'Northern Ireland',\n",
       " 'Ukraine',\n",
       " 'Slovenia',\n",
       " 'Austria',\n",
       " 'Latvia']"
      ]
     },
     "metadata": {},
     "execution_count": 37
    }
   ],
   "source": [
    "# df_matches.HomeTeamName.to_list()\n",
    "df_team_stats.Team.to_list()"
   ]
  },
  {
   "cell_type": "code",
   "execution_count": 39,
   "metadata": {},
   "outputs": [
    {
     "output_type": "stream",
     "name": "stdout",
     "text": [
      "Italy 1.68 - Turkey 0.93\nWales 2.0 - Switzerland 0.85\n"
     ]
    },
    {
     "output_type": "error",
     "ename": "IndexError",
     "evalue": "list index out of range",
     "traceback": [
      "\u001b[0;31m---------------------------------------------------------------------------\u001b[0m",
      "\u001b[0;31mIndexError\u001b[0m                                Traceback (most recent call last)",
      "\u001b[0;32m<ipython-input-39-0a25d7ebc58c>\u001b[0m in \u001b[0;36m<module>\u001b[0;34m\u001b[0m\n\u001b[1;32m     21\u001b[0m     \u001b[0mt1\u001b[0m \u001b[0;34m=\u001b[0m \u001b[0mmatch\u001b[0m\u001b[0;34m[\u001b[0m\u001b[0;36m0\u001b[0m\u001b[0;34m]\u001b[0m\u001b[0;34m[\u001b[0m\u001b[0;34m\"Team\"\u001b[0m\u001b[0;34m]\u001b[0m\u001b[0;34m\u001b[0m\u001b[0;34m\u001b[0m\u001b[0m\n\u001b[1;32m     22\u001b[0m     \u001b[0mp1\u001b[0m \u001b[0;34m=\u001b[0m \u001b[0mmatch\u001b[0m\u001b[0;34m[\u001b[0m\u001b[0;36m0\u001b[0m\u001b[0;34m]\u001b[0m\u001b[0;34m[\u001b[0m\u001b[0;34m\"Points/match\"\u001b[0m\u001b[0;34m]\u001b[0m\u001b[0;34m\u001b[0m\u001b[0;34m\u001b[0m\u001b[0m\n\u001b[0;32m---> 23\u001b[0;31m     \u001b[0mt2\u001b[0m \u001b[0;34m=\u001b[0m \u001b[0mmatch\u001b[0m\u001b[0;34m[\u001b[0m\u001b[0;36m1\u001b[0m\u001b[0;34m]\u001b[0m\u001b[0;34m[\u001b[0m\u001b[0;34m\"Team\"\u001b[0m\u001b[0;34m]\u001b[0m\u001b[0;34m\u001b[0m\u001b[0;34m\u001b[0m\u001b[0m\n\u001b[0m\u001b[1;32m     24\u001b[0m     \u001b[0mp2\u001b[0m \u001b[0;34m=\u001b[0m \u001b[0mmatch\u001b[0m\u001b[0;34m[\u001b[0m\u001b[0;36m1\u001b[0m\u001b[0;34m]\u001b[0m\u001b[0;34m[\u001b[0m\u001b[0;34m\"Points/match\"\u001b[0m\u001b[0;34m]\u001b[0m\u001b[0;34m\u001b[0m\u001b[0;34m\u001b[0m\u001b[0m\n\u001b[1;32m     25\u001b[0m     \u001b[0mprint\u001b[0m\u001b[0;34m(\u001b[0m\u001b[0;34mf\"{t1} {p1} - {t2} {p2}\"\u001b[0m\u001b[0;34m)\u001b[0m\u001b[0;34m\u001b[0m\u001b[0;34m\u001b[0m\u001b[0m\n",
      "\u001b[0;31mIndexError\u001b[0m: list index out of range"
     ]
    }
   ],
   "source": [
    "pairings = [\n",
    "    [\"Italy\", \"Turkey\"],\n",
    "    [\"Wales\", \"Switzerland\"],\n",
    "    [\"Denmark\", \"Finland\"],\n",
    "    [\"Belgium\", \"Russia\"],\n",
    "    [\"England\", \"Croatia\"],\n",
    "    [\"Austria\", \"North Macedonia\"],\n",
    "    [\"Netherlands\", \"Ukraine\"],\n",
    "    # \n",
    "    [\"Scotland\", \"Czech Republic\"],\n",
    "    [\"Poland\", \"Slovakia\"],\n",
    "    [\"Spain\", \"Sweden\"],\n",
    "    [\"Hungary\", \"Portugal\"],\n",
    "    [\"France\", \"Germany\"],\n",
    "]\n",
    "\n",
    "for p in pairings:\n",
    "    teams = [x for x in p if x is not None]\n",
    "    current_pairing = df_team_stats.loc[df_team_stats.Team.isin(teams)][[\"Team\",\"Points/match\"]]\n",
    "    match = current_pairing.to_dict(orient=\"records\")\n",
    "    t1 = match[0][\"Team\"]\n",
    "    p1 = match[0][\"Points/match\"]\n",
    "    t2 = match[1][\"Team\"]\n",
    "    p2 = match[1][\"Points/match\"]\n",
    "    print(f\"{t1} {p1} - {t2} {p2}\")\n"
   ]
  },
  {
   "cell_type": "code",
   "execution_count": null,
   "metadata": {},
   "outputs": [],
   "source": []
  }
 ]
}
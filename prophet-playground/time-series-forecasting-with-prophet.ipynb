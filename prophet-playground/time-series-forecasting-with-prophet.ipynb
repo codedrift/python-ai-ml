{
 "cells": [
  {
   "cell_type": "markdown",
   "metadata": {
    "_uuid": "d0542bc75c78e67aae95a90cd0aebe6c51e2f1a8"
   },
   "source": [
    "# Hourly Time Series Forecasting using Facebook's Prophet\n",
    "![](https://miro.medium.com/max/964/0*tVCene42rgUTNv9Q.png)\n",
    "\n",
    "In this notebook we will use facebook's prophet package to forecast hourly energy use. "
   ]
  },
  {
   "cell_type": "code",
   "execution_count": null,
   "metadata": {
    "_cell_guid": "b1076dfc-b9ad-4769-8c92-a6c4dae69d19",
    "_uuid": "8f2839f25d086af736a60e9eeb907d3b93b6e0e5"
   },
   "outputs": [],
   "source": [
    "import numpy as np\n",
    "import pandas as pd\n",
    "import seaborn as sns\n",
    "import matplotlib.pyplot as plt\n",
    "from fbprophet import Prophet\n",
    "from sklearn.metrics import mean_squared_error, mean_absolute_error\n",
    "plt.style.use('fivethirtyeight') # For plots"
   ]
  },
  {
   "cell_type": "markdown",
   "metadata": {
    "_uuid": "102c0bcb9cfc3be70922d8a308d4e29f02002c3e"
   },
   "source": [
    "# Data\n",
    "The data we will be using is hourly power consumption data from PJM. Energy consumtion has some unique charachteristics. It will be interesting to see how prophet picks them up.\n",
    "\n",
    "Pulling the `PJM East` which has data from 2002-2018 for the entire east region."
   ]
  },
  {
   "cell_type": "code",
   "execution_count": null,
   "metadata": {
    "_cell_guid": "79c7e3d0-c299-4dcb-8224-4455121ee9b0",
    "_uuid": "d629ff2d2480ee46fbb7e2d37f6b5fab8052498a"
   },
   "outputs": [],
   "source": [
    "pjme = pd.read_csv('./input/PJME_hourly.csv',\n",
    "                   index_col=[0], parse_dates=[0]) # We set the index column and know it has dates"
   ]
  },
  {
   "cell_type": "code",
   "execution_count": null,
   "metadata": {},
   "outputs": [],
   "source": [
    "# pjme.info()\n",
    "pjme.head()"
   ]
  },
  {
   "cell_type": "code",
   "execution_count": null,
   "metadata": {
    "_uuid": "c9ed25d7b8010577d04385c9c4077b6fffd7d409"
   },
   "outputs": [],
   "source": [
    "# Color pallete for plotting\n",
    "color_pal = [\"#F8766D\", \"#D39200\", \"#93AA00\",\n",
    "             \"#00BA38\", \"#00C19F\", \"#00B9E3\",\n",
    "             \"#619CFF\", \"#DB72FB\"]\n",
    "pjme.plot(style='.', figsize=(15,5), color=color_pal[0], title='PJM East')\n",
    "plt.show()"
   ]
  },
  {
   "cell_type": "markdown",
   "metadata": {
    "_uuid": "cb49177658f50a6dec9b42065ff9849bc6987b1e"
   },
   "source": [
    "# EDA\n",
    "\n",
    "We will creat some time series features to see how the trends are impacted by day of week, hour, time of year, etc."
   ]
  },
  {
   "cell_type": "code",
   "execution_count": null,
   "metadata": {
    "_uuid": "82afdedabfa910d2fd310cb0bb016679c47f146b"
   },
   "outputs": [],
   "source": [
    "def create_features(df, label=None):\n",
    "    \"\"\"\n",
    "    Creates time series features from datetime index.\n",
    "    \"\"\"\n",
    "    df = df.copy()\n",
    "    df['date'] = df.index\n",
    "    df['hour'] = df['date'].dt.hour\n",
    "    df['dayofweek'] = df['date'].dt.dayofweek\n",
    "    df['quarter'] = df['date'].dt.quarter\n",
    "    df['month'] = df['date'].dt.month\n",
    "    df['year'] = df['date'].dt.year\n",
    "    df['dayofyear'] = df['date'].dt.dayofyear\n",
    "    df['dayofmonth'] = df['date'].dt.day\n",
    "    df['weekofyear'] = df['date'].dt.weekofyear\n",
    "    \n",
    "    X = df[['hour','dayofweek','quarter','month','year',\n",
    "           'dayofyear','dayofmonth','weekofyear']]\n",
    "    if label:\n",
    "        y = df[label]\n",
    "        return X, y\n",
    "    return X\n",
    "\n",
    "X, y = create_features(pjme, label='PJME_MW')\n",
    "\n",
    "features_and_target = pd.concat([X, y], axis=1)"
   ]
  },
  {
   "cell_type": "code",
   "execution_count": null,
   "metadata": {
    "_uuid": "9b20880cc5ff6c0374b9dd17c46daa337f03c9b3"
   },
   "outputs": [],
   "source": [
    "# See our features and target\n",
    "features_and_target.head()"
   ]
  },
  {
   "cell_type": "markdown",
   "metadata": {},
   "source": [
    "## Plotting the Features to see trends\n",
    "- Power demand has strong daily and seasonal properties.\n",
    "- Day of week also seems to show differences in peaks"
   ]
  },
  {
   "cell_type": "code",
   "execution_count": null,
   "metadata": {
    "_uuid": "15b5afb3a6e17e2f25227432f3a9d724eee02ec2"
   },
   "outputs": [],
   "source": [
    "sns.pairplot(features_and_target.dropna(),\n",
    "             hue='hour',\n",
    "             x_vars=['hour','dayofweek',\n",
    "                     'year','weekofyear'],\n",
    "             y_vars='PJME_MW',\n",
    "             height=5,\n",
    "             plot_kws={'alpha':0.15, 'linewidth':0}\n",
    "            )\n",
    "plt.suptitle('Power Use MW by Hour, Day of Week, Year and Week of Year')\n",
    "plt.show()"
   ]
  },
  {
   "cell_type": "markdown",
   "metadata": {
    "_uuid": "1c1c9cf0b6c70a8edd221810bb289b8837889288"
   },
   "source": [
    "# Train/Test Split\n",
    "Cut off the data after 2015 to use as our validation set. We will train on earlier data."
   ]
  },
  {
   "cell_type": "code",
   "execution_count": null,
   "metadata": {
    "_uuid": "34eff2dacaab88023207b839a17d5994c4bcff9c"
   },
   "outputs": [],
   "source": [
    "split_date = '01-Jan-2015'\n",
    "pjme_train = pjme.loc[pjme.index <= split_date].copy()\n",
    "pjme_test = pjme.loc[pjme.index > split_date].copy()"
   ]
  },
  {
   "cell_type": "code",
   "execution_count": null,
   "metadata": {
    "_uuid": "c2cff84056d834fe6359071a6eaf912a84196a96"
   },
   "outputs": [],
   "source": [
    "# Plot train and test so you can see where we have split\n",
    "pjme_test \\\n",
    "    .rename(columns={'PJME_MW': 'TEST SET'}) \\\n",
    "    .join(pjme_train.rename(columns={'PJME_MW': 'TRAINING SET'}),\n",
    "          how='outer') \\\n",
    "    .plot(figsize=(15,5), title='PJM East', style='.')\n",
    "plt.show()"
   ]
  },
  {
   "cell_type": "markdown",
   "metadata": {
    "_uuid": "e38a95f3bfe84f3e7013bae350093b694aa42513"
   },
   "source": [
    "# Simple Prophet Model\n",
    "- Prophet model expects the dataset to be named a specific way. We will rename our dataframe columns before feeding it into the model."
   ]
  },
  {
   "cell_type": "code",
   "execution_count": null,
   "metadata": {
    "_uuid": "cfc5ef9f92256f5cffa9dfa178b6b389177747ae"
   },
   "outputs": [],
   "source": [
    "# Format data for prophet model using ds and y\n",
    "pjme_train.reset_index() \\\n",
    "    .rename(columns={'Datetime':'ds',\n",
    "                     'PJME_MW':'y'}).head()"
   ]
  },
  {
   "cell_type": "code",
   "execution_count": null,
   "metadata": {
    "_uuid": "5f4b2a7f2f40037d4414be9f4e9b2255fea9041b"
   },
   "outputs": [],
   "source": [
    "# Setup and train model and fit\n",
    "model = Prophet()\n",
    "model.fit(pjme_train.reset_index() \\\n",
    "              .rename(columns={'Datetime':'ds',\n",
    "                               'PJME_MW':'y'}))"
   ]
  },
  {
   "cell_type": "code",
   "execution_count": null,
   "metadata": {
    "_uuid": "405772aa3178b8c232b7f52b86399e175691bda7"
   },
   "outputs": [],
   "source": [
    "# Predict on training set with model\n",
    "pjme_test_fcst = model.predict(df=pjme_test.reset_index() \\\n",
    "                                   .rename(columns={'Datetime':'ds'}))"
   ]
  },
  {
   "cell_type": "code",
   "execution_count": null,
   "metadata": {},
   "outputs": [],
   "source": [
    "pjme_test_fcst.head()"
   ]
  },
  {
   "cell_type": "code",
   "execution_count": null,
   "metadata": {
    "_uuid": "833d338eabd9fcfa60544ac1083cdd2638bc19b6"
   },
   "outputs": [],
   "source": [
    "# Plot the forecast\n",
    "f, ax = plt.subplots(1)\n",
    "f.set_figheight(5)\n",
    "f.set_figwidth(15)\n",
    "fig = model.plot(pjme_test_fcst,\n",
    "                 ax=ax)\n",
    "plt.show()"
   ]
  },
  {
   "cell_type": "code",
   "execution_count": null,
   "metadata": {
    "_uuid": "e9ba59e73b6a2f1bd42352c0d976e92420e59188"
   },
   "outputs": [],
   "source": [
    "# Plot the components of the model\n",
    "fig = model.plot_components(pjme_test_fcst)"
   ]
  },
  {
   "cell_type": "markdown",
   "metadata": {
    "_uuid": "6ebd7ee46455deb19f71b4d1be22f4704bd4b0e7"
   },
   "source": [
    "# Compare Forecast to Actuals"
   ]
  },
  {
   "cell_type": "code",
   "execution_count": null,
   "metadata": {
    "_uuid": "f6f997ec0aae57381a4ef1290c1725f198aad156"
   },
   "outputs": [],
   "source": [
    "# Plot the forecast with the actuals\n",
    "f, ax = plt.subplots(1)\n",
    "f.set_figheight(5)\n",
    "f.set_figwidth(15)\n",
    "ax.scatter(pjme_test.index, pjme_test['PJME_MW'], color='r')\n",
    "fig = model.plot(pjme_test_fcst, ax=ax)"
   ]
  },
  {
   "cell_type": "markdown",
   "metadata": {
    "_uuid": "6663468b46437960dc89ac1e0b2becc339e08518"
   },
   "source": [
    "# Look at first month of predictions"
   ]
  },
  {
   "cell_type": "code",
   "execution_count": null,
   "metadata": {
    "_uuid": "b6a844842731d5c30d546f874d604027b8746ba6"
   },
   "outputs": [],
   "source": [
    "# Plot the forecast with the actuals\n",
    "f, ax = plt.subplots(1)\n",
    "f.set_figheight(5)\n",
    "f.set_figwidth(15)\n",
    "ax.scatter(pjme_test.index, pjme_test['PJME_MW'], color='r')\n",
    "fig = model.plot(pjme_test_fcst, ax=ax)\n",
    "# ax.set_xbound(lower='01-01-2015',\n",
    "#               upper='02-01-2015')\n",
    "ax.set_ylim(0, 60000)\n",
    "plot = plt.suptitle('January 2015 Forecast vs Actuals')"
   ]
  },
  {
   "cell_type": "markdown",
   "metadata": {
    "_uuid": "5684251d4b84703a9c620cdcae8ba1ab386bb410"
   },
   "source": [
    "# Single Week of Predictions"
   ]
  },
  {
   "cell_type": "code",
   "execution_count": null,
   "metadata": {
    "_uuid": "c5b8d6b36c18d31d3befbe1268fc397d67f0a246"
   },
   "outputs": [],
   "source": [
    "# Plot the forecast with the actuals\n",
    "f, ax = plt.subplots(1)\n",
    "f.set_figheight(5)\n",
    "f.set_figwidth(15)\n",
    "ax.scatter(pjme_test.index, pjme_test['PJME_MW'], color='r')\n",
    "fig = model.plot(pjme_test_fcst, ax=ax)\n",
    "# ax.set_xbound(lower='01-01-2015', upper='01-08-2015')\n",
    "ax.set_ylim(0, 60000)\n",
    "plot = plt.suptitle('First Week of January Forecast vs Actuals')"
   ]
  },
  {
   "cell_type": "markdown",
   "metadata": {
    "_uuid": "afee1fd1af51635b4ade2e0cc859fa2f25b10fa0"
   },
   "source": [
    "# Error Metrics\n",
    "\n",
    "Our RMSE error is 43761675  \n",
    "Our MAE error is 5181.78  \n",
    "Our MAPE error is 16.5%\n",
    "\n",
    "by comparison in the XGBoost model our errors were significantly less (8.9% MAPE):\n",
    "[Check that out here](https://www.kaggle.com/robikscube/hourly-time-series-forecasting-with-xgboost/)"
   ]
  },
  {
   "cell_type": "code",
   "execution_count": null,
   "metadata": {
    "_uuid": "6ec55915828d4408c87a3210c9b6b0b7a50bb13f"
   },
   "outputs": [],
   "source": [
    "mean_squared_error(y_true=pjme_test['PJME_MW'],\n",
    "                   y_pred=pjme_test_fcst['yhat'])"
   ]
  },
  {
   "cell_type": "code",
   "execution_count": null,
   "metadata": {
    "_uuid": "fb4a13b9cc4c393b0871d2d51b2bad5e46175c10"
   },
   "outputs": [],
   "source": [
    "mean_absolute_error(y_true=pjme_test['PJME_MW'],\n",
    "                   y_pred=pjme_test_fcst['yhat'])"
   ]
  },
  {
   "cell_type": "code",
   "execution_count": null,
   "metadata": {
    "_uuid": "df24f32f4fb0fffbe4fe6cd6c965d67151886ea5"
   },
   "outputs": [],
   "source": [
    "def mean_absolute_percentage_error(y_true, y_pred): \n",
    "    \"\"\"Calculates MAPE given y_true and y_pred\"\"\"\n",
    "    y_true, y_pred = np.array(y_true), np.array(y_pred)\n",
    "    return np.mean(np.abs((y_true - y_pred) / y_true)) * 100\n",
    "\n",
    "mean_absolute_percentage_error(y_true=pjme_test['PJME_MW'],\n",
    "                   y_pred=pjme_test_fcst['yhat'])"
   ]
  },
  {
   "cell_type": "markdown",
   "metadata": {
    "_uuid": "c6b37d1d6c5e855b80fab4b063c56265d4cc617b"
   },
   "source": [
    "# Adding Holidays\n",
    "Next we will see if adding holiday indicators will help the accuracy of the model. Prophet comes with a *Holiday Effects* parameter that can be provided to the model prior to training. \n",
    "\n",
    "We will use the built in pandas `USFederalHolidayCalendar` to pull the list of holidays"
   ]
  },
  {
   "cell_type": "code",
   "execution_count": null,
   "metadata": {
    "_uuid": "479f0c6f25772be8c6bbae36e93b32bd24d473b7"
   },
   "outputs": [],
   "source": [
    "from pandas.tseries.holiday import USFederalHolidayCalendar as calendar\n",
    "\n",
    "cal = calendar()\n",
    "train_holidays = cal.holidays(start=pjme_train.index.min(),\n",
    "                              end=pjme_train.index.max())\n",
    "test_holidays = cal.holidays(start=pjme_test.index.min(),\n",
    "                             end=pjme_test.index.max())"
   ]
  },
  {
   "cell_type": "code",
   "execution_count": null,
   "metadata": {
    "_uuid": "09de080e2f3c21b75d365cb4378434087641a0b5"
   },
   "outputs": [],
   "source": [
    "# Create a dataframe with holiday, ds columns\n",
    "pjme['date'] = pjme.index.date\n",
    "pjme['is_holiday'] = pjme.date.isin([d.date() for d in cal.holidays()])\n",
    "holiday_df = pjme.loc[pjme['is_holiday']] \\\n",
    "    .reset_index() \\\n",
    "    .rename(columns={'Datetime':'ds'})\n",
    "holiday_df['holiday'] = 'USFederalHoliday'\n",
    "holiday_df = holiday_df.drop(['PJME_MW','date','is_holiday'], axis=1)\n",
    "holiday_df.head()"
   ]
  },
  {
   "cell_type": "code",
   "execution_count": null,
   "metadata": {},
   "outputs": [],
   "source": [
    "holiday_df['ds'] = pd.to_datetime(holiday_df['ds'])"
   ]
  },
  {
   "cell_type": "code",
   "execution_count": null,
   "metadata": {
    "_uuid": "457b4a8814463e7885d210fc4d193cc5ddf261d0"
   },
   "outputs": [],
   "source": [
    "# Setup and train model with holidays\n",
    "model_with_holidays = Prophet(holidays=holiday_df)\n",
    "model_with_holidays.fit(pjme_train.reset_index() \\\n",
    "                            .rename(columns={'Datetime':'ds',\n",
    "                                             'PJME_MW':'y'}))"
   ]
  },
  {
   "cell_type": "markdown",
   "metadata": {},
   "source": [
    "## Predict With Holidays"
   ]
  },
  {
   "cell_type": "code",
   "execution_count": null,
   "metadata": {},
   "outputs": [],
   "source": [
    "# Predict on training set with model\n",
    "pjme_test_fcst_with_hols = \\\n",
    "    model_with_holidays.predict(df=pjme_test.reset_index() \\\n",
    "                                    .rename(columns={'Datetime':'ds'}))"
   ]
  },
  {
   "cell_type": "markdown",
   "metadata": {
    "_uuid": "da13b6f30bc01650d446626f6351ede47f663aea"
   },
   "source": [
    "## Plot Holiday Effect"
   ]
  },
  {
   "cell_type": "code",
   "execution_count": null,
   "metadata": {
    "_uuid": "d15a2b9eaeb27c947606b55e87c6dfb644e45f92"
   },
   "outputs": [],
   "source": [
    "fig2 = model_with_holidays.plot_components(pjme_test_fcst_with_hols)"
   ]
  },
  {
   "cell_type": "markdown",
   "metadata": {},
   "source": [
    "# Error Metrics with Holidays Added\n",
    "Suprisingly the error has gotten worse after adding holidays."
   ]
  },
  {
   "cell_type": "code",
   "execution_count": null,
   "metadata": {},
   "outputs": [],
   "source": [
    "mean_squared_error(y_true=pjme_test['PJME_MW'],\n",
    "                   y_pred=pjme_test_fcst_with_hols['yhat'])"
   ]
  },
  {
   "cell_type": "code",
   "execution_count": null,
   "metadata": {},
   "outputs": [],
   "source": [
    "mean_absolute_error(y_true=pjme_test['PJME_MW'],\n",
    "                   y_pred=pjme_test_fcst_with_hols['yhat'])"
   ]
  },
  {
   "cell_type": "code",
   "execution_count": null,
   "metadata": {},
   "outputs": [],
   "source": [
    "def mean_absolute_percentage_error(y_true, y_pred): \n",
    "    \"\"\"Calculates MAPE given y_true and y_pred\"\"\"\n",
    "    y_true, y_pred = np.array(y_true), np.array(y_pred)\n",
    "    return np.mean(np.abs((y_true - y_pred) / y_true)) * 100\n",
    "\n",
    "mean_absolute_percentage_error(y_true=pjme_test['PJME_MW'],\n",
    "                   y_pred=pjme_test_fcst_with_hols['yhat'])"
   ]
  },
  {
   "cell_type": "markdown",
   "metadata": {},
   "source": [
    "# Compare Models Just for Holiday Dates\n",
    "Lets plot Forecast model with and without holidays for 4th of July. It does look like the model with holidays is more accurate for this holiday."
   ]
  },
  {
   "cell_type": "code",
   "execution_count": null,
   "metadata": {},
   "outputs": [],
   "source": [
    "# Plot the forecast with the actuals\n",
    "f, ax = plt.subplots(1)\n",
    "f.set_figheight(5)\n",
    "f.set_figwidth(15)\n",
    "ax.scatter(pjme_test.index, pjme_test['PJME_MW'], color='r')\n",
    "fig = model.plot(pjme_test_fcst, ax=ax)\n",
    "ax.set_xbound(lower='07-01-2015', upper='07-7-2015')\n",
    "ax.set_ylim(0, 60000)\n",
    "plot = plt.suptitle('Week of July 4th Forecast vs Actuals non-Holiday Model')"
   ]
  },
  {
   "cell_type": "code",
   "execution_count": null,
   "metadata": {},
   "outputs": [],
   "source": [
    "# Plot the forecast with the actuals\n",
    "f, ax = plt.subplots(1)\n",
    "f.set_figheight(5)\n",
    "f.set_figwidth(15)\n",
    "ax.scatter(pjme_test.index, pjme_test['PJME_MW'], color='r')\n",
    "fig = model.plot(pjme_test_fcst_with_hols, ax=ax)\n",
    "ax.set_xbound(lower='07-01-2015', upper='07-7-2015')\n",
    "ax.set_ylim(0, 60000)\n",
    "plot = plt.suptitle('Week of July 4th Forecast vs Actuals Holiday Model')"
   ]
  },
  {
   "cell_type": "markdown",
   "metadata": {},
   "source": [
    "## Compare Error for just 4th of July\n",
    "The error has gone down for this date."
   ]
  },
  {
   "cell_type": "code",
   "execution_count": null,
   "metadata": {},
   "outputs": [],
   "source": [
    "jul4_test = pjme_test.query('Datetime >= 20160407 and Datetime < 20160408')\n",
    "jul4_pred = pjme_test_fcst.query('ds >= 20160407 and ds < 20160408')\n",
    "jul4_pred_holiday_model = pjme_test_fcst_with_hols.query('ds >= 20160407 and ds < 20160408')"
   ]
  },
  {
   "cell_type": "code",
   "execution_count": null,
   "metadata": {},
   "outputs": [],
   "source": [
    "mean_absolute_error(y_true=jul4_test['PJME_MW'],\n",
    "                   y_pred=jul4_pred['yhat'])"
   ]
  },
  {
   "cell_type": "code",
   "execution_count": null,
   "metadata": {},
   "outputs": [],
   "source": [
    "mean_absolute_error(y_true=jul4_test['PJME_MW'],\n",
    "                   y_pred=jul4_pred_holiday_model['yhat'])"
   ]
  },
  {
   "cell_type": "markdown",
   "metadata": {},
   "source": [
    "# Error of all Holidays\n",
    "- Holiday error has gone up! This is unexpected."
   ]
  },
  {
   "cell_type": "code",
   "execution_count": null,
   "metadata": {},
   "outputs": [],
   "source": [
    "holiday_list = holiday_df['ds'].tolist()"
   ]
  },
  {
   "cell_type": "code",
   "execution_count": null,
   "metadata": {},
   "outputs": [],
   "source": [
    "hols_test = pjme_test.query('Datetime in @holiday_list')\n",
    "hols_pred = pjme_test_fcst.query('ds in @holiday_list')\n",
    "hols_pred_holiday_model = pjme_test_fcst_with_hols.query('ds in @holiday_list')"
   ]
  },
  {
   "cell_type": "code",
   "execution_count": null,
   "metadata": {},
   "outputs": [],
   "source": [
    "mean_absolute_error(y_true=hols_test['PJME_MW'],\n",
    "                   y_pred=hols_pred['yhat'])"
   ]
  },
  {
   "cell_type": "code",
   "execution_count": null,
   "metadata": {},
   "outputs": [],
   "source": [
    "mean_absolute_error(y_true=hols_test['PJME_MW'],\n",
    "                   y_pred=hols_pred_holiday_model['yhat'])"
   ]
  },
  {
   "cell_type": "markdown",
   "metadata": {},
   "source": [
    "# Identify Error by holiday\n",
    "- We can see different holidays respond differently in this model. The model would perform better if we specifically identify holidays instead of lumping them all together as \"USFederalHolidays\""
   ]
  },
  {
   "cell_type": "code",
   "execution_count": null,
   "metadata": {},
   "outputs": [],
   "source": [
    "holiday_df['date'] = holiday_df['ds'].dt.date\n",
    "\n",
    "for hol, d in holiday_df.groupby('date'):\n",
    "    holiday_list = d['ds'].tolist()\n",
    "    hols_test = pjme_test.query('Datetime in @holiday_list')\n",
    "    if len(hols_test) == 0:\n",
    "        continue\n",
    "    hols_pred = pjme_test_fcst.query('ds in @holiday_list')\n",
    "    hols_pred_holiday_model = pjme_test_fcst_with_hols.query('ds in @holiday_list')\n",
    "    non_hol_error = mean_absolute_error(y_true=hols_test['PJME_MW'],\n",
    "                   y_pred=hols_pred['yhat'])\n",
    "    hol_model_error = mean_absolute_error(y_true=hols_test['PJME_MW'],\n",
    "                       y_pred=hols_pred_holiday_model['yhat'])\n",
    "    diff = non_hol_error - hol_model_error\n",
    "    print(f'Holiday: {hol:%B %d, %Y}:    \\n MAE (non-holiday model): {non_hol_error:0.1f} \\n MAE (Holiday Model): {hol_model_error:0.1f} \\n Diff {diff:0.1f}')"
   ]
  },
  {
   "cell_type": "markdown",
   "metadata": {},
   "source": [
    "# Plot Error of Each Forecast\n",
    "- We can see that both of our models generalize well, but struggle with peak demand days.\n",
    "- Seems to be under forecasting many days."
   ]
  },
  {
   "cell_type": "code",
   "execution_count": null,
   "metadata": {},
   "outputs": [],
   "source": [
    "ax = pjme_test_fcst.set_index('ds')['yhat'].plot(figsize=(15, 5),\n",
    "                                                 lw=0,\n",
    "                                                 style='.')\n",
    "pjme_test['PJME_MW'].plot(ax=ax,\n",
    "                          style='.',\n",
    "                          lw=0,\n",
    "                          alpha=0.2)\n",
    "plt.legend(['Forecast','Actual'])\n",
    "plt.title('Forecast vs Actuals')\n",
    "plt.show()"
   ]
  },
  {
   "cell_type": "markdown",
   "metadata": {},
   "source": [
    "# Data Cleaning\n",
    "- Data cleaning is a very important part of the forecasting process. If the input data contains garbage values, the forecast will use them when making predictions and could cause serious issues.\n",
    "- We notice in the training data that we have some bad measurements where the values are much less. Could these be causing the under forecasting? Lets try removing this bad data.\n",
    "\n",
    "This plot shows the bad data highlighted in red."
   ]
  },
  {
   "cell_type": "code",
   "execution_count": null,
   "metadata": {},
   "outputs": [],
   "source": [
    "ax = pjme_train.plot(style='.',\n",
    "                     figsize=(15,5),\n",
    "                     color=color_pal[5],\n",
    "                     title='PJME_MW with bad data highlighted',\n",
    "                     xlim=('01-01-2012','01-01-2013')\n",
    "                    )\n",
    "pjme_train.query('PJME_MW < 19000').plot(style='.',\n",
    "                                             figsize=(15,5),\n",
    "                                             color=color_pal[0],\n",
    "                                             ax=ax)\n",
    "ax.legend().set_visible(False)\n",
    "plt.show()"
   ]
  },
  {
   "cell_type": "code",
   "execution_count": null,
   "metadata": {},
   "outputs": [],
   "source": [
    "pjme_train.plot(figsize=(15, 5))\n",
    "plt.show()"
   ]
  },
  {
   "cell_type": "markdown",
   "metadata": {},
   "source": [
    "What caused this dip in energy demand? Hurricane Sandy!\n",
    "Check out this wikipedia article: https://en.wikipedia.org/wiki/List_of_major_power_outages#2012\n",
    "\n",
    "\n",
    "**On October 29–30, Hurricane Sandy brought high winds and coastal flooding to a large portion of the eastern United States, leaving an estimated 8 million customers without power. The storm, which came ashore near Atlantic City, New Jersey as a Category 1 hurricane, ultimately left scores of homes and businesses without power in New Jersey (2.7 million), New York (2.2 million), Pennsylvania (1.2 million), Connecticut (620,000), Massachusetts (400,000), Maryland (290,000), West Virginia (268,000), Ohio (250,000), and New Hampshire (210,000). Power outages were also reported in a number of other states, including Virginia, Maine, Rhode Island, Vermont, and the District of Columbia.**\n"
   ]
  },
  {
   "cell_type": "code",
   "execution_count": null,
   "metadata": {},
   "outputs": [],
   "source": [
    "ax = pjme_train.plot(style='.',\n",
    "                     figsize=(15,5),\n",
    "                     color=color_pal[5],\n",
    "                     title='PJME_MW with bad data highlighted',\n",
    "                     xlim=('10-29-2012','11-01-2012'),\n",
    "                     ylim=(10000, 31000)\n",
    "                    )\n",
    "pjme_train.query('PJME_MW < 19000').plot(style='.',\n",
    "                                             figsize=(15,5),\n",
    "                                             color=color_pal[0],\n",
    "                                             ax=ax)\n",
    "ax.legend().set_visible(False)\n",
    "plt.show()"
   ]
  },
  {
   "cell_type": "code",
   "execution_count": null,
   "metadata": {},
   "outputs": [],
   "source": [
    "# Clean Data\n",
    "pjme_train['PJME_MW_clean'] = pjme_train['PJME_MW']\n",
    "pjme_train.loc[pjme_train['PJME_MW'] < 19000, 'PJME_MW_clean'] = np.nan\n",
    "\n",
    "# Train model on clean data\n",
    "model = Prophet()\n",
    "model.fit(pjme_train.reset_index() \\\n",
    "              .rename(columns={'Datetime':'ds',\n",
    "                               'PJME_MW_clean':'y'})\n",
    "         )\n",
    "\n",
    "# Predict on training set with clean model\n",
    "pjme_test_fcst_clean = model.predict(df=pjme_test.reset_index() \\\n",
    "                                   .rename(columns={'Datetime':'ds'}))"
   ]
  },
  {
   "cell_type": "markdown",
   "metadata": {},
   "source": [
    "After cleaning we see a slight improvement in score compared to the first model. More data cleaning, along with holidays could yield even better results. Give it a try!"
   ]
  },
  {
   "cell_type": "code",
   "execution_count": null,
   "metadata": {},
   "outputs": [],
   "source": [
    "mse_clean = mean_squared_error(y_true=pjme_test['PJME_MW'],\n",
    "                               y_pred=pjme_test_fcst_clean['yhat']\n",
    "                              )\n",
    "mae_clean = mean_absolute_error(y_true=pjme_test['PJME_MW'],\n",
    "                                y_pred=pjme_test_fcst_clean['yhat']\n",
    "                               )\n",
    "mape_clean = mean_absolute_percentage_error(y_true=pjme_test['PJME_MW'],\n",
    "                                            y_pred=pjme_test_fcst_clean['yhat'])\n",
    "print(f'Cleaned data model has MSE {mse_clean:0.4f} - MAE {mae_clean:0.4f} - MAPE {mape_clean:0.4f}')"
   ]
  },
  {
   "cell_type": "code",
   "execution_count": null,
   "metadata": {},
   "outputs": [],
   "source": [
    "ax = pjme_test_fcst_clean.set_index('ds')['yhat'] \\\n",
    "    .plot(figsize=(15, 5), lw=0, style='.')\n",
    "pjme_test['PJME_MW'].plot(ax=ax, style='.', lw=0, alpha=0.2)\n",
    "plt.legend(['Forecast','Actual'])\n",
    "plt.title('Forecast vs Actuals with Cleaned Model')\n",
    "plt.show()"
   ]
  },
  {
   "cell_type": "markdown",
   "metadata": {},
   "source": [
    "Thanks for reading! I hope you found this tutorial helpful."
   ]
  }
 ],
 "metadata": {
  "kernelspec": {
   "name": "python394jvsc74a57bd0257314f258950192bff7590450ae7c9eeedaa9d0bcc69baf9ba29d302e8634a9",
   "display_name": "Python 3.9.4 64-bit ('prophet-playground': conda)"
  },
  "language_info": {
   "codemirror_mode": {
    "name": "ipython",
    "version": 3
   },
   "file_extension": ".py",
   "mimetype": "text/x-python",
   "name": "python",
   "nbconvert_exporter": "python",
   "pygments_lexer": "ipython3",
   "version": "3.9.4"
  },
  "metadata": {
   "interpreter": {
    "hash": "fa24b3352918b4c7524458c81ed611255725720ced1a48c839856f556124ab19"
   }
  }
 },
 "nbformat": 4,
 "nbformat_minor": 1
}
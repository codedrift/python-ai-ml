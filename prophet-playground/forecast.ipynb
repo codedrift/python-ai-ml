{
 "metadata": {
  "language_info": {
   "codemirror_mode": {
    "name": "ipython",
    "version": 3
   },
   "file_extension": ".py",
   "mimetype": "text/x-python",
   "name": "python",
   "nbconvert_exporter": "python",
   "pygments_lexer": "ipython3",
   "version": "3.9.4"
  },
  "orig_nbformat": 2,
  "kernelspec": {
   "name": "python394jvsc74a57bd0257314f258950192bff7590450ae7c9eeedaa9d0bcc69baf9ba29d302e8634a9",
   "display_name": "Python 3.9.4 64-bit ('prophet-playground': conda)"
  }
 },
 "nbformat": 4,
 "nbformat_minor": 2,
 "cells": [
  {
   "cell_type": "code",
   "execution_count": null,
   "metadata": {},
   "outputs": [],
   "source": [
    "import json\n",
    "import numpy as np\n",
    "import pandas as pd\n",
    "import seaborn as sns\n",
    "import matplotlib.pyplot as plt\n",
    "from fbprophet import Prophet\n",
    "from sklearn.metrics import mean_squared_error, mean_absolute_error\n",
    "plt.style.use('fivethirtyeight') # For plots"
   ]
  },
  {
   "cell_type": "code",
   "execution_count": null,
   "metadata": {},
   "outputs": [],
   "source": [
    "data = json.load(open('input/history.json',))\n",
    "timeseries_df = pd.DataFrame(data[\"timeSeries\"])"
   ]
  },
  {
   "cell_type": "code",
   "execution_count": null,
   "metadata": {},
   "outputs": [],
   "source": [
    "timeseries_df.head()"
   ]
  },
  {
   "cell_type": "code",
   "execution_count": null,
   "metadata": {},
   "outputs": [],
   "source": [
    "timeseries_df = timeseries_df.rename(columns={\"date\": \"ds\", \"value\": \"y\"})\n",
    "timeseries_df[\"ds\"] = pd.to_datetime(timeseries_df[\"ds\"], errors='raise', cache=True, utc=True)\n",
    "timeseries_df[\"ds\"] = timeseries_df[\"ds\"].dt.tz_convert(None)"
   ]
  },
  {
   "cell_type": "code",
   "execution_count": null,
   "metadata": {},
   "outputs": [],
   "source": [
    "timeseries_df.info()"
   ]
  },
  {
   "cell_type": "code",
   "execution_count": null,
   "metadata": {},
   "outputs": [],
   "source": [
    "timeseries_df.info()"
   ]
  },
  {
   "cell_type": "code",
   "execution_count": null,
   "metadata": {},
   "outputs": [],
   "source": [
    "color_pal = [\"#F8766D\", \"#D39200\", \"#93AA00\",\n",
    "             \"#00BA38\", \"#00C19F\", \"#00B9E3\",\n",
    "             \"#619CFF\", \"#DB72FB\"]\n",
    "timeseries_df.plot(y=\"y\", x=\"ds\", figsize=(15,5), color=color_pal[0], title='History')\n",
    "plt.show()"
   ]
  },
  {
   "cell_type": "code",
   "execution_count": null,
   "metadata": {},
   "outputs": [],
   "source": [
    "def create_features(df, label=None):\n",
    "    \"\"\"\n",
    "    Creates time series features from datetime index.\n",
    "    \"\"\"\n",
    "    df = df.copy()\n",
    "    df['ds'] = df['ds']\n",
    "    df['hour'] = df['ds'].dt.hour\n",
    "    df['dayofweek'] = df['ds'].dt.dayofweek\n",
    "    df['quarter'] = df['ds'].dt.quarter\n",
    "    df['month'] = df['ds'].dt.month\n",
    "    df['year'] = df['ds'].dt.year\n",
    "    df['dayofyear'] = df['ds'].dt.dayofyear\n",
    "    df['dayofmonth'] = df['ds'].dt.day\n",
    "    df['weekofyear'] = df['ds'].dt.isocalendar().week\n",
    "    \n",
    "    X = df[['hour','dayofweek','quarter','month','year',\n",
    "           'dayofyear','dayofmonth','weekofyear']]\n",
    "    if label:\n",
    "        y = df[label]\n",
    "        return X, y\n",
    "    return X\n",
    "\n",
    "X, y = create_features(timeseries_df, label='y')\n",
    "\n",
    "features_and_target = pd.concat([X, y], axis=1)"
   ]
  },
  {
   "cell_type": "code",
   "execution_count": null,
   "metadata": {},
   "outputs": [],
   "source": [
    "features_and_target.head()"
   ]
  },
  {
   "cell_type": "code",
   "execution_count": null,
   "metadata": {},
   "outputs": [],
   "source": [
    "sns.pairplot(features_and_target.dropna(),\n",
    "             hue='hour',\n",
    "             x_vars=['hour','dayofweek',\n",
    "                     'year','weekofyear'],\n",
    "             y_vars='y',\n",
    "             height=5,\n",
    "             plot_kws={'alpha':0.15, 'linewidth':0}\n",
    "            )\n",
    "plt.suptitle('Power Use MW by Hour, Day of Week, Year and Week of Year')\n",
    "plt.show()"
   ]
  },
  {
   "cell_type": "code",
   "execution_count": null,
   "metadata": {},
   "outputs": [],
   "source": [
    "split_date = '01-Apr-2021'\n",
    "timeseries_df_train = timeseries_df.loc[timeseries_df[\"ds\"] <= split_date].copy()\n",
    "timeseries_df_test = timeseries_df.loc[timeseries_df[\"ds\"] > split_date].copy()\n"
   ]
  },
  {
   "cell_type": "code",
   "execution_count": null,
   "metadata": {},
   "outputs": [],
   "source": [
    "# Plot train and test so you can see where we have split\n",
    "timeseries_df_test.set_index(\"ds\") \\\n",
    "    .join(timeseries_df_train.set_index(\"ds\").rename(columns={'y': 'TRAINING SET'}),\n",
    "          how='outer') \\\n",
    "    .plot(figsize=(15,5), title='test/train');"
   ]
  },
  {
   "cell_type": "code",
   "execution_count": null,
   "metadata": {},
   "outputs": [],
   "source": [
    "# Format data for prophet model using ds and y\n",
    "timeseries_df_train.head()"
   ]
  },
  {
   "cell_type": "code",
   "execution_count": null,
   "metadata": {},
   "outputs": [],
   "source": [
    "model = Prophet()\n",
    "model.fit(timeseries_df_train)"
   ]
  },
  {
   "cell_type": "code",
   "execution_count": null,
   "metadata": {},
   "outputs": [],
   "source": [
    "timeseries_df_test_forecast = model.predict(df=timeseries_df_test)"
   ]
  },
  {
   "cell_type": "code",
   "execution_count": null,
   "metadata": {},
   "outputs": [],
   "source": [
    "timeseries_df_test_forecast.head()"
   ]
  },
  {
   "cell_type": "code",
   "execution_count": null,
   "metadata": {},
   "outputs": [],
   "source": [
    "# Plot the forecast\n",
    "f, ax = plt.subplots(1)\n",
    "f.set_figheight(5)\n",
    "f.set_figwidth(15)\n",
    "fig = model.plot(timeseries_df_test_forecast, ax=ax)\n",
    "plt.show()"
   ]
  },
  {
   "cell_type": "code",
   "execution_count": null,
   "metadata": {},
   "outputs": [],
   "source": [
    "fig = model.plot_components(timeseries_df_test_forecast)"
   ]
  },
  {
   "cell_type": "code",
   "execution_count": null,
   "metadata": {},
   "outputs": [],
   "source": [
    "# Plot the forecast with the actuals\n",
    "f, ax = plt.subplots(1)\n",
    "f.set_figheight(5)\n",
    "f.set_figwidth(15)\n",
    "ax.scatter(timeseries_df_test.set_index(\"y\"), timeseries_df_test['y'], color='r')\n",
    "fig = model.plot(timeseries_df_test_forecast, ax=ax)"
   ]
  },
  {
   "cell_type": "code",
   "execution_count": null,
   "metadata": {},
   "outputs": [],
   "source": [
    "df_german_holidays = pd.read_csv(\n",
    "    \"./input/german_holidays.csv\",\n",
    "    parse_dates=[\"Tag\"],\n",
    "    sep=\";\"\n",
    "    )\n",
    "# df_german_holidays = df_german_holidays.loc[[\"Tag\", \"Feiertage\"]]\n",
    "df_holidays = df_german_holidays.rename(columns={\"Tag\": \"ds\", \"Feiertage\": \"holiday\"})[[\"ds\", \"holiday\"]]\n",
    "\n",
    "# # df_holidays= pd.DataFrame(df_german_holidays)\n",
    "df_holidays.head()"
   ]
  },
  {
   "cell_type": "code",
   "execution_count": null,
   "metadata": {},
   "outputs": [],
   "source": [
    "df_holidays.info()"
   ]
  },
  {
   "cell_type": "code",
   "execution_count": null,
   "metadata": {},
   "outputs": [],
   "source": [
    "model_with_holidays = Prophet(holidays=df_holidays)\n",
    "model_with_holidays.fit(timeseries_df_train)"
   ]
  },
  {
   "cell_type": "code",
   "execution_count": null,
   "metadata": {},
   "outputs": [],
   "source": [
    "# Predict on training set with model\n",
    "timeseries_df_test_forecast_holidays = model_with_holidays.predict(df=timeseries_df_test)"
   ]
  },
  {
   "cell_type": "code",
   "execution_count": null,
   "metadata": {},
   "outputs": [],
   "source": [
    "fig2 = model_with_holidays.plot_components(timeseries_df_test_forecast_holidays)"
   ]
  },
  {
   "cell_type": "code",
   "execution_count": null,
   "metadata": {},
   "outputs": [],
   "source": [
    "# Plot the forecast with the actuals\n",
    "f, ax = plt.subplots(1)\n",
    "f.set_figheight(5)\n",
    "f.set_figwidth(15)\n",
    "ax.scatter(timeseries_df_test.set_index(\"y\"), timeseries_df_test['y'], color='r')\n",
    "fig = model.plot(timeseries_df_test_forecast_holidays, ax=ax)"
   ]
  },
  {
   "cell_type": "code",
   "execution_count": null,
   "metadata": {},
   "outputs": [],
   "source": [
    "def mean_absolute_percentage_error(y_true, y_pred): \n",
    "    \"\"\"Calculates MAPE given y_true and y_pred\"\"\"\n",
    "    y_true, y_pred = np.array(y_true), np.array(y_pred)\n",
    "    return np.mean(np.abs((y_true - y_pred) / y_true)) * 100\n",
    "\n",
    "def calc_errors(df_forecast,df_test ):\n",
    "    mse = mean_squared_error(y_true=df_test['y'], y_pred=df_forecast['yhat'])\n",
    "    mae = mean_absolute_error(y_true=df_test['y'], y_pred=df_forecast['yhat'])\n",
    "    mape = mean_absolute_percentage_error(y_true=df_test['y'],y_pred=df_forecast['yhat'])\n",
    "\n",
    "    print(f'mse:{mse} mae: {mae} mape:{mape}')"
   ]
  },
  {
   "cell_type": "code",
   "execution_count": null,
   "metadata": {},
   "outputs": [],
   "source": [
    "calc_errors(timeseries_df_test_forecast, timeseries_df_test)"
   ]
  },
  {
   "cell_type": "code",
   "execution_count": null,
   "metadata": {},
   "outputs": [],
   "source": [
    "calc_errors(timeseries_df_test_forecast_holidays, timeseries_df_test)"
   ]
  },
  {
   "cell_type": "code",
   "execution_count": null,
   "metadata": {},
   "outputs": [],
   "source": []
  }
 ]
}
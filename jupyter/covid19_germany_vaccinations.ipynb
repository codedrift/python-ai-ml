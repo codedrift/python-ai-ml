{
 "metadata": {
  "language_info": {
   "codemirror_mode": {
    "name": "ipython",
    "version": 3
   },
   "file_extension": ".py",
   "mimetype": "text/x-python",
   "name": "python",
   "nbconvert_exporter": "python",
   "pygments_lexer": "ipython3",
   "version": "3.9.4"
  },
  "orig_nbformat": 2,
  "kernelspec": {
   "name": "python394jvsc74a57bd00ca8dc29cf15776cea07acad8756f2750969f716c47d66058ae7df4cf8661aeb",
   "display_name": "Python 3.9.4 64-bit ('jupyter': pipenv)"
  },
  "metadata": {
   "interpreter": {
    "hash": "0ca8dc29cf15776cea07acad8756f2750969f716c47d66058ae7df4cf8661aeb"
   }
  }
 },
 "nbformat": 4,
 "nbformat_minor": 2,
 "cells": [
  {
   "cell_type": "code",
   "execution_count": 1,
   "metadata": {},
   "outputs": [
    {
     "output_type": "stream",
     "name": "stdout",
     "text": [
      "Requirement already satisfied: numpy in /home/moesenthin/.local/share/virtualenvs/sipgate-ai-ml-playground-_aDzjXm9/lib/python3.8/site-packages (1.20.2)\n",
      "Requirement already satisfied: pandas in /home/moesenthin/.local/share/virtualenvs/sipgate-ai-ml-playground-_aDzjXm9/lib/python3.8/site-packages (1.2.3)\n",
      "Requirement already satisfied: prophet in /home/moesenthin/.local/share/virtualenvs/sipgate-ai-ml-playground-_aDzjXm9/lib/python3.8/site-packages (1.0.1)\n",
      "Requirement already satisfied: python-dateutil>=2.7.3 in /home/moesenthin/.local/share/virtualenvs/sipgate-ai-ml-playground-_aDzjXm9/lib/python3.8/site-packages (from pandas) (2.8.1)\n",
      "Requirement already satisfied: pytz>=2017.3 in /home/moesenthin/.local/share/virtualenvs/sipgate-ai-ml-playground-_aDzjXm9/lib/python3.8/site-packages (from pandas) (2021.1)\n",
      "Requirement already satisfied: six>=1.5 in /home/moesenthin/.local/share/virtualenvs/sipgate-ai-ml-playground-_aDzjXm9/lib/python3.8/site-packages (from python-dateutil>=2.7.3->pandas) (1.15.0)\n",
      "Requirement already satisfied: Cython>=0.22 in /home/moesenthin/.local/share/virtualenvs/sipgate-ai-ml-playground-_aDzjXm9/lib/python3.8/site-packages (from prophet) (0.29.23)\n",
      "Requirement already satisfied: cmdstanpy==0.9.68 in /home/moesenthin/.local/share/virtualenvs/sipgate-ai-ml-playground-_aDzjXm9/lib/python3.8/site-packages (from prophet) (0.9.68)\n",
      "Requirement already satisfied: pystan~=2.19.1.1 in /home/moesenthin/.local/share/virtualenvs/sipgate-ai-ml-playground-_aDzjXm9/lib/python3.8/site-packages (from prophet) (2.19.1.1)\n",
      "Requirement already satisfied: matplotlib>=2.0.0 in /home/moesenthin/.local/share/virtualenvs/sipgate-ai-ml-playground-_aDzjXm9/lib/python3.8/site-packages (from prophet) (3.4.1)\n",
      "Requirement already satisfied: LunarCalendar>=0.0.9 in /home/moesenthin/.local/share/virtualenvs/sipgate-ai-ml-playground-_aDzjXm9/lib/python3.8/site-packages (from prophet) (0.0.9)\n",
      "Requirement already satisfied: convertdate>=2.1.2 in /home/moesenthin/.local/share/virtualenvs/sipgate-ai-ml-playground-_aDzjXm9/lib/python3.8/site-packages (from prophet) (2.3.2)\n",
      "Requirement already satisfied: holidays>=0.10.2 in /home/moesenthin/.local/share/virtualenvs/sipgate-ai-ml-playground-_aDzjXm9/lib/python3.8/site-packages (from prophet) (0.11.1)\n",
      "Requirement already satisfied: setuptools-git>=1.2 in /home/moesenthin/.local/share/virtualenvs/sipgate-ai-ml-playground-_aDzjXm9/lib/python3.8/site-packages (from prophet) (1.2)\n",
      "Requirement already satisfied: tqdm>=4.36.1 in /home/moesenthin/.local/share/virtualenvs/sipgate-ai-ml-playground-_aDzjXm9/lib/python3.8/site-packages (from prophet) (4.60.0)\n",
      "Requirement already satisfied: ujson in /home/moesenthin/.local/share/virtualenvs/sipgate-ai-ml-playground-_aDzjXm9/lib/python3.8/site-packages (from cmdstanpy==0.9.68->prophet) (4.0.2)\n",
      "Requirement already satisfied: pymeeus<=1,>=0.3.13 in /home/moesenthin/.local/share/virtualenvs/sipgate-ai-ml-playground-_aDzjXm9/lib/python3.8/site-packages (from convertdate>=2.1.2->prophet) (0.5.11)\n",
      "Requirement already satisfied: korean-lunar-calendar in /home/moesenthin/.local/share/virtualenvs/sipgate-ai-ml-playground-_aDzjXm9/lib/python3.8/site-packages (from holidays>=0.10.2->prophet) (0.2.1)\n",
      "Requirement already satisfied: hijri-converter in /home/moesenthin/.local/share/virtualenvs/sipgate-ai-ml-playground-_aDzjXm9/lib/python3.8/site-packages (from holidays>=0.10.2->prophet) (2.1.1)\n",
      "Requirement already satisfied: ephem>=3.7.5.3 in /home/moesenthin/.local/share/virtualenvs/sipgate-ai-ml-playground-_aDzjXm9/lib/python3.8/site-packages (from LunarCalendar>=0.0.9->prophet) (3.7.7.1)\n",
      "Requirement already satisfied: kiwisolver>=1.0.1 in /home/moesenthin/.local/share/virtualenvs/sipgate-ai-ml-playground-_aDzjXm9/lib/python3.8/site-packages (from matplotlib>=2.0.0->prophet) (1.3.1)\n",
      "Requirement already satisfied: pillow>=6.2.0 in /home/moesenthin/.local/share/virtualenvs/sipgate-ai-ml-playground-_aDzjXm9/lib/python3.8/site-packages (from matplotlib>=2.0.0->prophet) (8.2.0)\n",
      "Requirement already satisfied: pyparsing>=2.2.1 in /home/moesenthin/.local/share/virtualenvs/sipgate-ai-ml-playground-_aDzjXm9/lib/python3.8/site-packages (from matplotlib>=2.0.0->prophet) (2.4.7)\n",
      "Requirement already satisfied: cycler>=0.10 in /home/moesenthin/.local/share/virtualenvs/sipgate-ai-ml-playground-_aDzjXm9/lib/python3.8/site-packages (from matplotlib>=2.0.0->prophet) (0.10.0)\n"
     ]
    }
   ],
   "source": [
    "!python -m pip install numpy pandas prophet matplotlib"
   ]
  },
  {
   "cell_type": "code",
   "execution_count": 2,
   "metadata": {},
   "outputs": [
    {
     "output_type": "error",
     "ename": "ModuleNotFoundError",
     "evalue": "No module named 'numpy'",
     "traceback": [
      "\u001b[0;31m---------------------------------------------------------------------------\u001b[0m",
      "\u001b[0;31mModuleNotFoundError\u001b[0m                       Traceback (most recent call last)",
      "\u001b[0;32m<ipython-input-2-84d559c8131d>\u001b[0m in \u001b[0;36m<module>\u001b[0;34m\u001b[0m\n\u001b[0;32m----> 1\u001b[0;31m \u001b[0;32mimport\u001b[0m \u001b[0mnumpy\u001b[0m \u001b[0;32mas\u001b[0m \u001b[0mnp\u001b[0m\u001b[0;34m\u001b[0m\u001b[0;34m\u001b[0m\u001b[0m\n\u001b[0m\u001b[1;32m      2\u001b[0m \u001b[0;32mimport\u001b[0m \u001b[0mpandas\u001b[0m \u001b[0;32mas\u001b[0m \u001b[0mpd\u001b[0m\u001b[0;34m\u001b[0m\u001b[0;34m\u001b[0m\u001b[0m\n\u001b[1;32m      3\u001b[0m \u001b[0;32mimport\u001b[0m \u001b[0mmatplotlib\u001b[0m \u001b[0;32mas\u001b[0m \u001b[0mmpl\u001b[0m\u001b[0;34m\u001b[0m\u001b[0;34m\u001b[0m\u001b[0m\n\u001b[1;32m      4\u001b[0m \u001b[0;32mimport\u001b[0m \u001b[0mmatplotlib\u001b[0m\u001b[0;34m.\u001b[0m\u001b[0mpyplot\u001b[0m \u001b[0;32mas\u001b[0m \u001b[0mplt\u001b[0m\u001b[0;34m\u001b[0m\u001b[0;34m\u001b[0m\u001b[0m\n\u001b[1;32m      5\u001b[0m \u001b[0;34m\u001b[0m\u001b[0m\n",
      "\u001b[0;31mModuleNotFoundError\u001b[0m: No module named 'numpy'"
     ]
    }
   ],
   "source": [
    "import numpy as np\n",
    "import pandas as pd\n",
    "import matplotlib as mpl\n",
    "import matplotlib.pyplot as plt\n",
    "\n",
    "from prophet import Prophet\n",
    "from datetime import timedelta\n",
    "\n",
    "mpl.style.use(\"seaborn\")"
   ]
  },
  {
   "cell_type": "code",
   "execution_count": null,
   "metadata": {},
   "outputs": [],
   "source": [
    "dataframe = pd.read_csv(\n",
    "    \"data/germany_vaccinations_timeseries_v2.tsv\",\n",
    "    sep=\"\\t\",\n",
    "    parse_dates=[\"date\"]\n",
    ")\n",
    "dataframe.head()"
   ]
  },
  {
   "cell_type": "code",
   "execution_count": null,
   "metadata": {},
   "outputs": [],
   "source": [
    "df_german_holidays = pd.read_csv(\n",
    "    \"data/german_holidays.csv\",\n",
    "    parse_dates=[\"Tag\"],\n",
    "    sep=\";\"\n",
    "    )[\"Tag\"]"
   ]
  },
  {
   "cell_type": "code",
   "execution_count": null,
   "metadata": {},
   "outputs": [],
   "source": [
    "df_kumulative = dataframe[[\"date\", \"dosen_kumulativ\"]]\n",
    "\n",
    "column_rename_schema = {\n",
    "    'date':'ds',\n",
    "    'dosen_kumulativ':'y',\n",
    "}\n",
    "\n",
    "df_kumulative.rename(columns = column_rename_schema, inplace = True)\n",
    "\n",
    "df_kumulative.info()"
   ]
  },
  {
   "cell_type": "code",
   "execution_count": null,
   "metadata": {},
   "outputs": [],
   "source": [
    "df_kumulative.plot(kind=\"line\", x=\"ds\", y=\"y\", figsize=(15,10))"
   ]
  },
  {
   "cell_type": "code",
   "execution_count": null,
   "metadata": {},
   "outputs": [],
   "source": [
    "holidays = pd.DataFrame({\n",
    "  'holiday': 'Deutscher Feiertag',\n",
    "  'ds': df_german_holidays,\n",
    "  'lower_window': 0,\n",
    "  'upper_window': 1,\n",
    "})\n",
    "\n",
    "prophet = Prophet(weekly_seasonality=True, holidays=holidays)\n",
    "\n",
    "prophet.add_country_holidays(country_name = 'DE')\n",
    "\n",
    "prophet.fit(df_kumulative)\n",
    "\n",
    "future = prophet.make_future_dataframe(periods=200)\n",
    "\n",
    "forecast = prophet.predict(future)\n",
    "\n",
    "fig_forecast = plt.figure(dpi=200)\n",
    "\n",
    "fig_forecast.set_facecolor(\"white\")\n",
    "\n",
    "ax=fig_forecast.gca()\n",
    "# disable scientific numbers\n",
    "ax.ticklabel_format(useOffset=False, style='plain')\n",
    "\n",
    "german_population = 83020000\n",
    "german_population_herd = german_population * 0.7\n",
    "\n",
    "# first_date = df_kumulative[\"ds\"].loc[0]\n",
    "# last_date = df_kumulative[\"ds\"].loc[len(df_kumulative) - 1]\n",
    "\n",
    "# print(first_date, last_date, german_population)\n",
    "\n",
    "ax.axhline(y=german_population, xmin=0, xmax=1)\n",
    "\n",
    "# ax.plot(df_kumulative[\"ds\"], german_population, '-g')\n",
    "# ax.plot(first_date, german_population_herd, last_date, german_population_herd, marker = 'o')\n",
    "\n",
    "prophet_plot_forecast_fig = prophet.plot(forecast, ax=ax);\n",
    "\n",
    "prophet_plot_forecast_fig.savefig('output/forecast.png')"
   ]
  },
  {
   "cell_type": "code",
   "execution_count": null,
   "metadata": {},
   "outputs": [],
   "source": [
    "prophet.plot_components(forecast);"
   ]
  }
 ]
}
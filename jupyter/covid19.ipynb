{
 "metadata": {
  "language_info": {
   "codemirror_mode": {
    "name": "ipython",
    "version": 3
   },
   "file_extension": ".py",
   "mimetype": "text/x-python",
   "name": "python",
   "nbconvert_exporter": "python",
   "pygments_lexer": "ipython3",
   "version": "3.9.2-final"
  },
  "orig_nbformat": 2,
  "kernelspec": {
   "name": "python3",
   "language": "python",
   "display_name": "Python 3"
  }
 },
 "nbformat": 4,
 "nbformat_minor": 2,
 "cells": [
  {
   "cell_type": "code",
   "execution_count": 274,
   "metadata": {},
   "outputs": [
    {
     "output_type": "stream",
     "name": "stdout",
     "text": [
      "Requirement already satisfied: pandas in /home/codedrift/.local/share/virtualenvs/python-ai-ml-cTYFT-Vp/lib/python3.9/site-packages (1.2.3)\nRequirement already satisfied: matplotlib in /home/codedrift/.local/share/virtualenvs/python-ai-ml-cTYFT-Vp/lib/python3.9/site-packages (3.4.1)\nRequirement already satisfied: seaborn in /home/codedrift/.local/share/virtualenvs/python-ai-ml-cTYFT-Vp/lib/python3.9/site-packages (0.11.1)\nRequirement already satisfied: cycler>=0.10 in /home/codedrift/.local/share/virtualenvs/python-ai-ml-cTYFT-Vp/lib/python3.9/site-packages (from matplotlib) (0.10.0)\nRequirement already satisfied: python-dateutil>=2.7 in /home/codedrift/.local/share/virtualenvs/python-ai-ml-cTYFT-Vp/lib/python3.9/site-packages (from matplotlib) (2.8.1)\nRequirement already satisfied: kiwisolver>=1.0.1 in /home/codedrift/.local/share/virtualenvs/python-ai-ml-cTYFT-Vp/lib/python3.9/site-packages (from matplotlib) (1.3.1)\nRequirement already satisfied: pyparsing>=2.2.1 in /home/codedrift/.local/share/virtualenvs/python-ai-ml-cTYFT-Vp/lib/python3.9/site-packages (from matplotlib) (2.4.7)\nRequirement already satisfied: numpy>=1.16 in /home/codedrift/.local/share/virtualenvs/python-ai-ml-cTYFT-Vp/lib/python3.9/site-packages (from matplotlib) (1.20.2)\nRequirement already satisfied: pillow>=6.2.0 in /home/codedrift/.local/share/virtualenvs/python-ai-ml-cTYFT-Vp/lib/python3.9/site-packages (from matplotlib) (8.1.2)\nRequirement already satisfied: six in /home/codedrift/.local/share/virtualenvs/python-ai-ml-cTYFT-Vp/lib/python3.9/site-packages (from cycler>=0.10->matplotlib) (1.15.0)\nRequirement already satisfied: pytz>=2017.3 in /home/codedrift/.local/share/virtualenvs/python-ai-ml-cTYFT-Vp/lib/python3.9/site-packages (from pandas) (2021.1)\nRequirement already satisfied: scipy>=1.0 in /home/codedrift/.local/share/virtualenvs/python-ai-ml-cTYFT-Vp/lib/python3.9/site-packages (from seaborn) (1.6.2)\n"
     ]
    }
   ],
   "source": [
    "!python -m pip install pandas matplotlib seaborn"
   ]
  },
  {
   "cell_type": "code",
   "execution_count": 275,
   "metadata": {},
   "outputs": [],
   "source": [
    "%matplotlib inline\n",
    "import pandas as pd\n",
    "import matplotlib.pyplot as plt\n",
    "import seaborn as sns\n",
    "sns.set_style('white')"
   ]
  },
  {
   "cell_type": "code",
   "execution_count": 276,
   "metadata": {},
   "outputs": [],
   "source": [
    "# data from https://www.kaggle.com/gpreda/covid-world-vaccination-progress\n",
    "\n",
    "df = pd.read_csv('data/country_vaccinations.csv')\n"
   ]
  },
  {
   "cell_type": "code",
   "execution_count": 277,
   "metadata": {},
   "outputs": [
    {
     "output_type": "execute_result",
     "data": {
      "text/plain": [
       "       country iso_code        date  total_vaccinations  people_vaccinated  \\\n",
       "0  Afghanistan      AFG  2021-02-22                 0.0                0.0   \n",
       "1  Afghanistan      AFG  2021-02-23                 NaN                NaN   \n",
       "2  Afghanistan      AFG  2021-02-24                 NaN                NaN   \n",
       "3  Afghanistan      AFG  2021-02-25                 NaN                NaN   \n",
       "4  Afghanistan      AFG  2021-02-26                 NaN                NaN   \n",
       "\n",
       "   people_fully_vaccinated  daily_vaccinations_raw  daily_vaccinations  \\\n",
       "0                      NaN                     NaN                 NaN   \n",
       "1                      NaN                     NaN              1367.0   \n",
       "2                      NaN                     NaN              1367.0   \n",
       "3                      NaN                     NaN              1367.0   \n",
       "4                      NaN                     NaN              1367.0   \n",
       "\n",
       "   total_vaccinations_per_hundred  people_vaccinated_per_hundred  \\\n",
       "0                             0.0                            0.0   \n",
       "1                             NaN                            NaN   \n",
       "2                             NaN                            NaN   \n",
       "3                             NaN                            NaN   \n",
       "4                             NaN                            NaN   \n",
       "\n",
       "   people_fully_vaccinated_per_hundred  daily_vaccinations_per_million  \\\n",
       "0                                  NaN                             NaN   \n",
       "1                                  NaN                            35.0   \n",
       "2                                  NaN                            35.0   \n",
       "3                                  NaN                            35.0   \n",
       "4                                  NaN                            35.0   \n",
       "\n",
       "             vaccines                source_name  \\\n",
       "0  Oxford/AstraZeneca  Government of Afghanistan   \n",
       "1  Oxford/AstraZeneca  Government of Afghanistan   \n",
       "2  Oxford/AstraZeneca  Government of Afghanistan   \n",
       "3  Oxford/AstraZeneca  Government of Afghanistan   \n",
       "4  Oxford/AstraZeneca  Government of Afghanistan   \n",
       "\n",
       "                                      source_website  \n",
       "0  http://www.xinhuanet.com/english/asiapacific/2...  \n",
       "1  http://www.xinhuanet.com/english/asiapacific/2...  \n",
       "2  http://www.xinhuanet.com/english/asiapacific/2...  \n",
       "3  http://www.xinhuanet.com/english/asiapacific/2...  \n",
       "4  http://www.xinhuanet.com/english/asiapacific/2...  "
      ],
      "text/html": "<div>\n<style scoped>\n    .dataframe tbody tr th:only-of-type {\n        vertical-align: middle;\n    }\n\n    .dataframe tbody tr th {\n        vertical-align: top;\n    }\n\n    .dataframe thead th {\n        text-align: right;\n    }\n</style>\n<table border=\"1\" class=\"dataframe\">\n  <thead>\n    <tr style=\"text-align: right;\">\n      <th></th>\n      <th>country</th>\n      <th>iso_code</th>\n      <th>date</th>\n      <th>total_vaccinations</th>\n      <th>people_vaccinated</th>\n      <th>people_fully_vaccinated</th>\n      <th>daily_vaccinations_raw</th>\n      <th>daily_vaccinations</th>\n      <th>total_vaccinations_per_hundred</th>\n      <th>people_vaccinated_per_hundred</th>\n      <th>people_fully_vaccinated_per_hundred</th>\n      <th>daily_vaccinations_per_million</th>\n      <th>vaccines</th>\n      <th>source_name</th>\n      <th>source_website</th>\n    </tr>\n  </thead>\n  <tbody>\n    <tr>\n      <th>0</th>\n      <td>Afghanistan</td>\n      <td>AFG</td>\n      <td>2021-02-22</td>\n      <td>0.0</td>\n      <td>0.0</td>\n      <td>NaN</td>\n      <td>NaN</td>\n      <td>NaN</td>\n      <td>0.0</td>\n      <td>0.0</td>\n      <td>NaN</td>\n      <td>NaN</td>\n      <td>Oxford/AstraZeneca</td>\n      <td>Government of Afghanistan</td>\n      <td>http://www.xinhuanet.com/english/asiapacific/2...</td>\n    </tr>\n    <tr>\n      <th>1</th>\n      <td>Afghanistan</td>\n      <td>AFG</td>\n      <td>2021-02-23</td>\n      <td>NaN</td>\n      <td>NaN</td>\n      <td>NaN</td>\n      <td>NaN</td>\n      <td>1367.0</td>\n      <td>NaN</td>\n      <td>NaN</td>\n      <td>NaN</td>\n      <td>35.0</td>\n      <td>Oxford/AstraZeneca</td>\n      <td>Government of Afghanistan</td>\n      <td>http://www.xinhuanet.com/english/asiapacific/2...</td>\n    </tr>\n    <tr>\n      <th>2</th>\n      <td>Afghanistan</td>\n      <td>AFG</td>\n      <td>2021-02-24</td>\n      <td>NaN</td>\n      <td>NaN</td>\n      <td>NaN</td>\n      <td>NaN</td>\n      <td>1367.0</td>\n      <td>NaN</td>\n      <td>NaN</td>\n      <td>NaN</td>\n      <td>35.0</td>\n      <td>Oxford/AstraZeneca</td>\n      <td>Government of Afghanistan</td>\n      <td>http://www.xinhuanet.com/english/asiapacific/2...</td>\n    </tr>\n    <tr>\n      <th>3</th>\n      <td>Afghanistan</td>\n      <td>AFG</td>\n      <td>2021-02-25</td>\n      <td>NaN</td>\n      <td>NaN</td>\n      <td>NaN</td>\n      <td>NaN</td>\n      <td>1367.0</td>\n      <td>NaN</td>\n      <td>NaN</td>\n      <td>NaN</td>\n      <td>35.0</td>\n      <td>Oxford/AstraZeneca</td>\n      <td>Government of Afghanistan</td>\n      <td>http://www.xinhuanet.com/english/asiapacific/2...</td>\n    </tr>\n    <tr>\n      <th>4</th>\n      <td>Afghanistan</td>\n      <td>AFG</td>\n      <td>2021-02-26</td>\n      <td>NaN</td>\n      <td>NaN</td>\n      <td>NaN</td>\n      <td>NaN</td>\n      <td>1367.0</td>\n      <td>NaN</td>\n      <td>NaN</td>\n      <td>NaN</td>\n      <td>35.0</td>\n      <td>Oxford/AstraZeneca</td>\n      <td>Government of Afghanistan</td>\n      <td>http://www.xinhuanet.com/english/asiapacific/2...</td>\n    </tr>\n  </tbody>\n</table>\n</div>"
     },
     "metadata": {},
     "execution_count": 277
    }
   ],
   "source": [
    "df.head()"
   ]
  },
  {
   "cell_type": "code",
   "execution_count": 278,
   "metadata": {},
   "outputs": [
    {
     "output_type": "execute_result",
     "data": {
      "text/plain": [
       "       country iso_code        date  total_vaccinations  people_vaccinated  \\\n",
       "8836  Zimbabwe      ZWE  2021-03-25             54892.0            54892.0   \n",
       "8837  Zimbabwe      ZWE  2021-03-26             61093.0            61093.0   \n",
       "8838  Zimbabwe      ZWE  2021-03-27             65466.0            65466.0   \n",
       "8839  Zimbabwe      ZWE  2021-03-28             68511.0            68511.0   \n",
       "8840  Zimbabwe      ZWE  2021-03-29             69751.0            69751.0   \n",
       "\n",
       "      people_fully_vaccinated  daily_vaccinations_raw  daily_vaccinations  \\\n",
       "8836                      NaN                  5488.0              2127.0   \n",
       "8837                      NaN                  6201.0              2772.0   \n",
       "8838                      NaN                  4373.0              3322.0   \n",
       "8839                      NaN                  3045.0              3683.0   \n",
       "8840                      NaN                  1240.0              3780.0   \n",
       "\n",
       "      total_vaccinations_per_hundred  people_vaccinated_per_hundred  \\\n",
       "8836                            0.37                           0.37   \n",
       "8837                            0.41                           0.41   \n",
       "8838                            0.44                           0.44   \n",
       "8839                            0.46                           0.46   \n",
       "8840                            0.47                           0.47   \n",
       "\n",
       "      people_fully_vaccinated_per_hundred  daily_vaccinations_per_million  \\\n",
       "8836                                  NaN                           143.0   \n",
       "8837                                  NaN                           187.0   \n",
       "8838                                  NaN                           224.0   \n",
       "8839                                  NaN                           248.0   \n",
       "8840                                  NaN                           254.0   \n",
       "\n",
       "               vaccines         source_name  \\\n",
       "8836  Sinopharm/Beijing  Ministry of Health   \n",
       "8837  Sinopharm/Beijing  Ministry of Health   \n",
       "8838  Sinopharm/Beijing  Ministry of Health   \n",
       "8839  Sinopharm/Beijing  Ministry of Health   \n",
       "8840  Sinopharm/Beijing  Ministry of Health   \n",
       "\n",
       "                                         source_website  \n",
       "8836  https://twitter.com/MoHCCZim/status/1376618518...  \n",
       "8837  https://twitter.com/MoHCCZim/status/1376618518...  \n",
       "8838  https://twitter.com/MoHCCZim/status/1376618518...  \n",
       "8839  https://twitter.com/MoHCCZim/status/1376618518...  \n",
       "8840  https://twitter.com/MoHCCZim/status/1376618518...  "
      ],
      "text/html": "<div>\n<style scoped>\n    .dataframe tbody tr th:only-of-type {\n        vertical-align: middle;\n    }\n\n    .dataframe tbody tr th {\n        vertical-align: top;\n    }\n\n    .dataframe thead th {\n        text-align: right;\n    }\n</style>\n<table border=\"1\" class=\"dataframe\">\n  <thead>\n    <tr style=\"text-align: right;\">\n      <th></th>\n      <th>country</th>\n      <th>iso_code</th>\n      <th>date</th>\n      <th>total_vaccinations</th>\n      <th>people_vaccinated</th>\n      <th>people_fully_vaccinated</th>\n      <th>daily_vaccinations_raw</th>\n      <th>daily_vaccinations</th>\n      <th>total_vaccinations_per_hundred</th>\n      <th>people_vaccinated_per_hundred</th>\n      <th>people_fully_vaccinated_per_hundred</th>\n      <th>daily_vaccinations_per_million</th>\n      <th>vaccines</th>\n      <th>source_name</th>\n      <th>source_website</th>\n    </tr>\n  </thead>\n  <tbody>\n    <tr>\n      <th>8836</th>\n      <td>Zimbabwe</td>\n      <td>ZWE</td>\n      <td>2021-03-25</td>\n      <td>54892.0</td>\n      <td>54892.0</td>\n      <td>NaN</td>\n      <td>5488.0</td>\n      <td>2127.0</td>\n      <td>0.37</td>\n      <td>0.37</td>\n      <td>NaN</td>\n      <td>143.0</td>\n      <td>Sinopharm/Beijing</td>\n      <td>Ministry of Health</td>\n      <td>https://twitter.com/MoHCCZim/status/1376618518...</td>\n    </tr>\n    <tr>\n      <th>8837</th>\n      <td>Zimbabwe</td>\n      <td>ZWE</td>\n      <td>2021-03-26</td>\n      <td>61093.0</td>\n      <td>61093.0</td>\n      <td>NaN</td>\n      <td>6201.0</td>\n      <td>2772.0</td>\n      <td>0.41</td>\n      <td>0.41</td>\n      <td>NaN</td>\n      <td>187.0</td>\n      <td>Sinopharm/Beijing</td>\n      <td>Ministry of Health</td>\n      <td>https://twitter.com/MoHCCZim/status/1376618518...</td>\n    </tr>\n    <tr>\n      <th>8838</th>\n      <td>Zimbabwe</td>\n      <td>ZWE</td>\n      <td>2021-03-27</td>\n      <td>65466.0</td>\n      <td>65466.0</td>\n      <td>NaN</td>\n      <td>4373.0</td>\n      <td>3322.0</td>\n      <td>0.44</td>\n      <td>0.44</td>\n      <td>NaN</td>\n      <td>224.0</td>\n      <td>Sinopharm/Beijing</td>\n      <td>Ministry of Health</td>\n      <td>https://twitter.com/MoHCCZim/status/1376618518...</td>\n    </tr>\n    <tr>\n      <th>8839</th>\n      <td>Zimbabwe</td>\n      <td>ZWE</td>\n      <td>2021-03-28</td>\n      <td>68511.0</td>\n      <td>68511.0</td>\n      <td>NaN</td>\n      <td>3045.0</td>\n      <td>3683.0</td>\n      <td>0.46</td>\n      <td>0.46</td>\n      <td>NaN</td>\n      <td>248.0</td>\n      <td>Sinopharm/Beijing</td>\n      <td>Ministry of Health</td>\n      <td>https://twitter.com/MoHCCZim/status/1376618518...</td>\n    </tr>\n    <tr>\n      <th>8840</th>\n      <td>Zimbabwe</td>\n      <td>ZWE</td>\n      <td>2021-03-29</td>\n      <td>69751.0</td>\n      <td>69751.0</td>\n      <td>NaN</td>\n      <td>1240.0</td>\n      <td>3780.0</td>\n      <td>0.47</td>\n      <td>0.47</td>\n      <td>NaN</td>\n      <td>254.0</td>\n      <td>Sinopharm/Beijing</td>\n      <td>Ministry of Health</td>\n      <td>https://twitter.com/MoHCCZim/status/1376618518...</td>\n    </tr>\n  </tbody>\n</table>\n</div>"
     },
     "metadata": {},
     "execution_count": 278
    }
   ],
   "source": [
    "df.tail()"
   ]
  },
  {
   "cell_type": "code",
   "execution_count": 279,
   "metadata": {},
   "outputs": [
    {
     "output_type": "execute_result",
     "data": {
      "text/plain": [
       "8841"
      ]
     },
     "metadata": {},
     "execution_count": 279
    }
   ],
   "source": [
    "len(df)"
   ]
  },
  {
   "cell_type": "code",
   "execution_count": 280,
   "metadata": {},
   "outputs": [
    {
     "output_type": "execute_result",
     "data": {
      "text/plain": [
       "country                                 object\n",
       "iso_code                                object\n",
       "date                                    object\n",
       "total_vaccinations                     float64\n",
       "people_vaccinated                      float64\n",
       "people_fully_vaccinated                float64\n",
       "daily_vaccinations_raw                 float64\n",
       "daily_vaccinations                     float64\n",
       "total_vaccinations_per_hundred         float64\n",
       "people_vaccinated_per_hundred          float64\n",
       "people_fully_vaccinated_per_hundred    float64\n",
       "daily_vaccinations_per_million         float64\n",
       "vaccines                                object\n",
       "source_name                             object\n",
       "source_website                          object\n",
       "dtype: object"
      ]
     },
     "metadata": {},
     "execution_count": 280
    }
   ],
   "source": [
    "df.dtypes"
   ]
  },
  {
   "cell_type": "code",
   "execution_count": 281,
   "metadata": {},
   "outputs": [
    {
     "output_type": "stream",
     "name": "stdout",
     "text": [
      "<class 'pandas.core.frame.DataFrame'>\nRangeIndex: 8841 entries, 0 to 8840\nData columns (total 15 columns):\n #   Column                               Non-Null Count  Dtype  \n---  ------                               --------------  -----  \n 0   country                              8841 non-null   object \n 1   iso_code                             8841 non-null   object \n 2   date                                 8841 non-null   object \n 3   total_vaccinations                   5398 non-null   float64\n 4   people_vaccinated                    4835 non-null   float64\n 5   people_fully_vaccinated              3292 non-null   float64\n 6   daily_vaccinations_raw               4538 non-null   float64\n 7   daily_vaccinations                   8668 non-null   float64\n 8   total_vaccinations_per_hundred       5398 non-null   float64\n 9   people_vaccinated_per_hundred        4835 non-null   float64\n 10  people_fully_vaccinated_per_hundred  3292 non-null   float64\n 11  daily_vaccinations_per_million       8668 non-null   float64\n 12  vaccines                             8841 non-null   object \n 13  source_name                          8841 non-null   object \n 14  source_website                       8841 non-null   object \ndtypes: float64(9), object(6)\nmemory usage: 1.0+ MB\n"
     ]
    }
   ],
   "source": [
    "df.info()"
   ]
  },
  {
   "cell_type": "code",
   "execution_count": 282,
   "metadata": {},
   "outputs": [
    {
     "output_type": "execute_result",
     "data": {
      "text/plain": [
       "array(['Afghanistan', 'Albania', 'Algeria', 'Andorra', 'Angola',\n",
       "       'Anguilla', 'Antigua and Barbuda', 'Argentina', 'Australia',\n",
       "       'Austria', 'Azerbaijan', 'Bahamas', 'Bahrain', 'Bangladesh',\n",
       "       'Barbados', 'Belarus', 'Belgium', 'Belize', 'Bermuda', 'Bhutan',\n",
       "       'Bolivia', 'Brazil', 'Bulgaria', 'Cambodia', 'Canada',\n",
       "       'Cayman Islands', 'Chile', 'China', 'Colombia', 'Costa Rica',\n",
       "       \"Cote d'Ivoire\", 'Croatia', 'Cyprus', 'Czechia', 'Denmark',\n",
       "       'Dominica', 'Dominican Republic', 'Ecuador', 'Egypt',\n",
       "       'El Salvador', 'England', 'Equatorial Guinea', 'Estonia',\n",
       "       'Faeroe Islands', 'Falkland Islands', 'Finland', 'France',\n",
       "       'Gambia', 'Germany', 'Ghana', 'Gibraltar', 'Greece', 'Greenland',\n",
       "       'Grenada', 'Guatemala', 'Guernsey', 'Guinea', 'Guyana', 'Honduras',\n",
       "       'Hong Kong', 'Hungary', 'Iceland', 'India', 'Indonesia', 'Iran',\n",
       "       'Ireland', 'Isle of Man', 'Israel', 'Italy', 'Jamaica', 'Japan',\n",
       "       'Jersey', 'Jordan', 'Kazakhstan', 'Kenya', 'Kuwait', 'Laos',\n",
       "       'Latvia', 'Lebanon', 'Liechtenstein', 'Lithuania', 'Luxembourg',\n",
       "       'Macao', 'Malawi', 'Malaysia', 'Maldives', 'Malta', 'Mauritius',\n",
       "       'Mexico', 'Moldova', 'Monaco', 'Mongolia', 'Montenegro',\n",
       "       'Montserrat', 'Morocco', 'Mozambique', 'Myanmar', 'Namibia',\n",
       "       'Nepal', 'Netherlands', 'New Zealand', 'Nigeria',\n",
       "       'North Macedonia', 'Northern Cyprus', 'Northern Ireland', 'Norway',\n",
       "       'Oman', 'Pakistan', 'Panama', 'Paraguay', 'Peru', 'Philippines',\n",
       "       'Poland', 'Portugal', 'Qatar', 'Romania', 'Russia', 'Rwanda',\n",
       "       'Saint Helena', 'Saint Kitts and Nevis', 'Saint Lucia',\n",
       "       'Saint Vincent and the Grenadines', 'San Marino', 'Saudi Arabia',\n",
       "       'Scotland', 'Senegal', 'Serbia', 'Seychelles', 'Sierra Leone',\n",
       "       'Singapore', 'Slovakia', 'Slovenia', 'South Africa', 'South Korea',\n",
       "       'Spain', 'Sri Lanka', 'Suriname', 'Sweden', 'Switzerland',\n",
       "       'Taiwan', 'Thailand', 'Togo', 'Trinidad and Tobago', 'Tunisia',\n",
       "       'Turkey', 'Turks and Caicos Islands', 'Uganda', 'Ukraine',\n",
       "       'United Arab Emirates', 'United Kingdom', 'United States',\n",
       "       'Uruguay', 'Venezuela', 'Vietnam', 'Wales', 'Zimbabwe'],\n",
       "      dtype=object)"
      ]
     },
     "metadata": {},
     "execution_count": 282
    }
   ],
   "source": [
    "# All countris\n",
    "df.country.unique()"
   ]
  },
  {
   "cell_type": "code",
   "execution_count": 283,
   "outputs": [],
   "source": [
    "# specify color per country. sets color and country filter\n",
    "countries={\n",
    "    \"Germany\": \"#212121\",\n",
    "    \"United Kingdom\": \"#304FFE\",\n",
    "    \"India\": \"#FFAB00\",\n",
    "    \"Chile\": \"#DD2C00\",\n",
    "    \"Israel\": \"#2962FF\"\n",
    "}"
   ],
   "metadata": {
    "collapsed": false,
    "pycharm": {
     "name": "#%%\n"
    }
   }
  },
  {
   "cell_type": "code",
   "execution_count": 284,
   "metadata": {},
   "outputs": [],
   "source": [
    "# convert date strings to datetime objects\n",
    "df['date'] = pd.to_datetime(df['date'])"
   ]
  },
  {
   "cell_type": "code",
   "execution_count": 285,
   "metadata": {},
   "outputs": [
    {
     "output_type": "stream",
     "name": "stdout",
     "text": [
      "Building 5 dataframes\nCreating dataframe for Germany\n12872859.0\nCreating dataframe for United Kingdom\n34119095.0\nCreating dataframe for India\n61113354.0\nCreating dataframe for Chile\n9905091.0\nCreating dataframe for Israel\n9970269.0\n"
     ]
    }
   ],
   "source": [
    "# create separate dataframes for countries\n",
    "dataframes = []\n",
    "\n",
    "country_names = countries.keys()\n",
    "\n",
    "print(f'Building {len(country_names)} dataframes')\n",
    "\n",
    "for country in country_names:\n",
    "    print(f\"Creating dataframe for {country}\")\n",
    "    country_frame = df[ df['country'] == country ]\n",
    "    print(country_frame[\"total_vaccinations\"].max())\n",
    "    dataframes.append(country_frame)\n",
    "\n"
   ]
  },
  {
   "cell_type": "code",
   "execution_count": 286,
   "metadata": {},
   "outputs": [
    {
     "output_type": "execute_result",
     "data": {
      "text/plain": [
       "      country iso_code       date  total_vaccinations  people_vaccinated  \\\n",
       "2932  Germany      DEU 2020-12-27             23904.0            23904.0   \n",
       "2933  Germany      DEU 2020-12-28             42654.0            42654.0   \n",
       "2934  Germany      DEU 2020-12-29             90832.0            90832.0   \n",
       "2935  Germany      DEU 2020-12-30            153050.0           153050.0   \n",
       "2936  Germany      DEU 2020-12-31            201045.0           201045.0   \n",
       "\n",
       "      people_fully_vaccinated  daily_vaccinations_raw  daily_vaccinations  \\\n",
       "2932                      NaN                     NaN                 NaN   \n",
       "2933                      NaN                 18750.0             18750.0   \n",
       "2934                      NaN                 48178.0             33464.0   \n",
       "2935                      NaN                 62218.0             43049.0   \n",
       "2936                      NaN                 47995.0             44285.0   \n",
       "\n",
       "      total_vaccinations_per_hundred  people_vaccinated_per_hundred  \\\n",
       "2932                            0.03                           0.03   \n",
       "2933                            0.05                           0.05   \n",
       "2934                            0.11                           0.11   \n",
       "2935                            0.18                           0.18   \n",
       "2936                            0.24                           0.24   \n",
       "\n",
       "      people_fully_vaccinated_per_hundred  daily_vaccinations_per_million  \\\n",
       "2932                                  NaN                             NaN   \n",
       "2933                                  NaN                           224.0   \n",
       "2934                                  NaN                           399.0   \n",
       "2935                                  NaN                           514.0   \n",
       "2936                                  NaN                           529.0   \n",
       "\n",
       "                                          vaccines           source_name  \\\n",
       "2932  Moderna, Oxford/AstraZeneca, Pfizer/BioNTech  Robert Koch Institut   \n",
       "2933  Moderna, Oxford/AstraZeneca, Pfizer/BioNTech  Robert Koch Institut   \n",
       "2934  Moderna, Oxford/AstraZeneca, Pfizer/BioNTech  Robert Koch Institut   \n",
       "2935  Moderna, Oxford/AstraZeneca, Pfizer/BioNTech  Robert Koch Institut   \n",
       "2936  Moderna, Oxford/AstraZeneca, Pfizer/BioNTech  Robert Koch Institut   \n",
       "\n",
       "                 source_website  \n",
       "2932  https://impfdashboard.de/  \n",
       "2933  https://impfdashboard.de/  \n",
       "2934  https://impfdashboard.de/  \n",
       "2935  https://impfdashboard.de/  \n",
       "2936  https://impfdashboard.de/  "
      ],
      "text/html": "<div>\n<style scoped>\n    .dataframe tbody tr th:only-of-type {\n        vertical-align: middle;\n    }\n\n    .dataframe tbody tr th {\n        vertical-align: top;\n    }\n\n    .dataframe thead th {\n        text-align: right;\n    }\n</style>\n<table border=\"1\" class=\"dataframe\">\n  <thead>\n    <tr style=\"text-align: right;\">\n      <th></th>\n      <th>country</th>\n      <th>iso_code</th>\n      <th>date</th>\n      <th>total_vaccinations</th>\n      <th>people_vaccinated</th>\n      <th>people_fully_vaccinated</th>\n      <th>daily_vaccinations_raw</th>\n      <th>daily_vaccinations</th>\n      <th>total_vaccinations_per_hundred</th>\n      <th>people_vaccinated_per_hundred</th>\n      <th>people_fully_vaccinated_per_hundred</th>\n      <th>daily_vaccinations_per_million</th>\n      <th>vaccines</th>\n      <th>source_name</th>\n      <th>source_website</th>\n    </tr>\n  </thead>\n  <tbody>\n    <tr>\n      <th>2932</th>\n      <td>Germany</td>\n      <td>DEU</td>\n      <td>2020-12-27</td>\n      <td>23904.0</td>\n      <td>23904.0</td>\n      <td>NaN</td>\n      <td>NaN</td>\n      <td>NaN</td>\n      <td>0.03</td>\n      <td>0.03</td>\n      <td>NaN</td>\n      <td>NaN</td>\n      <td>Moderna, Oxford/AstraZeneca, Pfizer/BioNTech</td>\n      <td>Robert Koch Institut</td>\n      <td>https://impfdashboard.de/</td>\n    </tr>\n    <tr>\n      <th>2933</th>\n      <td>Germany</td>\n      <td>DEU</td>\n      <td>2020-12-28</td>\n      <td>42654.0</td>\n      <td>42654.0</td>\n      <td>NaN</td>\n      <td>18750.0</td>\n      <td>18750.0</td>\n      <td>0.05</td>\n      <td>0.05</td>\n      <td>NaN</td>\n      <td>224.0</td>\n      <td>Moderna, Oxford/AstraZeneca, Pfizer/BioNTech</td>\n      <td>Robert Koch Institut</td>\n      <td>https://impfdashboard.de/</td>\n    </tr>\n    <tr>\n      <th>2934</th>\n      <td>Germany</td>\n      <td>DEU</td>\n      <td>2020-12-29</td>\n      <td>90832.0</td>\n      <td>90832.0</td>\n      <td>NaN</td>\n      <td>48178.0</td>\n      <td>33464.0</td>\n      <td>0.11</td>\n      <td>0.11</td>\n      <td>NaN</td>\n      <td>399.0</td>\n      <td>Moderna, Oxford/AstraZeneca, Pfizer/BioNTech</td>\n      <td>Robert Koch Institut</td>\n      <td>https://impfdashboard.de/</td>\n    </tr>\n    <tr>\n      <th>2935</th>\n      <td>Germany</td>\n      <td>DEU</td>\n      <td>2020-12-30</td>\n      <td>153050.0</td>\n      <td>153050.0</td>\n      <td>NaN</td>\n      <td>62218.0</td>\n      <td>43049.0</td>\n      <td>0.18</td>\n      <td>0.18</td>\n      <td>NaN</td>\n      <td>514.0</td>\n      <td>Moderna, Oxford/AstraZeneca, Pfizer/BioNTech</td>\n      <td>Robert Koch Institut</td>\n      <td>https://impfdashboard.de/</td>\n    </tr>\n    <tr>\n      <th>2936</th>\n      <td>Germany</td>\n      <td>DEU</td>\n      <td>2020-12-31</td>\n      <td>201045.0</td>\n      <td>201045.0</td>\n      <td>NaN</td>\n      <td>47995.0</td>\n      <td>44285.0</td>\n      <td>0.24</td>\n      <td>0.24</td>\n      <td>NaN</td>\n      <td>529.0</td>\n      <td>Moderna, Oxford/AstraZeneca, Pfizer/BioNTech</td>\n      <td>Robert Koch Institut</td>\n      <td>https://impfdashboard.de/</td>\n    </tr>\n  </tbody>\n</table>\n</div>"
     },
     "metadata": {},
     "execution_count": 286
    }
   ],
   "source": [
    "dataframes[0].head()"
   ]
  },
  {
   "cell_type": "code",
   "execution_count": 287,
   "metadata": {},
   "outputs": [],
   "source": [
    "def drop_missing(f):\n",
    "    return f[f['total_vaccinations_per_hundred'].notna() & f['people_fully_vaccinated'].notna()]"
   ]
  },
  {
   "cell_type": "code",
   "execution_count": 288,
   "metadata": {},
   "outputs": [
    {
     "output_type": "execute_result",
     "data": {
      "text/plain": [
       "country                                 0\n",
       "iso_code                                0\n",
       "date                                    0\n",
       "total_vaccinations                      0\n",
       "people_vaccinated                       0\n",
       "people_fully_vaccinated                18\n",
       "daily_vaccinations_raw                  1\n",
       "daily_vaccinations                      1\n",
       "total_vaccinations_per_hundred          0\n",
       "people_vaccinated_per_hundred           0\n",
       "people_fully_vaccinated_per_hundred    18\n",
       "daily_vaccinations_per_million          1\n",
       "vaccines                                0\n",
       "source_name                             0\n",
       "source_website                          0\n",
       "dtype: int64"
      ]
     },
     "metadata": {},
     "execution_count": 288
    }
   ],
   "source": [
    "# check for null values\n",
    "dataframes[0].isnull().sum()"
   ]
  },
  {
   "cell_type": "code",
   "execution_count": 289,
   "metadata": {},
   "outputs": [],
   "source": [
    "\n",
    "dataframes = [drop_missing(f) for f in dataframes]"
   ]
  },
  {
   "cell_type": "code",
   "execution_count": 290,
   "metadata": {},
   "outputs": [
    {
     "output_type": "execute_result",
     "data": {
      "text/plain": [
       "country                                0\n",
       "iso_code                               0\n",
       "date                                   0\n",
       "total_vaccinations                     0\n",
       "people_vaccinated                      0\n",
       "people_fully_vaccinated                0\n",
       "daily_vaccinations_raw                 0\n",
       "daily_vaccinations                     0\n",
       "total_vaccinations_per_hundred         0\n",
       "people_vaccinated_per_hundred          0\n",
       "people_fully_vaccinated_per_hundred    0\n",
       "daily_vaccinations_per_million         0\n",
       "vaccines                               0\n",
       "source_name                            0\n",
       "source_website                         0\n",
       "dtype: int64"
      ]
     },
     "metadata": {},
     "execution_count": 290
    }
   ],
   "source": [
    "dataframes[0].isnull().sum()"
   ]
  },
  {
   "cell_type": "code",
   "execution_count": 291,
   "metadata": {},
   "outputs": [
    {
     "output_type": "execute_result",
     "data": {
      "text/plain": [
       "             country iso_code       date  total_vaccinations  \\\n",
       "8443  United Kingdom      GBR 2021-01-03           1402432.0   \n",
       "8450  United Kingdom      GBR 2021-01-10           2680386.0   \n",
       "8451  United Kingdom      GBR 2021-01-11           2847235.0   \n",
       "8452  United Kingdom      GBR 2021-01-12           3071288.0   \n",
       "8453  United Kingdom      GBR 2021-01-13           3361768.0   \n",
       "\n",
       "      people_vaccinated  people_fully_vaccinated  daily_vaccinations_raw  \\\n",
       "8443          1380430.0                  22002.0                     NaN   \n",
       "8450          2289831.0                 390555.0                     NaN   \n",
       "8451          2435521.0                 411714.0                166849.0   \n",
       "8452          2643509.0                 427779.0                224053.0   \n",
       "8453          2924244.0                 437524.0                290480.0   \n",
       "\n",
       "      daily_vaccinations  total_vaccinations_per_hundred  \\\n",
       "8443             56766.0                            2.07   \n",
       "8450            182565.0                            3.95   \n",
       "8451            180320.0                            4.19   \n",
       "8452            186247.0                            4.52   \n",
       "8453            201663.0                            4.95   \n",
       "\n",
       "      people_vaccinated_per_hundred  people_fully_vaccinated_per_hundred  \\\n",
       "8443                           2.03                                 0.03   \n",
       "8450                           3.37                                 0.58   \n",
       "8451                           3.59                                 0.61   \n",
       "8452                           3.89                                 0.63   \n",
       "8453                           4.31                                 0.64   \n",
       "\n",
       "      daily_vaccinations_per_million                             vaccines  \\\n",
       "8443                           836.0  Oxford/AstraZeneca, Pfizer/BioNTech   \n",
       "8450                          2689.0  Oxford/AstraZeneca, Pfizer/BioNTech   \n",
       "8451                          2656.0  Oxford/AstraZeneca, Pfizer/BioNTech   \n",
       "8452                          2744.0  Oxford/AstraZeneca, Pfizer/BioNTech   \n",
       "8453                          2971.0  Oxford/AstraZeneca, Pfizer/BioNTech   \n",
       "\n",
       "                           source_name  \\\n",
       "8443  Government of the United Kingdom   \n",
       "8450  Government of the United Kingdom   \n",
       "8451  Government of the United Kingdom   \n",
       "8452  Government of the United Kingdom   \n",
       "8453  Government of the United Kingdom   \n",
       "\n",
       "                                         source_website  \n",
       "8443  https://coronavirus.data.gov.uk/details/health...  \n",
       "8450  https://coronavirus.data.gov.uk/details/health...  \n",
       "8451  https://coronavirus.data.gov.uk/details/health...  \n",
       "8452  https://coronavirus.data.gov.uk/details/health...  \n",
       "8453  https://coronavirus.data.gov.uk/details/health...  "
      ],
      "text/html": "<div>\n<style scoped>\n    .dataframe tbody tr th:only-of-type {\n        vertical-align: middle;\n    }\n\n    .dataframe tbody tr th {\n        vertical-align: top;\n    }\n\n    .dataframe thead th {\n        text-align: right;\n    }\n</style>\n<table border=\"1\" class=\"dataframe\">\n  <thead>\n    <tr style=\"text-align: right;\">\n      <th></th>\n      <th>country</th>\n      <th>iso_code</th>\n      <th>date</th>\n      <th>total_vaccinations</th>\n      <th>people_vaccinated</th>\n      <th>people_fully_vaccinated</th>\n      <th>daily_vaccinations_raw</th>\n      <th>daily_vaccinations</th>\n      <th>total_vaccinations_per_hundred</th>\n      <th>people_vaccinated_per_hundred</th>\n      <th>people_fully_vaccinated_per_hundred</th>\n      <th>daily_vaccinations_per_million</th>\n      <th>vaccines</th>\n      <th>source_name</th>\n      <th>source_website</th>\n    </tr>\n  </thead>\n  <tbody>\n    <tr>\n      <th>8443</th>\n      <td>United Kingdom</td>\n      <td>GBR</td>\n      <td>2021-01-03</td>\n      <td>1402432.0</td>\n      <td>1380430.0</td>\n      <td>22002.0</td>\n      <td>NaN</td>\n      <td>56766.0</td>\n      <td>2.07</td>\n      <td>2.03</td>\n      <td>0.03</td>\n      <td>836.0</td>\n      <td>Oxford/AstraZeneca, Pfizer/BioNTech</td>\n      <td>Government of the United Kingdom</td>\n      <td>https://coronavirus.data.gov.uk/details/health...</td>\n    </tr>\n    <tr>\n      <th>8450</th>\n      <td>United Kingdom</td>\n      <td>GBR</td>\n      <td>2021-01-10</td>\n      <td>2680386.0</td>\n      <td>2289831.0</td>\n      <td>390555.0</td>\n      <td>NaN</td>\n      <td>182565.0</td>\n      <td>3.95</td>\n      <td>3.37</td>\n      <td>0.58</td>\n      <td>2689.0</td>\n      <td>Oxford/AstraZeneca, Pfizer/BioNTech</td>\n      <td>Government of the United Kingdom</td>\n      <td>https://coronavirus.data.gov.uk/details/health...</td>\n    </tr>\n    <tr>\n      <th>8451</th>\n      <td>United Kingdom</td>\n      <td>GBR</td>\n      <td>2021-01-11</td>\n      <td>2847235.0</td>\n      <td>2435521.0</td>\n      <td>411714.0</td>\n      <td>166849.0</td>\n      <td>180320.0</td>\n      <td>4.19</td>\n      <td>3.59</td>\n      <td>0.61</td>\n      <td>2656.0</td>\n      <td>Oxford/AstraZeneca, Pfizer/BioNTech</td>\n      <td>Government of the United Kingdom</td>\n      <td>https://coronavirus.data.gov.uk/details/health...</td>\n    </tr>\n    <tr>\n      <th>8452</th>\n      <td>United Kingdom</td>\n      <td>GBR</td>\n      <td>2021-01-12</td>\n      <td>3071288.0</td>\n      <td>2643509.0</td>\n      <td>427779.0</td>\n      <td>224053.0</td>\n      <td>186247.0</td>\n      <td>4.52</td>\n      <td>3.89</td>\n      <td>0.63</td>\n      <td>2744.0</td>\n      <td>Oxford/AstraZeneca, Pfizer/BioNTech</td>\n      <td>Government of the United Kingdom</td>\n      <td>https://coronavirus.data.gov.uk/details/health...</td>\n    </tr>\n    <tr>\n      <th>8453</th>\n      <td>United Kingdom</td>\n      <td>GBR</td>\n      <td>2021-01-13</td>\n      <td>3361768.0</td>\n      <td>2924244.0</td>\n      <td>437524.0</td>\n      <td>290480.0</td>\n      <td>201663.0</td>\n      <td>4.95</td>\n      <td>4.31</td>\n      <td>0.64</td>\n      <td>2971.0</td>\n      <td>Oxford/AstraZeneca, Pfizer/BioNTech</td>\n      <td>Government of the United Kingdom</td>\n      <td>https://coronavirus.data.gov.uk/details/health...</td>\n    </tr>\n  </tbody>\n</table>\n</div>"
     },
     "metadata": {},
     "execution_count": 291
    }
   ],
   "source": [
    "dataframes[1].head()"
   ]
  },
  {
   "cell_type": "code",
   "execution_count": 292,
   "metadata": {},
   "outputs": [
    {
     "output_type": "execute_result",
     "data": {
      "text/plain": [
       "array(['Oxford/AstraZeneca', 'Pfizer/BioNTech', 'Sputnik V',\n",
       "       'Oxford/AstraZeneca, Sinopharm/Beijing, Sputnik V',\n",
       "       'Oxford/AstraZeneca, Pfizer/BioNTech',\n",
       "       'Moderna, Oxford/AstraZeneca, Pfizer/BioNTech', 'Sinovac',\n",
       "       'Oxford/AstraZeneca, Pfizer/BioNTech, Sinopharm/Beijing, Sputnik V',\n",
       "       'Oxford/AstraZeneca, Sinovac', 'Sinopharm/Beijing',\n",
       "       'Pfizer/BioNTech, Sinovac',\n",
       "       'Sinopharm/Beijing, Sinopharm/Wuhan, Sinovac',\n",
       "       'Moderna, Pfizer/BioNTech', 'Moderna',\n",
       "       'Moderna, Oxford/AstraZeneca',\n",
       "       'Moderna, Oxford/AstraZeneca, Pfizer/BioNTech, Sinopharm/Beijing, Sputnik V',\n",
       "       'Covaxin, Oxford/AstraZeneca',\n",
       "       'Pfizer/BioNTech, Sinopharm/Beijing',\n",
       "       'Sinopharm/Beijing, Sputnik V',\n",
       "       'Oxford/AstraZeneca, Pfizer/BioNTech, Sputnik V',\n",
       "       'Oxford/AstraZeneca, Sinopharm/Beijing',\n",
       "       'Oxford/AstraZeneca, Pfizer/BioNTech, Sinovac',\n",
       "       'EpiVacCorona, Sputnik V', 'Johnson&Johnson',\n",
       "       'Pfizer/BioNTech, Sputnik V',\n",
       "       'Oxford/AstraZeneca, Pfizer/BioNTech, Sinopharm/Beijing, Sinopharm/Wuhan, Sputnik V',\n",
       "       'Johnson&Johnson, Moderna, Pfizer/BioNTech'], dtype=object)"
      ]
     },
     "metadata": {},
     "execution_count": 292
    }
   ],
   "source": [
    "df.vaccines.unique()"
   ]
  },
  {
   "cell_type": "code",
   "execution_count": 293,
   "metadata": {},
   "outputs": [
    {
     "output_type": "execute_result",
     "data": {
      "text/plain": [
       "                                                     Vaccine\n",
       "Germany         Moderna, Oxford/AstraZeneca, Pfizer/BioNTech\n",
       "United Kingdom           Oxford/AstraZeneca, Pfizer/BioNTech\n",
       "India                            Covaxin, Oxford/AstraZeneca\n",
       "Chile                               Pfizer/BioNTech, Sinovac\n",
       "Israel                              Moderna, Pfizer/BioNTech"
      ],
      "text/html": "<div>\n<style scoped>\n    .dataframe tbody tr th:only-of-type {\n        vertical-align: middle;\n    }\n\n    .dataframe tbody tr th {\n        vertical-align: top;\n    }\n\n    .dataframe thead th {\n        text-align: right;\n    }\n</style>\n<table border=\"1\" class=\"dataframe\">\n  <thead>\n    <tr style=\"text-align: right;\">\n      <th></th>\n      <th>Vaccine</th>\n    </tr>\n  </thead>\n  <tbody>\n    <tr>\n      <th>Germany</th>\n      <td>Moderna, Oxford/AstraZeneca, Pfizer/BioNTech</td>\n    </tr>\n    <tr>\n      <th>United Kingdom</th>\n      <td>Oxford/AstraZeneca, Pfizer/BioNTech</td>\n    </tr>\n    <tr>\n      <th>India</th>\n      <td>Covaxin, Oxford/AstraZeneca</td>\n    </tr>\n    <tr>\n      <th>Chile</th>\n      <td>Pfizer/BioNTech, Sinovac</td>\n    </tr>\n    <tr>\n      <th>Israel</th>\n      <td>Moderna, Pfizer/BioNTech</td>\n    </tr>\n  </tbody>\n</table>\n</div>"
     },
     "metadata": {},
     "execution_count": 293
    }
   ],
   "source": [
    "unique_vaccines = [f['vaccines'].unique() for f in dataframes]\n",
    "pd.DataFrame(unique_vaccines, columns=['Vaccine'],index=country_names)"
   ]
  },
  {
   "cell_type": "code",
   "execution_count": 294,
   "metadata": {},
   "outputs": [
    {
     "output_type": "execute_result",
     "data": {
      "text/plain": [
       "34119095.0"
      ]
     },
     "metadata": {},
     "execution_count": 294
    }
   ],
   "source": [
    "dataframes[1]['total_vaccinations'].max()"
   ]
  },
  {
   "cell_type": "code",
   "execution_count": 295,
   "metadata": {},
   "outputs": [
    {
     "output_type": "stream",
     "name": "stdout",
     "text": [
      "[(61113354.0, 'India'), (34119095.0, 'United Kingdom'), (12872859.0, 'Germany'), (9970269.0, 'Israel'), (9905091.0, 'Chile')]\n"
     ]
    }
   ],
   "source": [
    "sorted_countries = []\n",
    "\n",
    "for i in range(len(dataframes)):\n",
    "    fr = dataframes[i]\n",
    "    country_name = list(countries.keys())[i]\n",
    "    sorted_countries.append((fr['total_vaccinations'].max(), fr, country_name))\n",
    "\n",
    "print(sorted([(c[0], c[2]) for c in sorted_countries], reverse=True))"
   ]
  },
  {
   "cell_type": "code",
   "execution_count": 297,
   "metadata": {},
   "outputs": [
    {
     "output_type": "execute_result",
     "data": {
      "text/plain": [
       "Text(0, 0.5, 'Total Vaccinations')"
      ]
     },
     "metadata": {},
     "execution_count": 297
    },
    {
     "output_type": "display_data",
     "data": {
      "text/plain": "<Figure size 864x432 with 1 Axes>",
      "image/svg+xml": "<?xml version=\"1.0\" encoding=\"utf-8\" standalone=\"no\"?>\n<!DOCTYPE svg PUBLIC \"-//W3C//DTD SVG 1.1//EN\"\n  \"http://www.w3.org/Graphics/SVG/1.1/DTD/svg11.dtd\">\n<svg height=\"381.677969pt\" version=\"1.1\" viewBox=\"0 0 722.861947 381.677969\" width=\"722.861947pt\" xmlns=\"http://www.w3.org/2000/svg\" xmlns:xlink=\"http://www.w3.org/1999/xlink\">\n <metadata>\n  <rdf:RDF xmlns:cc=\"http://creativecommons.org/ns#\" xmlns:dc=\"http://purl.org/dc/elements/1.1/\" xmlns:rdf=\"http://www.w3.org/1999/02/22-rdf-syntax-ns#\">\n   <cc:Work>\n    <dc:type rdf:resource=\"http://purl.org/dc/dcmitype/StillImage\"/>\n    <dc:date>2021-03-31T17:19:15.451517</dc:date>\n    <dc:format>image/svg+xml</dc:format>\n    <dc:creator>\n     <cc:Agent>\n      <dc:title>Matplotlib v3.4.1, https://matplotlib.org/</dc:title>\n     </cc:Agent>\n    </dc:creator>\n   </cc:Work>\n  </rdf:RDF>\n </metadata>\n <defs>\n  <style type=\"text/css\">*{stroke-linecap:butt;stroke-linejoin:round;}</style>\n </defs>\n <g id=\"figure_1\">\n  <g id=\"patch_1\">\n   <path d=\"M 0 381.677969 \nL 722.861947 381.677969 \nL 722.861947 0 \nL 0 0 \nz\n\" style=\"fill:#ffffff;\"/>\n  </g>\n  <g id=\"axes_1\">\n   <g id=\"patch_2\">\n    <path d=\"M 23.050225 344.718281 \nL 692.650225 344.718281 \nL 692.650225 18.558281 \nL 23.050225 18.558281 \nz\n\" style=\"fill:#ffffff;\"/>\n   </g>\n   <g id=\"matplotlib.axis_1\">\n    <g id=\"xtick_1\">\n     <g id=\"text_1\">\n      <!-- 2021-01-01 -->\n      <g style=\"fill:#262626;\" transform=\"translate(7.2 356.576562)scale(0.11 -0.11)\">\n       <defs>\n        <path d=\"M 1228 531 \nL 3431 531 \nL 3431 0 \nL 469 0 \nL 469 531 \nQ 828 903 1448 1529 \nQ 2069 2156 2228 2338 \nQ 2531 2678 2651 2914 \nQ 2772 3150 2772 3378 \nQ 2772 3750 2511 3984 \nQ 2250 4219 1831 4219 \nQ 1534 4219 1204 4116 \nQ 875 4013 500 3803 \nL 500 4441 \nQ 881 4594 1212 4672 \nQ 1544 4750 1819 4750 \nQ 2544 4750 2975 4387 \nQ 3406 4025 3406 3419 \nQ 3406 3131 3298 2873 \nQ 3191 2616 2906 2266 \nQ 2828 2175 2409 1742 \nQ 1991 1309 1228 531 \nz\n\" id=\"DejaVuSans-32\" transform=\"scale(0.015625)\"/>\n        <path d=\"M 2034 4250 \nQ 1547 4250 1301 3770 \nQ 1056 3291 1056 2328 \nQ 1056 1369 1301 889 \nQ 1547 409 2034 409 \nQ 2525 409 2770 889 \nQ 3016 1369 3016 2328 \nQ 3016 3291 2770 3770 \nQ 2525 4250 2034 4250 \nz\nM 2034 4750 \nQ 2819 4750 3233 4129 \nQ 3647 3509 3647 2328 \nQ 3647 1150 3233 529 \nQ 2819 -91 2034 -91 \nQ 1250 -91 836 529 \nQ 422 1150 422 2328 \nQ 422 3509 836 4129 \nQ 1250 4750 2034 4750 \nz\n\" id=\"DejaVuSans-30\" transform=\"scale(0.015625)\"/>\n        <path d=\"M 794 531 \nL 1825 531 \nL 1825 4091 \nL 703 3866 \nL 703 4441 \nL 1819 4666 \nL 2450 4666 \nL 2450 531 \nL 3481 531 \nL 3481 0 \nL 794 0 \nL 794 531 \nz\n\" id=\"DejaVuSans-31\" transform=\"scale(0.015625)\"/>\n        <path d=\"M 313 2009 \nL 1997 2009 \nL 1997 1497 \nL 313 1497 \nL 313 2009 \nz\n\" id=\"DejaVuSans-2d\" transform=\"scale(0.015625)\"/>\n       </defs>\n       <use xlink:href=\"#DejaVuSans-32\"/>\n       <use x=\"63.623047\" xlink:href=\"#DejaVuSans-30\"/>\n       <use x=\"127.246094\" xlink:href=\"#DejaVuSans-32\"/>\n       <use x=\"190.869141\" xlink:href=\"#DejaVuSans-31\"/>\n       <use x=\"254.492188\" xlink:href=\"#DejaVuSans-2d\"/>\n       <use x=\"290.576172\" xlink:href=\"#DejaVuSans-30\"/>\n       <use x=\"354.199219\" xlink:href=\"#DejaVuSans-31\"/>\n       <use x=\"417.822266\" xlink:href=\"#DejaVuSans-2d\"/>\n       <use x=\"453.90625\" xlink:href=\"#DejaVuSans-30\"/>\n       <use x=\"517.529297\" xlink:href=\"#DejaVuSans-31\"/>\n      </g>\n     </g>\n    </g>\n    <g id=\"xtick_2\">\n     <g id=\"text_2\">\n      <!-- 2021-01-15 -->\n      <g style=\"fill:#262626;\" transform=\"translate(107.460963 356.576562)scale(0.11 -0.11)\">\n       <defs>\n        <path d=\"M 691 4666 \nL 3169 4666 \nL 3169 4134 \nL 1269 4134 \nL 1269 2991 \nQ 1406 3038 1543 3061 \nQ 1681 3084 1819 3084 \nQ 2600 3084 3056 2656 \nQ 3513 2228 3513 1497 \nQ 3513 744 3044 326 \nQ 2575 -91 1722 -91 \nQ 1428 -91 1123 -41 \nQ 819 9 494 109 \nL 494 744 \nQ 775 591 1075 516 \nQ 1375 441 1709 441 \nQ 2250 441 2565 725 \nQ 2881 1009 2881 1497 \nQ 2881 1984 2565 2268 \nQ 2250 2553 1709 2553 \nQ 1456 2553 1204 2497 \nQ 953 2441 691 2322 \nL 691 4666 \nz\n\" id=\"DejaVuSans-35\" transform=\"scale(0.015625)\"/>\n       </defs>\n       <use xlink:href=\"#DejaVuSans-32\"/>\n       <use x=\"63.623047\" xlink:href=\"#DejaVuSans-30\"/>\n       <use x=\"127.246094\" xlink:href=\"#DejaVuSans-32\"/>\n       <use x=\"190.869141\" xlink:href=\"#DejaVuSans-31\"/>\n       <use x=\"254.492188\" xlink:href=\"#DejaVuSans-2d\"/>\n       <use x=\"290.576172\" xlink:href=\"#DejaVuSans-30\"/>\n       <use x=\"354.199219\" xlink:href=\"#DejaVuSans-31\"/>\n       <use x=\"417.822266\" xlink:href=\"#DejaVuSans-2d\"/>\n       <use x=\"453.90625\" xlink:href=\"#DejaVuSans-31\"/>\n       <use x=\"517.529297\" xlink:href=\"#DejaVuSans-35\"/>\n      </g>\n     </g>\n    </g>\n    <g id=\"xtick_3\">\n     <g id=\"text_3\">\n      <!-- 2021-02-01 -->\n      <g style=\"fill:#262626;\" transform=\"translate(229.206417 356.576562)scale(0.11 -0.11)\">\n       <use xlink:href=\"#DejaVuSans-32\"/>\n       <use x=\"63.623047\" xlink:href=\"#DejaVuSans-30\"/>\n       <use x=\"127.246094\" xlink:href=\"#DejaVuSans-32\"/>\n       <use x=\"190.869141\" xlink:href=\"#DejaVuSans-31\"/>\n       <use x=\"254.492188\" xlink:href=\"#DejaVuSans-2d\"/>\n       <use x=\"290.576172\" xlink:href=\"#DejaVuSans-30\"/>\n       <use x=\"354.199219\" xlink:href=\"#DejaVuSans-32\"/>\n       <use x=\"417.822266\" xlink:href=\"#DejaVuSans-2d\"/>\n       <use x=\"453.90625\" xlink:href=\"#DejaVuSans-30\"/>\n       <use x=\"517.529297\" xlink:href=\"#DejaVuSans-31\"/>\n      </g>\n     </g>\n    </g>\n    <g id=\"xtick_4\">\n     <g id=\"text_4\">\n      <!-- 2021-02-15 -->\n      <g style=\"fill:#262626;\" transform=\"translate(329.46738 356.576562)scale(0.11 -0.11)\">\n       <use xlink:href=\"#DejaVuSans-32\"/>\n       <use x=\"63.623047\" xlink:href=\"#DejaVuSans-30\"/>\n       <use x=\"127.246094\" xlink:href=\"#DejaVuSans-32\"/>\n       <use x=\"190.869141\" xlink:href=\"#DejaVuSans-31\"/>\n       <use x=\"254.492188\" xlink:href=\"#DejaVuSans-2d\"/>\n       <use x=\"290.576172\" xlink:href=\"#DejaVuSans-30\"/>\n       <use x=\"354.199219\" xlink:href=\"#DejaVuSans-32\"/>\n       <use x=\"417.822266\" xlink:href=\"#DejaVuSans-2d\"/>\n       <use x=\"453.90625\" xlink:href=\"#DejaVuSans-31\"/>\n       <use x=\"517.529297\" xlink:href=\"#DejaVuSans-35\"/>\n      </g>\n     </g>\n    </g>\n    <g id=\"xtick_5\">\n     <g id=\"text_5\">\n      <!-- 2021-03-01 -->\n      <g style=\"fill:#262626;\" transform=\"translate(429.728342 356.576562)scale(0.11 -0.11)\">\n       <defs>\n        <path d=\"M 2597 2516 \nQ 3050 2419 3304 2112 \nQ 3559 1806 3559 1356 \nQ 3559 666 3084 287 \nQ 2609 -91 1734 -91 \nQ 1441 -91 1130 -33 \nQ 819 25 488 141 \nL 488 750 \nQ 750 597 1062 519 \nQ 1375 441 1716 441 \nQ 2309 441 2620 675 \nQ 2931 909 2931 1356 \nQ 2931 1769 2642 2001 \nQ 2353 2234 1838 2234 \nL 1294 2234 \nL 1294 2753 \nL 1863 2753 \nQ 2328 2753 2575 2939 \nQ 2822 3125 2822 3475 \nQ 2822 3834 2567 4026 \nQ 2313 4219 1838 4219 \nQ 1578 4219 1281 4162 \nQ 984 4106 628 3988 \nL 628 4550 \nQ 988 4650 1302 4700 \nQ 1616 4750 1894 4750 \nQ 2613 4750 3031 4423 \nQ 3450 4097 3450 3541 \nQ 3450 3153 3228 2886 \nQ 3006 2619 2597 2516 \nz\n\" id=\"DejaVuSans-33\" transform=\"scale(0.015625)\"/>\n       </defs>\n       <use xlink:href=\"#DejaVuSans-32\"/>\n       <use x=\"63.623047\" xlink:href=\"#DejaVuSans-30\"/>\n       <use x=\"127.246094\" xlink:href=\"#DejaVuSans-32\"/>\n       <use x=\"190.869141\" xlink:href=\"#DejaVuSans-31\"/>\n       <use x=\"254.492188\" xlink:href=\"#DejaVuSans-2d\"/>\n       <use x=\"290.576172\" xlink:href=\"#DejaVuSans-30\"/>\n       <use x=\"354.199219\" xlink:href=\"#DejaVuSans-33\"/>\n       <use x=\"417.822266\" xlink:href=\"#DejaVuSans-2d\"/>\n       <use x=\"453.90625\" xlink:href=\"#DejaVuSans-30\"/>\n       <use x=\"517.529297\" xlink:href=\"#DejaVuSans-31\"/>\n      </g>\n     </g>\n    </g>\n    <g id=\"xtick_6\">\n     <g id=\"text_6\">\n      <!-- 2021-03-15 -->\n      <g style=\"fill:#262626;\" transform=\"translate(529.989305 356.576562)scale(0.11 -0.11)\">\n       <use xlink:href=\"#DejaVuSans-32\"/>\n       <use x=\"63.623047\" xlink:href=\"#DejaVuSans-30\"/>\n       <use x=\"127.246094\" xlink:href=\"#DejaVuSans-32\"/>\n       <use x=\"190.869141\" xlink:href=\"#DejaVuSans-31\"/>\n       <use x=\"254.492188\" xlink:href=\"#DejaVuSans-2d\"/>\n       <use x=\"290.576172\" xlink:href=\"#DejaVuSans-30\"/>\n       <use x=\"354.199219\" xlink:href=\"#DejaVuSans-33\"/>\n       <use x=\"417.822266\" xlink:href=\"#DejaVuSans-2d\"/>\n       <use x=\"453.90625\" xlink:href=\"#DejaVuSans-31\"/>\n       <use x=\"517.529297\" xlink:href=\"#DejaVuSans-35\"/>\n      </g>\n     </g>\n    </g>\n    <g id=\"xtick_7\">\n     <g id=\"text_7\">\n      <!-- 2021-04-01 -->\n      <g style=\"fill:#262626;\" transform=\"translate(651.734759 356.576562)scale(0.11 -0.11)\">\n       <defs>\n        <path d=\"M 2419 4116 \nL 825 1625 \nL 2419 1625 \nL 2419 4116 \nz\nM 2253 4666 \nL 3047 4666 \nL 3047 1625 \nL 3713 1625 \nL 3713 1100 \nL 3047 1100 \nL 3047 0 \nL 2419 0 \nL 2419 1100 \nL 313 1100 \nL 313 1709 \nL 2253 4666 \nz\n\" id=\"DejaVuSans-34\" transform=\"scale(0.015625)\"/>\n       </defs>\n       <use xlink:href=\"#DejaVuSans-32\"/>\n       <use x=\"63.623047\" xlink:href=\"#DejaVuSans-30\"/>\n       <use x=\"127.246094\" xlink:href=\"#DejaVuSans-32\"/>\n       <use x=\"190.869141\" xlink:href=\"#DejaVuSans-31\"/>\n       <use x=\"254.492188\" xlink:href=\"#DejaVuSans-2d\"/>\n       <use x=\"290.576172\" xlink:href=\"#DejaVuSans-30\"/>\n       <use x=\"354.199219\" xlink:href=\"#DejaVuSans-34\"/>\n       <use x=\"417.822266\" xlink:href=\"#DejaVuSans-2d\"/>\n       <use x=\"453.90625\" xlink:href=\"#DejaVuSans-30\"/>\n       <use x=\"517.529297\" xlink:href=\"#DejaVuSans-31\"/>\n      </g>\n     </g>\n    </g>\n    <g id=\"text_8\">\n     <!-- Time -->\n     <g style=\"fill:#262626;\" transform=\"translate(343.169912 371.982344)scale(0.12 -0.12)\">\n      <defs>\n       <path d=\"M -19 4666 \nL 3928 4666 \nL 3928 4134 \nL 2272 4134 \nL 2272 0 \nL 1638 0 \nL 1638 4134 \nL -19 4134 \nL -19 4666 \nz\n\" id=\"DejaVuSans-54\" transform=\"scale(0.015625)\"/>\n       <path d=\"M 603 3500 \nL 1178 3500 \nL 1178 0 \nL 603 0 \nL 603 3500 \nz\nM 603 4863 \nL 1178 4863 \nL 1178 4134 \nL 603 4134 \nL 603 4863 \nz\n\" id=\"DejaVuSans-69\" transform=\"scale(0.015625)\"/>\n       <path d=\"M 3328 2828 \nQ 3544 3216 3844 3400 \nQ 4144 3584 4550 3584 \nQ 5097 3584 5394 3201 \nQ 5691 2819 5691 2113 \nL 5691 0 \nL 5113 0 \nL 5113 2094 \nQ 5113 2597 4934 2840 \nQ 4756 3084 4391 3084 \nQ 3944 3084 3684 2787 \nQ 3425 2491 3425 1978 \nL 3425 0 \nL 2847 0 \nL 2847 2094 \nQ 2847 2600 2669 2842 \nQ 2491 3084 2119 3084 \nQ 1678 3084 1418 2786 \nQ 1159 2488 1159 1978 \nL 1159 0 \nL 581 0 \nL 581 3500 \nL 1159 3500 \nL 1159 2956 \nQ 1356 3278 1631 3431 \nQ 1906 3584 2284 3584 \nQ 2666 3584 2933 3390 \nQ 3200 3197 3328 2828 \nz\n\" id=\"DejaVuSans-6d\" transform=\"scale(0.015625)\"/>\n       <path d=\"M 3597 1894 \nL 3597 1613 \nL 953 1613 \nQ 991 1019 1311 708 \nQ 1631 397 2203 397 \nQ 2534 397 2845 478 \nQ 3156 559 3463 722 \nL 3463 178 \nQ 3153 47 2828 -22 \nQ 2503 -91 2169 -91 \nQ 1331 -91 842 396 \nQ 353 884 353 1716 \nQ 353 2575 817 3079 \nQ 1281 3584 2069 3584 \nQ 2775 3584 3186 3129 \nQ 3597 2675 3597 1894 \nz\nM 3022 2063 \nQ 3016 2534 2758 2815 \nQ 2500 3097 2075 3097 \nQ 1594 3097 1305 2825 \nQ 1016 2553 972 2059 \nL 3022 2063 \nz\n\" id=\"DejaVuSans-65\" transform=\"scale(0.015625)\"/>\n      </defs>\n      <use xlink:href=\"#DejaVuSans-54\"/>\n      <use x=\"57.958984\" xlink:href=\"#DejaVuSans-69\"/>\n      <use x=\"85.742188\" xlink:href=\"#DejaVuSans-6d\"/>\n      <use x=\"183.154297\" xlink:href=\"#DejaVuSans-65\"/>\n     </g>\n    </g>\n   </g>\n   <g id=\"matplotlib.axis_2\">\n    <g id=\"ytick_1\">\n     <g id=\"line2d_1\"/>\n     <g id=\"text_9\">\n      <!-- 0 -->\n      <g style=\"fill:#262626;\" transform=\"translate(696.150225 334.128899)scale(0.11 -0.11)\">\n       <use xlink:href=\"#DejaVuSans-30\"/>\n      </g>\n     </g>\n    </g>\n    <g id=\"ytick_2\">\n     <g id=\"line2d_2\"/>\n     <g id=\"text_10\">\n      <!-- 1 -->\n      <g style=\"fill:#262626;\" transform=\"translate(696.150225 285.601695)scale(0.11 -0.11)\">\n       <use xlink:href=\"#DejaVuSans-31\"/>\n      </g>\n     </g>\n    </g>\n    <g id=\"ytick_3\">\n     <g id=\"line2d_3\"/>\n     <g id=\"text_11\">\n      <!-- 2 -->\n      <g style=\"fill:#262626;\" transform=\"translate(696.150225 237.07449)scale(0.11 -0.11)\">\n       <use xlink:href=\"#DejaVuSans-32\"/>\n      </g>\n     </g>\n    </g>\n    <g id=\"ytick_4\">\n     <g id=\"line2d_4\"/>\n     <g id=\"text_12\">\n      <!-- 3 -->\n      <g style=\"fill:#262626;\" transform=\"translate(696.150225 188.547286)scale(0.11 -0.11)\">\n       <use xlink:href=\"#DejaVuSans-33\"/>\n      </g>\n     </g>\n    </g>\n    <g id=\"ytick_5\">\n     <g id=\"line2d_5\"/>\n     <g id=\"text_13\">\n      <!-- 4 -->\n      <g style=\"fill:#262626;\" transform=\"translate(696.150225 140.020081)scale(0.11 -0.11)\">\n       <use xlink:href=\"#DejaVuSans-34\"/>\n      </g>\n     </g>\n    </g>\n    <g id=\"ytick_6\">\n     <g id=\"line2d_6\"/>\n     <g id=\"text_14\">\n      <!-- 5 -->\n      <g style=\"fill:#262626;\" transform=\"translate(696.150225 91.492877)scale(0.11 -0.11)\">\n       <use xlink:href=\"#DejaVuSans-35\"/>\n      </g>\n     </g>\n    </g>\n    <g id=\"ytick_7\">\n     <g id=\"line2d_7\"/>\n     <g id=\"text_15\">\n      <!-- 6 -->\n      <g style=\"fill:#262626;\" transform=\"translate(696.150225 42.965672)scale(0.11 -0.11)\">\n       <defs>\n        <path d=\"M 2113 2584 \nQ 1688 2584 1439 2293 \nQ 1191 2003 1191 1497 \nQ 1191 994 1439 701 \nQ 1688 409 2113 409 \nQ 2538 409 2786 701 \nQ 3034 994 3034 1497 \nQ 3034 2003 2786 2293 \nQ 2538 2584 2113 2584 \nz\nM 3366 4563 \nL 3366 3988 \nQ 3128 4100 2886 4159 \nQ 2644 4219 2406 4219 \nQ 1781 4219 1451 3797 \nQ 1122 3375 1075 2522 \nQ 1259 2794 1537 2939 \nQ 1816 3084 2150 3084 \nQ 2853 3084 3261 2657 \nQ 3669 2231 3669 1497 \nQ 3669 778 3244 343 \nQ 2819 -91 2113 -91 \nQ 1303 -91 875 529 \nQ 447 1150 447 2328 \nQ 447 3434 972 4092 \nQ 1497 4750 2381 4750 \nQ 2619 4750 2861 4703 \nQ 3103 4656 3366 4563 \nz\n\" id=\"DejaVuSans-36\" transform=\"scale(0.015625)\"/>\n       </defs>\n       <use xlink:href=\"#DejaVuSans-36\"/>\n      </g>\n     </g>\n    </g>\n    <g id=\"text_16\">\n     <!-- Total Vaccinations -->\n     <g style=\"fill:#262626;\" transform=\"translate(16.5546 235.236094)rotate(-90)scale(0.12 -0.12)\">\n      <defs>\n       <path d=\"M 1959 3097 \nQ 1497 3097 1228 2736 \nQ 959 2375 959 1747 \nQ 959 1119 1226 758 \nQ 1494 397 1959 397 \nQ 2419 397 2687 759 \nQ 2956 1122 2956 1747 \nQ 2956 2369 2687 2733 \nQ 2419 3097 1959 3097 \nz\nM 1959 3584 \nQ 2709 3584 3137 3096 \nQ 3566 2609 3566 1747 \nQ 3566 888 3137 398 \nQ 2709 -91 1959 -91 \nQ 1206 -91 779 398 \nQ 353 888 353 1747 \nQ 353 2609 779 3096 \nQ 1206 3584 1959 3584 \nz\n\" id=\"DejaVuSans-6f\" transform=\"scale(0.015625)\"/>\n       <path d=\"M 1172 4494 \nL 1172 3500 \nL 2356 3500 \nL 2356 3053 \nL 1172 3053 \nL 1172 1153 \nQ 1172 725 1289 603 \nQ 1406 481 1766 481 \nL 2356 481 \nL 2356 0 \nL 1766 0 \nQ 1100 0 847 248 \nQ 594 497 594 1153 \nL 594 3053 \nL 172 3053 \nL 172 3500 \nL 594 3500 \nL 594 4494 \nL 1172 4494 \nz\n\" id=\"DejaVuSans-74\" transform=\"scale(0.015625)\"/>\n       <path d=\"M 2194 1759 \nQ 1497 1759 1228 1600 \nQ 959 1441 959 1056 \nQ 959 750 1161 570 \nQ 1363 391 1709 391 \nQ 2188 391 2477 730 \nQ 2766 1069 2766 1631 \nL 2766 1759 \nL 2194 1759 \nz\nM 3341 1997 \nL 3341 0 \nL 2766 0 \nL 2766 531 \nQ 2569 213 2275 61 \nQ 1981 -91 1556 -91 \nQ 1019 -91 701 211 \nQ 384 513 384 1019 \nQ 384 1609 779 1909 \nQ 1175 2209 1959 2209 \nL 2766 2209 \nL 2766 2266 \nQ 2766 2663 2505 2880 \nQ 2244 3097 1772 3097 \nQ 1472 3097 1187 3025 \nQ 903 2953 641 2809 \nL 641 3341 \nQ 956 3463 1253 3523 \nQ 1550 3584 1831 3584 \nQ 2591 3584 2966 3190 \nQ 3341 2797 3341 1997 \nz\n\" id=\"DejaVuSans-61\" transform=\"scale(0.015625)\"/>\n       <path d=\"M 603 4863 \nL 1178 4863 \nL 1178 0 \nL 603 0 \nL 603 4863 \nz\n\" id=\"DejaVuSans-6c\" transform=\"scale(0.015625)\"/>\n       <path id=\"DejaVuSans-20\" transform=\"scale(0.015625)\"/>\n       <path d=\"M 1831 0 \nL 50 4666 \nL 709 4666 \nL 2188 738 \nL 3669 4666 \nL 4325 4666 \nL 2547 0 \nL 1831 0 \nz\n\" id=\"DejaVuSans-56\" transform=\"scale(0.015625)\"/>\n       <path d=\"M 3122 3366 \nL 3122 2828 \nQ 2878 2963 2633 3030 \nQ 2388 3097 2138 3097 \nQ 1578 3097 1268 2742 \nQ 959 2388 959 1747 \nQ 959 1106 1268 751 \nQ 1578 397 2138 397 \nQ 2388 397 2633 464 \nQ 2878 531 3122 666 \nL 3122 134 \nQ 2881 22 2623 -34 \nQ 2366 -91 2075 -91 \nQ 1284 -91 818 406 \nQ 353 903 353 1747 \nQ 353 2603 823 3093 \nQ 1294 3584 2113 3584 \nQ 2378 3584 2631 3529 \nQ 2884 3475 3122 3366 \nz\n\" id=\"DejaVuSans-63\" transform=\"scale(0.015625)\"/>\n       <path d=\"M 3513 2113 \nL 3513 0 \nL 2938 0 \nL 2938 2094 \nQ 2938 2591 2744 2837 \nQ 2550 3084 2163 3084 \nQ 1697 3084 1428 2787 \nQ 1159 2491 1159 1978 \nL 1159 0 \nL 581 0 \nL 581 3500 \nL 1159 3500 \nL 1159 2956 \nQ 1366 3272 1645 3428 \nQ 1925 3584 2291 3584 \nQ 2894 3584 3203 3211 \nQ 3513 2838 3513 2113 \nz\n\" id=\"DejaVuSans-6e\" transform=\"scale(0.015625)\"/>\n       <path d=\"M 2834 3397 \nL 2834 2853 \nQ 2591 2978 2328 3040 \nQ 2066 3103 1784 3103 \nQ 1356 3103 1142 2972 \nQ 928 2841 928 2578 \nQ 928 2378 1081 2264 \nQ 1234 2150 1697 2047 \nL 1894 2003 \nQ 2506 1872 2764 1633 \nQ 3022 1394 3022 966 \nQ 3022 478 2636 193 \nQ 2250 -91 1575 -91 \nQ 1294 -91 989 -36 \nQ 684 19 347 128 \nL 347 722 \nQ 666 556 975 473 \nQ 1284 391 1588 391 \nQ 1994 391 2212 530 \nQ 2431 669 2431 922 \nQ 2431 1156 2273 1281 \nQ 2116 1406 1581 1522 \nL 1381 1569 \nQ 847 1681 609 1914 \nQ 372 2147 372 2553 \nQ 372 3047 722 3315 \nQ 1072 3584 1716 3584 \nQ 2034 3584 2315 3537 \nQ 2597 3491 2834 3397 \nz\n\" id=\"DejaVuSans-73\" transform=\"scale(0.015625)\"/>\n      </defs>\n      <use xlink:href=\"#DejaVuSans-54\"/>\n      <use x=\"44.083984\" xlink:href=\"#DejaVuSans-6f\"/>\n      <use x=\"105.265625\" xlink:href=\"#DejaVuSans-74\"/>\n      <use x=\"144.474609\" xlink:href=\"#DejaVuSans-61\"/>\n      <use x=\"205.753906\" xlink:href=\"#DejaVuSans-6c\"/>\n      <use x=\"233.537109\" xlink:href=\"#DejaVuSans-20\"/>\n      <use x=\"265.324219\" xlink:href=\"#DejaVuSans-56\"/>\n      <use x=\"325.982422\" xlink:href=\"#DejaVuSans-61\"/>\n      <use x=\"387.261719\" xlink:href=\"#DejaVuSans-63\"/>\n      <use x=\"442.242188\" xlink:href=\"#DejaVuSans-63\"/>\n      <use x=\"497.222656\" xlink:href=\"#DejaVuSans-69\"/>\n      <use x=\"525.005859\" xlink:href=\"#DejaVuSans-6e\"/>\n      <use x=\"588.384766\" xlink:href=\"#DejaVuSans-61\"/>\n      <use x=\"649.664062\" xlink:href=\"#DejaVuSans-74\"/>\n      <use x=\"688.873047\" xlink:href=\"#DejaVuSans-69\"/>\n      <use x=\"716.65625\" xlink:href=\"#DejaVuSans-6f\"/>\n      <use x=\"777.837891\" xlink:href=\"#DejaVuSans-6e\"/>\n      <use x=\"841.216797\" xlink:href=\"#DejaVuSans-73\"/>\n     </g>\n    </g>\n    <g id=\"text_17\">\n     <!-- 1e7 -->\n     <g style=\"fill:#262626;\" transform=\"translate(671.884287 15.558281)scale(0.11 -0.11)\">\n      <defs>\n       <path d=\"M 525 4666 \nL 3525 4666 \nL 3525 4397 \nL 1831 0 \nL 1172 0 \nL 2766 4134 \nL 525 4134 \nL 525 4666 \nz\n\" id=\"DejaVuSans-37\" transform=\"scale(0.015625)\"/>\n      </defs>\n      <use xlink:href=\"#DejaVuSans-31\"/>\n      <use x=\"63.623047\" xlink:href=\"#DejaVuSans-65\"/>\n      <use x=\"125.146484\" xlink:href=\"#DejaVuSans-37\"/>\n     </g>\n    </g>\n   </g>\n   <g id=\"line2d_8\">\n    <path clip-path=\"url(#p5e961eb005)\" d=\"M 60.648086 322.999256 \nL 67.809583 322.39418 \nL 74.97108 321.894796 \nL 82.132578 321.333666 \nL 89.294075 321.012387 \nL 96.455572 320.796776 \nL 103.61707 320.585838 \nL 110.778567 320.39071 \nL 117.940064 320.102206 \nL 125.101562 319.575133 \nL 132.263059 318.968902 \nL 139.424556 318.646569 \nL 146.586054 318.378296 \nL 153.747551 317.637781 \nL 160.909048 316.717492 \nL 168.070546 315.69794 \nL 175.232043 314.631186 \nL 182.39354 313.498202 \nL 189.555038 312.971327 \nL 196.716535 312.518675 \nL 203.878032 311.503549 \nL 211.03953 310.436902 \nL 218.201027 309.44472 \nL 225.362524 308.462961 \nL 232.524022 307.445937 \nL 239.685519 306.955376 \nL 246.847016 306.582109 \nL 254.008514 305.939454 \nL 261.170011 305.369798 \nL 268.331508 304.881114 \nL 275.493006 304.34124 \nL 282.654503 303.709289 \nL 289.816 303.406504 \nL 296.977497 303.194726 \nL 304.138995 302.600763 \nL 311.300492 302.000981 \nL 318.461989 301.354182 \nL 325.623487 300.664362 \nL 332.784984 299.9254 \nL 339.946481 299.555103 \nL 347.107979 299.27513 \nL 354.269476 298.579017 \nL 361.430973 297.818669 \nL 368.592471 297.036124 \nL 375.753968 296.37117 \nL 382.915465 295.651197 \nL 390.076963 295.275082 \nL 397.23846 294.982967 \nL 404.399957 294.21844 \nL 411.561455 293.417266 \nL 418.722952 292.702519 \nL 425.884449 292.102853 \nL 433.045947 291.5402 \nL 440.207444 291.261508 \nL 447.368941 291.071029 \nL 454.530439 290.607745 \nL 461.691936 290.090459 \nL 468.853433 289.579118 \nL 476.014931 289.052923 \nL 483.176428 288.479191 \nL 490.337925 288.200344 \nL 497.499423 288.026005 \nL 504.66092 287.52353 \nL 511.822417 287.037361 \nL 518.983915 286.53805 \nL 526.145412 286.142635 \nL 533.306909 285.69683 \nL 540.468407 285.4428 \nL 547.629904 285.282525 \nL 554.791401 284.823472 \nL 561.952899 284.348982 \nL 569.114396 283.91316 \nL 576.275893 283.54329 \nL 583.437391 283.185189 \nL 590.598888 283.017406 \nL 597.760385 282.918794 \nL 604.921883 282.665249 \nL 612.08338 282.41497 \nL 619.244877 282.367918 \nL 626.406374 282.094622 \nL 633.567872 281.882243 \nL 640.729369 281.799931 \nL 647.890866 281.771135 \nL 655.052364 281.739257 \nL 662.213861 281.566831 \n\" style=\"fill:none;stroke:#2962ff;stroke-linecap:round;stroke-width:1.5;\"/>\n   </g>\n   <g id=\"line2d_9\">\n    <path clip-path=\"url(#p5e961eb005)\" d=\"M 125.101562 329.892827 \nL 132.263059 329.859275 \nL 139.424556 329.842635 \nL 146.586054 329.842198 \nL 153.747551 329.842198 \nL 160.909048 329.7886 \nL 168.070546 329.694666 \nL 175.232043 329.649492 \nL 182.39354 329.634633 \nL 189.555038 329.632634 \nL 196.716535 329.632634 \nL 203.878032 329.632634 \nL 211.03953 329.625748 \nL 218.201027 329.622758 \nL 225.362524 329.622588 \nL 232.524022 329.622588 \nL 239.685519 329.622564 \nL 246.847016 329.622564 \nL 254.008514 329.622564 \nL 261.170011 329.622564 \nL 268.331508 329.558542 \nL 275.493006 328.731896 \nL 282.654503 327.877065 \nL 289.816 327.055499 \nL 296.977497 326.920215 \nL 304.138995 326.878312 \nL 311.300492 325.746682 \nL 318.461989 324.476201 \nL 325.623487 323.113518 \nL 332.784984 321.880335 \nL 339.946481 320.767121 \nL 347.107979 320.623772 \nL 354.269476 320.602104 \nL 361.430973 319.312105 \nL 368.592471 318.244458 \nL 375.753968 317.3322 \nL 382.915465 316.578893 \nL 390.076963 315.889302 \nL 397.23846 315.842527 \nL 404.399957 315.836878 \nL 411.561455 315.312144 \nL 418.722952 314.854765 \nL 425.884449 314.436519 \nL 433.045947 314.01887 \nL 440.207444 313.639295 \nL 447.368941 313.590568 \nL 454.530439 313.58886 \nL 461.691936 312.921791 \nL 468.853433 312.090792 \nL 476.014931 310.579281 \nL 483.176428 309.074428 \nL 490.337925 307.631253 \nL 497.499423 307.467095 \nL 504.66092 307.428691 \nL 511.822417 305.730714 \nL 518.983915 303.906552 \nL 526.145412 301.964984 \nL 533.306909 299.948227 \nL 540.468407 298.137371 \nL 547.629904 297.893129 \nL 554.791401 297.861465 \nL 561.952899 295.777639 \nL 569.114396 293.792789 \nL 576.275893 292.01384 \nL 583.437391 290.394749 \nL 590.598888 288.968695 \nL 597.760385 288.802999 \nL 604.921883 288.782879 \nL 612.08338 287.482806 \nL 619.244877 286.31825 \nL 626.406374 285.261357 \nL 633.567872 284.236923 \nL 640.729369 283.194511 \nL 647.890866 283.119653 \nL 655.052364 283.113004 \nL 662.213861 281.883121 \n\" style=\"fill:none;stroke:#dd2c00;stroke-linecap:round;stroke-width:1.5;\"/>\n   </g>\n   <g id=\"line2d_10\">\n    <path clip-path=\"url(#p5e961eb005)\" d=\"M 347.107979 290.873451 \nL 361.430973 288.62025 \nL 368.592471 286.967559 \nL 375.753968 285.368995 \nL 382.915465 282.167335 \nL 390.076963 279.239112 \nL 397.23846 277.354407 \nL 404.399957 276.156513 \nL 411.561455 274.511824 \nL 418.722952 272.166514 \nL 425.884449 269.937946 \nL 433.045947 266.539033 \nL 440.207444 263.191175 \nL 447.368941 260.83466 \nL 454.530439 260.549713 \nL 461.691936 257.866789 \nL 468.853433 254.146631 \nL 476.014931 249.316723 \nL 483.176428 242.574086 \nL 490.337925 235.332852 \nL 497.499423 228.419472 \nL 504.66092 228.095961 \nL 511.822417 218.29481 \nL 518.983915 211.699123 \nL 526.145412 205.307581 \nL 533.306909 202.978716 \nL 540.468407 193.013475 \nL 547.629904 185.637573 \nL 554.791401 184.814411 \nL 561.952899 170.065082 \nL 569.114396 159.791368 \nL 576.275893 149.703926 \nL 583.437391 139.044624 \nL 590.598888 125.827876 \nL 597.760385 113.499787 \nL 604.921883 111.257069 \nL 612.08338 94.619051 \nL 619.244877 83.23121 \nL 626.406374 72.04849 \nL 633.567872 60.602227 \nL 640.729369 47.959275 \nL 647.890866 37.477355 \nL 655.052364 36.212479 \nL 662.213861 33.383736 \n\" style=\"fill:none;stroke:#ffab00;stroke-linecap:round;stroke-width:1.5;\"/>\n   </g>\n   <g id=\"line2d_11\">\n    <path clip-path=\"url(#p5e961eb005)\" d=\"M 53.486588 323.144148 \nL 103.61707 316.942595 \nL 110.778567 316.132923 \nL 117.940064 315.045657 \nL 125.101562 313.636038 \nL 132.263059 312.077995 \nL 139.424556 310.378742 \nL 146.586054 308.91984 \nL 153.747551 308.004393 \nL 160.909048 307.005689 \nL 168.070546 305.325056 \nL 175.232043 303.542477 \nL 182.39354 301.539803 \nL 189.555038 299.193435 \nL 196.716535 296.794415 \nL 203.878032 295.735736 \nL 211.03953 294.359912 \nL 218.201027 292.821507 \nL 225.362524 291.278847 \nL 232.524022 289.298704 \nL 239.685519 286.903624 \nL 246.847016 283.96833 \nL 254.008514 282.414853 \nL 261.170011 280.707875 \nL 268.331508 278.869223 \nL 275.493006 276.580034 \nL 282.654503 274.210528 \nL 289.816 271.793937 \nL 296.977497 269.113051 \nL 304.138995 267.769605 \nL 311.300492 266.054469 \nL 318.461989 264.021276 \nL 325.623487 261.798793 \nL 332.784984 259.336567 \nL 339.946481 256.677523 \nL 347.107979 254.200578 \nL 354.269476 253.047344 \nL 361.430973 251.6941 \nL 368.592471 249.85818 \nL 375.753968 247.446465 \nL 382.915465 245.170034 \nL 390.076963 243.274834 \nL 397.23846 241.585373 \nL 404.399957 240.886247 \nL 411.561455 239.865176 \nL 418.722952 238.14213 \nL 425.884449 235.801232 \nL 433.045947 233.276822 \nL 440.207444 230.669334 \nL 447.368941 228.558905 \nL 454.530439 227.560866 \nL 461.691936 226.468853 \nL 468.853433 225.114318 \nL 476.014931 223.433384 \nL 483.176428 221.268819 \nL 490.337925 218.873501 \nL 497.499423 216.693742 \nL 504.66092 215.802632 \nL 511.822417 214.582954 \nL 518.983915 213.172967 \nL 526.145412 211.510124 \nL 533.306909 209.792475 \nL 540.468407 207.558957 \nL 547.629904 204.815437 \nL 554.791401 203.450022 \nL 561.952899 201.302727 \nL 569.114396 198.71762 \nL 576.275893 195.886567 \nL 583.437391 192.680132 \nL 590.598888 189.073964 \nL 597.760385 184.966864 \nL 604.921883 183.046429 \nL 612.08338 180.995946 \nL 619.244877 178.611062 \nL 626.406374 175.794994 \nL 633.567872 173.080751 \nL 640.729369 169.70831 \nL 647.890866 166.516112 \nL 655.052364 164.379329 \n\" style=\"fill:none;stroke:#304ffe;stroke-linecap:round;stroke-width:1.5;\"/>\n   </g>\n   <g id=\"line2d_12\">\n    <path clip-path=\"url(#p5e961eb005)\" d=\"M 132.263059 325.014222 \nL 139.424556 324.576545 \nL 146.586054 324.298072 \nL 153.747551 324.070688 \nL 160.909048 323.680631 \nL 168.070546 323.14178 \nL 175.232043 322.512955 \nL 182.39354 322.013523 \nL 189.555038 321.520423 \nL 196.716535 321.106845 \nL 203.878032 320.868276 \nL 211.03953 320.401609 \nL 218.201027 319.919195 \nL 225.362524 319.38048 \nL 232.524022 318.939368 \nL 239.685519 318.416963 \nL 246.847016 318.003298 \nL 254.008514 317.730162 \nL 261.170011 317.150379 \nL 268.331508 316.529327 \nL 275.493006 315.769348 \nL 282.654503 315.140828 \nL 289.816 314.463422 \nL 296.977497 313.996741 \nL 304.138995 313.739523 \nL 311.300492 313.212197 \nL 318.461989 312.578796 \nL 325.623487 311.856789 \nL 332.784984 311.173496 \nL 339.946481 310.422717 \nL 347.107979 309.900754 \nL 354.269476 309.586856 \nL 361.430973 308.979256 \nL 368.592471 308.329191 \nL 375.753968 307.605456 \nL 382.915465 306.911114 \nL 390.076963 306.176325 \nL 397.23846 305.623906 \nL 404.399957 305.209105 \nL 411.561455 304.437455 \nL 418.722952 303.640837 \nL 425.884449 302.799433 \nL 433.045947 301.901384 \nL 440.207444 300.913686 \nL 447.368941 300.187884 \nL 454.530439 299.665386 \nL 461.691936 298.734431 \nL 468.853433 297.686495 \nL 476.014931 296.530145 \nL 483.176428 295.373645 \nL 490.337925 294.110909 \nL 497.499423 293.136303 \nL 504.66092 292.399224 \nL 511.822417 291.260271 \nL 518.983915 290.060795 \nL 526.145412 288.690799 \nL 533.306909 287.297922 \nL 540.468407 285.774537 \nL 547.629904 284.591871 \nL 554.791401 283.770082 \nL 561.952899 282.582204 \nL 569.114396 281.71216 \nL 576.275893 280.683723 \nL 583.437391 279.755193 \nL 590.598888 278.601843 \nL 597.760385 277.556984 \nL 604.921883 276.741407 \nL 612.08338 275.430929 \nL 619.244877 274.052801 \nL 626.406374 272.591714 \nL 633.567872 271.116652 \nL 640.729369 269.617113 \nL 647.890866 268.295135 \nL 655.052364 267.481373 \n\" style=\"fill:none;stroke:#212121;stroke-linecap:round;stroke-width:1.5;\"/>\n   </g>\n  </g>\n  <g id=\"text_18\">\n   <!-- Absolute number of total immunizations in Brazil and India over time -->\n   <g transform=\"translate(27.370225 48.798281)scale(0.14 -0.14)\">\n    <defs>\n     <path d=\"M -50 0 \nL -50 378 \nL 331 378 \nL 2088 4666 \nL 2834 4666 \nL 4594 378 \nL 5038 378 \nL 5038 0 \nL 2853 0 \nL 2853 378 \nL 3309 378 \nL 2925 1331 \nL 1172 1331 \nL 781 378 \nL 1338 378 \nL 1338 0 \nL -50 0 \nz\nM 1325 1709 \nL 2772 1709 \nL 2053 3494 \nL 1325 1709 \nz\n\" id=\"DejaVuSerif-Bold-41\" transform=\"scale(0.015625)\"/>\n     <path d=\"M 622 378 \nL 622 4488 \nL 147 4488 \nL 147 4863 \nL 1728 4863 \nL 1728 2900 \nQ 1869 3159 2106 3286 \nQ 2344 3413 2694 3413 \nQ 3403 3413 3811 2945 \nQ 4219 2478 4219 1663 \nQ 4219 847 3811 378 \nQ 3403 -91 2694 -91 \nQ 2344 -91 2106 36 \nQ 1869 163 1728 422 \nL 1728 0 \nL 147 0 \nL 147 378 \nL 622 378 \nz\nM 1728 1497 \nQ 1728 916 1876 656 \nQ 2025 397 2356 397 \nQ 2697 397 2836 672 \nQ 2975 947 2975 1663 \nQ 2975 2378 2836 2651 \nQ 2697 2925 2356 2925 \nQ 2025 2925 1876 2665 \nQ 1728 2406 1728 1825 \nL 1728 1497 \nz\n\" id=\"DejaVuSerif-Bold-62\" transform=\"scale(0.015625)\"/>\n     <path d=\"M 300 97 \nL 300 1025 \nL 653 1025 \nQ 697 653 931 458 \nQ 1166 263 1569 263 \nQ 1906 263 2086 380 \nQ 2266 497 2266 716 \nQ 2266 916 2152 1025 \nQ 2038 1134 1709 1216 \nL 1253 1331 \nQ 738 1459 506 1698 \nQ 275 1938 275 2344 \nQ 275 2884 650 3148 \nQ 1025 3413 1806 3413 \nQ 2100 3413 2433 3364 \nQ 2766 3316 3169 3213 \nL 3169 2375 \nL 2816 2375 \nQ 2788 2716 2573 2887 \nQ 2359 3059 1959 3059 \nQ 1622 3059 1448 2951 \nQ 1275 2844 1275 2638 \nQ 1275 2469 1375 2372 \nQ 1475 2275 1734 2209 \nL 2188 2094 \nQ 2841 1928 3091 1684 \nQ 3341 1441 3341 1006 \nQ 3341 444 2939 176 \nQ 2538 -91 1691 -91 \nQ 1381 -91 1034 -44 \nQ 688 3 300 97 \nz\n\" id=\"DejaVuSerif-Bold-73\" transform=\"scale(0.015625)\"/>\n     <path d=\"M 2138 263 \nQ 2488 263 2630 563 \nQ 2772 863 2772 1663 \nQ 2772 2463 2631 2761 \nQ 2491 3059 2138 3059 \nQ 1784 3059 1640 2757 \nQ 1497 2456 1497 1663 \nQ 1497 869 1640 566 \nQ 1784 263 2138 263 \nz\nM 2138 -91 \nQ 1259 -91 761 376 \nQ 263 844 263 1663 \nQ 263 2484 761 2948 \nQ 1259 3413 2138 3413 \nQ 3019 3413 3516 2948 \nQ 4013 2484 4013 1663 \nQ 4013 844 3514 376 \nQ 3016 -91 2138 -91 \nz\n\" id=\"DejaVuSerif-Bold-6f\" transform=\"scale(0.015625)\"/>\n     <path d=\"M 1797 378 \nL 2272 378 \nL 2272 0 \nL 219 0 \nL 219 378 \nL 691 378 \nL 691 4488 \nL 219 4488 \nL 219 4863 \nL 1797 4863 \nL 1797 378 \nz\n\" id=\"DejaVuSerif-Bold-6c\" transform=\"scale(0.015625)\"/>\n     <path d=\"M 3963 3322 \nL 3963 378 \nL 4434 378 \nL 4434 0 \nL 2853 0 \nL 2853 469 \nQ 2656 172 2400 40 \nQ 2144 -91 1753 -91 \nQ 1194 -91 908 239 \nQ 622 569 622 1209 \nL 622 2944 \nL 147 2944 \nL 147 3322 \nL 1728 3322 \nL 1728 1381 \nQ 1728 763 1831 595 \nQ 1934 428 2209 428 \nQ 2544 428 2698 675 \nQ 2853 922 2853 1459 \nL 2853 2944 \nL 2450 2944 \nL 2450 3322 \nL 3963 3322 \nz\n\" id=\"DejaVuSerif-Bold-75\" transform=\"scale(0.015625)\"/>\n     <path d=\"M 634 2944 \nL 153 2944 \nL 153 3322 \nL 634 3322 \nL 634 4353 \nL 1741 4353 \nL 1741 3322 \nL 2663 3322 \nL 2663 2944 \nL 1741 2944 \nL 1741 909 \nQ 1741 475 1809 369 \nQ 1878 263 2059 263 \nQ 2259 263 2356 397 \nQ 2453 531 2459 813 \nL 2925 813 \nQ 2897 313 2651 111 \nQ 2406 -91 1806 -91 \nQ 1122 -91 878 123 \nQ 634 338 634 909 \nL 634 2944 \nz\n\" id=\"DejaVuSerif-Bold-74\" transform=\"scale(0.015625)\"/>\n     <path d=\"M 2566 1875 \nQ 2566 2531 2444 2795 \nQ 2322 3059 2028 3059 \nQ 1744 3059 1620 2800 \nQ 1497 2541 1497 1931 \nL 1497 1875 \nL 2566 1875 \nz\nM 3781 1503 \nL 1497 1503 \nL 1497 1478 \nQ 1497 834 1690 548 \nQ 1884 263 2316 263 \nQ 2675 263 2897 453 \nQ 3119 644 3181 1006 \nL 3700 1006 \nQ 3566 441 3166 175 \nQ 2766 -91 2047 -91 \nQ 1184 -91 723 364 \nQ 263 819 263 1663 \nQ 263 2488 734 2950 \nQ 1206 3413 2047 3413 \nQ 2872 3413 3312 2927 \nQ 3753 2441 3781 1503 \nz\n\" id=\"DejaVuSerif-Bold-65\" transform=\"scale(0.015625)\"/>\n     <path id=\"DejaVuSerif-Bold-20\" transform=\"scale(0.015625)\"/>\n     <path d=\"M 219 0 \nL 219 378 \nL 691 378 \nL 691 2944 \nL 219 2944 \nL 219 3322 \nL 1797 3322 \nL 1797 2853 \nQ 1997 3150 2253 3281 \nQ 2509 3413 2900 3413 \nQ 3459 3413 3745 3083 \nQ 4031 2753 4031 2113 \nL 4031 378 \nL 4506 378 \nL 4506 0 \nL 2522 0 \nL 2522 378 \nL 2925 378 \nL 2925 2144 \nQ 2925 2566 2817 2730 \nQ 2709 2894 2444 2894 \nQ 2109 2894 1953 2648 \nQ 1797 2403 1797 1869 \nL 1797 378 \nL 2203 378 \nL 2203 0 \nL 219 0 \nz\n\" id=\"DejaVuSerif-Bold-6e\" transform=\"scale(0.015625)\"/>\n     <path d=\"M 3884 2778 \nQ 4116 3109 4384 3261 \nQ 4653 3413 5013 3413 \nQ 5584 3413 5867 3089 \nQ 6150 2766 6150 2113 \nL 6150 378 \nL 6625 378 \nL 6625 0 \nL 4647 0 \nL 4647 378 \nL 5044 378 \nL 5044 1947 \nQ 5044 2569 4948 2731 \nQ 4853 2894 4594 2894 \nQ 4300 2894 4137 2667 \nQ 3975 2441 3975 2022 \nL 3975 378 \nL 4372 378 \nL 4372 0 \nL 2472 0 \nL 2472 378 \nL 2869 378 \nL 2869 1947 \nQ 2869 2569 2772 2731 \nQ 2675 2894 2419 2894 \nQ 2122 2894 1959 2667 \nQ 1797 2441 1797 2022 \nL 1797 378 \nL 2194 378 \nL 2194 0 \nL 219 0 \nL 219 378 \nL 691 378 \nL 691 2944 \nL 219 2944 \nL 219 3322 \nL 1797 3322 \nL 1797 2853 \nQ 1991 3144 2241 3278 \nQ 2491 3413 2834 3413 \nQ 3241 3413 3494 3258 \nQ 3747 3103 3884 2778 \nz\n\" id=\"DejaVuSerif-Bold-6d\" transform=\"scale(0.015625)\"/>\n     <path d=\"M 3438 3359 \nL 3438 2369 \nL 3084 2369 \nQ 3066 2634 2941 2764 \nQ 2816 2894 2578 2894 \nQ 2216 2894 2006 2575 \nQ 1797 2256 1797 1691 \nL 1797 378 \nL 2400 378 \nL 2400 0 \nL 219 0 \nL 219 378 \nL 691 378 \nL 691 2944 \nL 184 2944 \nL 184 3322 \nL 1797 3322 \nL 1797 2731 \nQ 1959 3078 2226 3245 \nQ 2494 3413 2881 3413 \nQ 2978 3413 3117 3398 \nQ 3256 3384 3438 3359 \nz\n\" id=\"DejaVuSerif-Bold-72\" transform=\"scale(0.015625)\"/>\n     <path d=\"M 3097 4031 \nL 2747 4031 \nQ 2722 4275 2605 4394 \nQ 2488 4513 2272 4513 \nQ 2022 4513 1909 4333 \nQ 1797 4153 1797 3750 \nL 1797 3322 \nL 2631 3322 \nL 2631 2944 \nL 1797 2944 \nL 1797 378 \nL 2438 378 \nL 2438 0 \nL 219 0 \nL 219 378 \nL 691 378 \nL 691 2944 \nL 197 2944 \nL 197 3322 \nL 691 3322 \nL 691 3738 \nQ 691 4291 1044 4577 \nQ 1397 4863 2081 4863 \nQ 2347 4863 2600 4833 \nQ 2853 4803 3097 4744 \nL 3097 4031 \nz\n\" id=\"DejaVuSerif-Bold-66\" transform=\"scale(0.015625)\"/>\n     <path d=\"M 3525 2041 \nL 3525 378 \nL 4000 378 \nL 4000 0 \nL 2419 0 \nL 2419 422 \nQ 2200 159 1931 34 \nQ 1663 -91 1319 -91 \nQ 809 -91 536 182 \nQ 263 456 263 966 \nQ 263 1525 655 1803 \nQ 1047 2081 1838 2081 \nL 2419 2081 \nL 2419 2278 \nQ 2419 2681 2228 2873 \nQ 2038 3066 1638 3066 \nQ 1306 3066 1126 2930 \nQ 947 2794 872 2484 \nL 519 2484 \nL 519 3200 \nQ 816 3306 1134 3359 \nQ 1453 3413 1806 3413 \nQ 2697 3413 3111 3081 \nQ 3525 2750 3525 2041 \nz\nM 2419 1044 \nL 2419 1709 \nL 2003 1709 \nQ 1694 1709 1528 1540 \nQ 1363 1372 1363 1056 \nQ 1363 741 1483 584 \nQ 1603 428 1850 428 \nQ 2106 428 2262 597 \nQ 2419 766 2419 1044 \nz\n\" id=\"DejaVuSerif-Bold-61\" transform=\"scale(0.015625)\"/>\n     <path d=\"M 588 4263 \nQ 588 4516 763 4689 \nQ 938 4863 1191 4863 \nQ 1438 4863 1611 4689 \nQ 1784 4516 1784 4263 \nQ 1784 4016 1611 3842 \nQ 1438 3669 1191 3669 \nQ 938 3669 763 3841 \nQ 588 4013 588 4263 \nz\nM 1797 378 \nL 2272 378 \nL 2272 0 \nL 219 0 \nL 219 378 \nL 691 378 \nL 691 2944 \nL 219 2944 \nL 219 3322 \nL 1797 3322 \nL 1797 378 \nz\n\" id=\"DejaVuSerif-Bold-69\" transform=\"scale(0.015625)\"/>\n     <path d=\"M 225 0 \nL 225 378 \nL 2131 2956 \nL 697 2956 \nL 697 2388 \nL 325 2388 \nL 325 3322 \nL 3419 3322 \nL 3419 2950 \nL 1509 372 \nL 3047 372 \nL 3047 972 \nL 3419 972 \nL 3419 0 \nL 225 0 \nz\n\" id=\"DejaVuSerif-Bold-7a\" transform=\"scale(0.015625)\"/>\n     <path d=\"M 300 0 \nL 300 378 \nL 897 378 \nL 897 4288 \nL 300 4288 \nL 300 4666 \nL 3066 4666 \nQ 3919 4666 4347 4378 \nQ 4775 4091 4775 3513 \nQ 4775 3097 4479 2853 \nQ 4184 2609 3603 2547 \nQ 4306 2481 4681 2172 \nQ 5056 1863 5056 1350 \nQ 5056 656 4532 328 \nQ 4009 0 2894 0 \nL 300 0 \nz\nM 2100 2719 \nL 2509 2719 \nQ 3047 2719 3306 2914 \nQ 3566 3109 3566 3513 \nQ 3566 3919 3314 4103 \nQ 3063 4288 2509 4288 \nL 2100 4288 \nL 2100 2719 \nz\nM 2100 378 \nL 2547 378 \nQ 3144 378 3431 615 \nQ 3719 853 3719 1350 \nQ 3719 1850 3428 2097 \nQ 3138 2344 2547 2344 \nL 2100 2344 \nL 2100 378 \nz\n\" id=\"DejaVuSerif-Bold-42\" transform=\"scale(0.015625)\"/>\n     <path d=\"M 2747 1497 \nL 2747 1825 \nQ 2747 2406 2597 2665 \nQ 2447 2925 2119 2925 \nQ 1775 2925 1636 2651 \nQ 1497 2378 1497 1663 \nQ 1497 947 1637 672 \nQ 1778 397 2119 397 \nQ 2447 397 2597 656 \nQ 2747 916 2747 1497 \nz\nM 3853 378 \nL 4325 378 \nL 4325 0 \nL 2747 0 \nL 2747 422 \nQ 2606 163 2367 36 \nQ 2128 -91 1778 -91 \nQ 1072 -91 667 378 \nQ 263 847 263 1663 \nQ 263 2481 667 2947 \nQ 1072 3413 1778 3413 \nQ 2128 3413 2367 3286 \nQ 2606 3159 2747 2900 \nL 2747 4488 \nL 2272 4488 \nL 2272 4863 \nL 3853 4863 \nL 3853 378 \nz\n\" id=\"DejaVuSerif-Bold-64\" transform=\"scale(0.015625)\"/>\n     <path d=\"M 300 0 \nL 300 378 \nL 897 378 \nL 897 4288 \nL 300 4288 \nL 300 4666 \nL 2700 4666 \nL 2700 4288 \nL 2100 4288 \nL 2100 378 \nL 2700 378 \nL 2700 0 \nL 300 0 \nz\n\" id=\"DejaVuSerif-Bold-49\" transform=\"scale(0.015625)\"/>\n     <path d=\"M 1428 0 \nL 250 2944 \nL -116 2944 \nL -116 3322 \nL 1791 3322 \nL 1791 2944 \nL 1388 2944 \nL 2228 844 \nL 3066 2944 \nL 2631 2944 \nL 2631 3322 \nL 3878 3322 \nL 3878 2944 \nL 3494 2944 \nL 2316 0 \nL 1428 0 \nz\n\" id=\"DejaVuSerif-Bold-76\" transform=\"scale(0.015625)\"/>\n    </defs>\n    <use xlink:href=\"#DejaVuSerif-Bold-41\"/>\n    <use x=\"77.587891\" xlink:href=\"#DejaVuSerif-Bold-62\"/>\n    <use x=\"147.509766\" xlink:href=\"#DejaVuSerif-Bold-73\"/>\n    <use x=\"203.808594\" xlink:href=\"#DejaVuSerif-Bold-6f\"/>\n    <use x=\"270.507812\" xlink:href=\"#DejaVuSerif-Bold-6c\"/>\n    <use x=\"308.496094\" xlink:href=\"#DejaVuSerif-Bold-75\"/>\n    <use x=\"381.201172\" xlink:href=\"#DejaVuSerif-Bold-74\"/>\n    <use x=\"427.392578\" xlink:href=\"#DejaVuSerif-Bold-65\"/>\n    <use x=\"491.015625\" xlink:href=\"#DejaVuSerif-Bold-20\"/>\n    <use x=\"525.830078\" xlink:href=\"#DejaVuSerif-Bold-6e\"/>\n    <use x=\"598.535156\" xlink:href=\"#DejaVuSerif-Bold-75\"/>\n    <use x=\"671.240234\" xlink:href=\"#DejaVuSerif-Bold-6d\"/>\n    <use x=\"777.050781\" xlink:href=\"#DejaVuSerif-Bold-62\"/>\n    <use x=\"846.972656\" xlink:href=\"#DejaVuSerif-Bold-65\"/>\n    <use x=\"910.595703\" xlink:href=\"#DejaVuSerif-Bold-72\"/>\n    <use x=\"963.28125\" xlink:href=\"#DejaVuSerif-Bold-20\"/>\n    <use x=\"998.095703\" xlink:href=\"#DejaVuSerif-Bold-6f\"/>\n    <use x=\"1064.794922\" xlink:href=\"#DejaVuSerif-Bold-66\"/>\n    <use x=\"1107.8125\" xlink:href=\"#DejaVuSerif-Bold-20\"/>\n    <use x=\"1142.626953\" xlink:href=\"#DejaVuSerif-Bold-74\"/>\n    <use x=\"1188.818359\" xlink:href=\"#DejaVuSerif-Bold-6f\"/>\n    <use x=\"1255.517578\" xlink:href=\"#DejaVuSerif-Bold-74\"/>\n    <use x=\"1301.708984\" xlink:href=\"#DejaVuSerif-Bold-61\"/>\n    <use x=\"1366.503906\" xlink:href=\"#DejaVuSerif-Bold-6c\"/>\n    <use x=\"1404.492188\" xlink:href=\"#DejaVuSerif-Bold-20\"/>\n    <use x=\"1439.306641\" xlink:href=\"#DejaVuSerif-Bold-69\"/>\n    <use x=\"1477.294922\" xlink:href=\"#DejaVuSerif-Bold-6d\"/>\n    <use x=\"1583.105469\" xlink:href=\"#DejaVuSerif-Bold-6d\"/>\n    <use x=\"1688.916016\" xlink:href=\"#DejaVuSerif-Bold-75\"/>\n    <use x=\"1761.621094\" xlink:href=\"#DejaVuSerif-Bold-6e\"/>\n    <use x=\"1834.326172\" xlink:href=\"#DejaVuSerif-Bold-69\"/>\n    <use x=\"1872.314453\" xlink:href=\"#DejaVuSerif-Bold-7a\"/>\n    <use x=\"1929.101562\" xlink:href=\"#DejaVuSerif-Bold-61\"/>\n    <use x=\"1993.896484\" xlink:href=\"#DejaVuSerif-Bold-74\"/>\n    <use x=\"2040.087891\" xlink:href=\"#DejaVuSerif-Bold-69\"/>\n    <use x=\"2078.076172\" xlink:href=\"#DejaVuSerif-Bold-6f\"/>\n    <use x=\"2144.775391\" xlink:href=\"#DejaVuSerif-Bold-6e\"/>\n    <use x=\"2217.480469\" xlink:href=\"#DejaVuSerif-Bold-73\"/>\n    <use x=\"2273.779297\" xlink:href=\"#DejaVuSerif-Bold-20\"/>\n    <use x=\"2308.59375\" xlink:href=\"#DejaVuSerif-Bold-69\"/>\n    <use x=\"2346.582031\" xlink:href=\"#DejaVuSerif-Bold-6e\"/>\n    <use x=\"2419.287109\" xlink:href=\"#DejaVuSerif-Bold-20\"/>\n    <use x=\"2454.101562\" xlink:href=\"#DejaVuSerif-Bold-42\"/>\n    <use x=\"2538.623047\" xlink:href=\"#DejaVuSerif-Bold-72\"/>\n    <use x=\"2591.308594\" xlink:href=\"#DejaVuSerif-Bold-61\"/>\n    <use x=\"2656.103516\" xlink:href=\"#DejaVuSerif-Bold-7a\"/>\n    <use x=\"2712.890625\" xlink:href=\"#DejaVuSerif-Bold-69\"/>\n    <use x=\"2750.878906\" xlink:href=\"#DejaVuSerif-Bold-6c\"/>\n    <use x=\"2788.867188\" xlink:href=\"#DejaVuSerif-Bold-20\"/>\n    <use x=\"2823.681641\" xlink:href=\"#DejaVuSerif-Bold-61\"/>\n    <use x=\"2888.476562\" xlink:href=\"#DejaVuSerif-Bold-6e\"/>\n    <use x=\"2961.181641\" xlink:href=\"#DejaVuSerif-Bold-64\"/>\n    <use x=\"3031.103516\" xlink:href=\"#DejaVuSerif-Bold-20\"/>\n    <use x=\"3065.917969\" xlink:href=\"#DejaVuSerif-Bold-49\"/>\n    <use x=\"3112.695312\" xlink:href=\"#DejaVuSerif-Bold-6e\"/>\n    <use x=\"3185.400391\" xlink:href=\"#DejaVuSerif-Bold-64\"/>\n    <use x=\"3255.322266\" xlink:href=\"#DejaVuSerif-Bold-69\"/>\n    <use x=\"3293.310547\" xlink:href=\"#DejaVuSerif-Bold-61\"/>\n    <use x=\"3358.105469\" xlink:href=\"#DejaVuSerif-Bold-20\"/>\n    <use x=\"3392.919922\" xlink:href=\"#DejaVuSerif-Bold-6f\"/>\n    <use x=\"3459.619141\" xlink:href=\"#DejaVuSerif-Bold-76\"/>\n    <use x=\"3517.724609\" xlink:href=\"#DejaVuSerif-Bold-65\"/>\n    <use x=\"3581.347656\" xlink:href=\"#DejaVuSerif-Bold-72\"/>\n    <use x=\"3634.033203\" xlink:href=\"#DejaVuSerif-Bold-20\"/>\n    <use x=\"3668.847656\" xlink:href=\"#DejaVuSerif-Bold-74\"/>\n    <use x=\"3715.039062\" xlink:href=\"#DejaVuSerif-Bold-69\"/>\n    <use x=\"3753.027344\" xlink:href=\"#DejaVuSerif-Bold-6d\"/>\n    <use x=\"3858.837891\" xlink:href=\"#DejaVuSerif-Bold-65\"/>\n   </g>\n  </g>\n  <g id=\"text_19\">\n   <!-- Israel -->\n   <g style=\"fill:#2962ff;\" transform=\"translate(27.370225 66.078281)scale(0.14 -0.14)\">\n    <use xlink:href=\"#DejaVuSerif-Bold-49\"/>\n    <use x=\"46.777344\" xlink:href=\"#DejaVuSerif-Bold-73\"/>\n    <use x=\"103.076172\" xlink:href=\"#DejaVuSerif-Bold-72\"/>\n    <use x=\"155.761719\" xlink:href=\"#DejaVuSerif-Bold-61\"/>\n    <use x=\"220.556641\" xlink:href=\"#DejaVuSerif-Bold-65\"/>\n    <use x=\"284.179688\" xlink:href=\"#DejaVuSerif-Bold-6c\"/>\n   </g>\n  </g>\n  <g id=\"text_20\">\n   <!-- Chile -->\n   <g style=\"fill:#dd2c00;\" transform=\"translate(27.370225 83.358281)scale(0.14 -0.14)\">\n    <defs>\n     <path d=\"M 4769 1331 \nQ 4584 609 4106 259 \nQ 3628 -91 2822 -91 \nQ 1641 -91 955 561 \nQ 269 1213 269 2328 \nQ 269 3447 955 4098 \nQ 1641 4750 2822 4750 \nQ 3238 4750 3688 4650 \nQ 4138 4550 4641 4347 \nL 4641 3200 \nL 4244 3200 \nQ 4122 3788 3800 4080 \nQ 3478 4372 2950 4372 \nQ 2269 4372 1937 3870 \nQ 1606 3369 1606 2328 \nQ 1606 1288 1937 788 \nQ 2269 288 2956 288 \nQ 3422 288 3717 547 \nQ 4013 806 4147 1331 \nL 4769 1331 \nz\n\" id=\"DejaVuSerif-Bold-43\" transform=\"scale(0.015625)\"/>\n     <path d=\"M 219 0 \nL 219 378 \nL 691 378 \nL 691 4488 \nL 197 4488 \nL 197 4863 \nL 1797 4863 \nL 1797 2853 \nQ 1997 3150 2253 3281 \nQ 2509 3413 2900 3413 \nQ 3459 3413 3745 3083 \nQ 4031 2753 4031 2113 \nL 4031 378 \nL 4506 378 \nL 4506 0 \nL 2522 0 \nL 2522 378 \nL 2925 378 \nL 2925 2144 \nQ 2925 2566 2817 2730 \nQ 2709 2894 2444 2894 \nQ 2109 2894 1953 2648 \nQ 1797 2403 1797 1869 \nL 1797 378 \nL 2203 378 \nL 2203 0 \nL 219 0 \nz\n\" id=\"DejaVuSerif-Bold-68\" transform=\"scale(0.015625)\"/>\n    </defs>\n    <use xlink:href=\"#DejaVuSerif-Bold-43\"/>\n    <use x=\"79.589844\" xlink:href=\"#DejaVuSerif-Bold-68\"/>\n    <use x=\"152.294922\" xlink:href=\"#DejaVuSerif-Bold-69\"/>\n    <use x=\"190.283203\" xlink:href=\"#DejaVuSerif-Bold-6c\"/>\n    <use x=\"228.271484\" xlink:href=\"#DejaVuSerif-Bold-65\"/>\n   </g>\n  </g>\n  <g id=\"text_21\">\n   <!-- India -->\n   <g style=\"fill:#ffab00;\" transform=\"translate(27.370225 100.638281)scale(0.14 -0.14)\">\n    <use xlink:href=\"#DejaVuSerif-Bold-49\"/>\n    <use x=\"46.777344\" xlink:href=\"#DejaVuSerif-Bold-6e\"/>\n    <use x=\"119.482422\" xlink:href=\"#DejaVuSerif-Bold-64\"/>\n    <use x=\"189.404297\" xlink:href=\"#DejaVuSerif-Bold-69\"/>\n    <use x=\"227.392578\" xlink:href=\"#DejaVuSerif-Bold-61\"/>\n   </g>\n  </g>\n  <g id=\"text_22\">\n   <!-- United Kingdom -->\n   <g style=\"fill:#304ffe;\" transform=\"translate(27.370225 117.918281)scale(0.14 -0.14)\">\n    <defs>\n     <path d=\"M 813 4288 \nL 219 4288 \nL 219 4666 \nL 2619 4666 \nL 2619 4288 \nL 2022 4288 \nL 2022 1953 \nQ 2022 1081 2294 732 \nQ 2566 384 3225 384 \nQ 3869 384 4139 736 \nQ 4409 1088 4409 1953 \nL 4409 4288 \nL 3816 4288 \nL 3816 4666 \nL 5441 4666 \nL 5441 4288 \nL 4844 4288 \nL 4844 1888 \nQ 4844 819 4381 364 \nQ 3919 -91 2828 -91 \nQ 1744 -91 1278 368 \nQ 813 828 813 1894 \nL 813 4288 \nz\n\" id=\"DejaVuSerif-Bold-55\" transform=\"scale(0.015625)\"/>\n     <path d=\"M 300 0 \nL 300 378 \nL 897 378 \nL 897 4288 \nL 300 4288 \nL 300 4666 \nL 2700 4666 \nL 2700 4288 \nL 2100 4288 \nL 2100 2584 \nL 4078 4288 \nL 3578 4288 \nL 3578 4666 \nL 5319 4666 \nL 5319 4288 \nL 4697 4288 \nL 3022 2847 \nL 5300 378 \nL 5759 378 \nL 5759 0 \nL 4178 0 \nL 2100 2266 \nL 2100 378 \nL 2700 378 \nL 2700 0 \nL 300 0 \nz\n\" id=\"DejaVuSerif-Bold-4b\" transform=\"scale(0.015625)\"/>\n     <path d=\"M 3853 2944 \nL 3853 44 \nQ 3853 -656 3354 -1039 \nQ 2856 -1422 1947 -1422 \nQ 1616 -1422 1275 -1370 \nQ 934 -1319 575 -1216 \nL 575 -422 \nL 928 -422 \nQ 975 -750 1192 -909 \nQ 1409 -1069 1813 -1069 \nQ 2325 -1069 2536 -823 \nQ 2747 -578 2747 44 \nL 2747 422 \nQ 2606 163 2367 36 \nQ 2128 -91 1778 -91 \nQ 1072 -91 667 378 \nQ 263 847 263 1663 \nQ 263 2481 667 2947 \nQ 1072 3413 1778 3413 \nQ 2128 3413 2367 3286 \nQ 2606 3159 2747 2900 \nL 2747 3322 \nL 4325 3322 \nL 4325 2944 \nL 3853 2944 \nz\nM 2747 1825 \nQ 2747 2406 2597 2665 \nQ 2447 2925 2119 2925 \nQ 1775 2925 1636 2651 \nQ 1497 2378 1497 1663 \nQ 1497 947 1637 672 \nQ 1778 397 2119 397 \nQ 2447 397 2597 656 \nQ 2747 916 2747 1497 \nL 2747 1825 \nz\n\" id=\"DejaVuSerif-Bold-67\" transform=\"scale(0.015625)\"/>\n    </defs>\n    <use xlink:href=\"#DejaVuSerif-Bold-55\"/>\n    <use x=\"87.207031\" xlink:href=\"#DejaVuSerif-Bold-6e\"/>\n    <use x=\"159.912109\" xlink:href=\"#DejaVuSerif-Bold-69\"/>\n    <use x=\"197.900391\" xlink:href=\"#DejaVuSerif-Bold-74\"/>\n    <use x=\"244.091797\" xlink:href=\"#DejaVuSerif-Bold-65\"/>\n    <use x=\"307.714844\" xlink:href=\"#DejaVuSerif-Bold-64\"/>\n    <use x=\"377.636719\" xlink:href=\"#DejaVuSerif-Bold-20\"/>\n    <use x=\"412.451172\" xlink:href=\"#DejaVuSerif-Bold-4b\"/>\n    <use x=\"499.365234\" xlink:href=\"#DejaVuSerif-Bold-69\"/>\n    <use x=\"537.353516\" xlink:href=\"#DejaVuSerif-Bold-6e\"/>\n    <use x=\"610.058594\" xlink:href=\"#DejaVuSerif-Bold-67\"/>\n    <use x=\"679.980469\" xlink:href=\"#DejaVuSerif-Bold-64\"/>\n    <use x=\"749.902344\" xlink:href=\"#DejaVuSerif-Bold-6f\"/>\n    <use x=\"816.601562\" xlink:href=\"#DejaVuSerif-Bold-6d\"/>\n   </g>\n  </g>\n  <g id=\"text_23\">\n   <!-- Germany -->\n   <g style=\"fill:#212121;\" transform=\"translate(27.370225 135.198281)scale(0.14 -0.14)\">\n    <defs>\n     <path d=\"M 4403 3200 \nQ 4263 3819 3934 4095 \nQ 3606 4372 3009 4372 \nQ 2284 4372 1945 3880 \nQ 1606 3388 1606 2328 \nQ 1606 1278 1931 783 \nQ 2256 288 2944 288 \nQ 3206 288 3431 347 \nQ 3656 406 3841 525 \nL 3841 1806 \nL 3278 1806 \nL 3278 2181 \nL 4959 2181 \nL 4959 391 \nQ 4434 147 3911 28 \nQ 3388 -91 2841 -91 \nQ 1641 -91 955 556 \nQ 269 1203 269 2328 \nQ 269 3456 955 4103 \nQ 1641 4750 2841 4750 \nQ 3341 4750 3825 4650 \nQ 4309 4550 4800 4347 \nL 4800 3200 \nL 4403 3200 \nz\n\" id=\"DejaVuSerif-Bold-47\" transform=\"scale(0.015625)\"/>\n     <path d=\"M 1997 -750 \nQ 1847 -1116 1634 -1269 \nQ 1422 -1422 1063 -1422 \nQ 909 -1422 721 -1387 \nQ 534 -1353 313 -1288 \nL 313 -594 \nL 666 -597 \nQ 675 -838 779 -953 \nQ 884 -1069 1094 -1069 \nQ 1297 -1069 1422 -958 \nQ 1547 -847 1672 -538 \nL 1722 -422 \nL 275 2944 \nL -84 2944 \nL -84 3322 \nL 1831 3322 \nL 1831 2944 \nL 1434 2944 \nL 2278 978 \nL 3066 2944 \nL 2625 2944 \nL 2625 3322 \nL 3872 3322 \nL 3872 2944 \nL 3469 2944 \nL 1997 -750 \nz\n\" id=\"DejaVuSerif-Bold-79\" transform=\"scale(0.015625)\"/>\n    </defs>\n    <use xlink:href=\"#DejaVuSerif-Bold-47\"/>\n    <use x=\"85.400391\" xlink:href=\"#DejaVuSerif-Bold-65\"/>\n    <use x=\"149.023438\" xlink:href=\"#DejaVuSerif-Bold-72\"/>\n    <use x=\"201.708984\" xlink:href=\"#DejaVuSerif-Bold-6d\"/>\n    <use x=\"307.519531\" xlink:href=\"#DejaVuSerif-Bold-61\"/>\n    <use x=\"372.314453\" xlink:href=\"#DejaVuSerif-Bold-6e\"/>\n    <use x=\"445.019531\" xlink:href=\"#DejaVuSerif-Bold-79\"/>\n   </g>\n  </g>\n </g>\n <defs>\n  <clipPath id=\"p5e961eb005\">\n   <rect height=\"326.16\" width=\"669.6\" x=\"23.050225\" y=\"18.558281\"/>\n  </clipPath>\n </defs>\n</svg>\n",
      "image/png": "[encoded data removed]"
     },
     "metadata": {}
    }
   ],
   "source": [
    "fig, ax = plt.subplots(1,1, figsize=(12,6))\n",
    "\n",
    "\n",
    "def draw_line_plot(f, country):\n",
    "    color = countries[country]\n",
    "    l = sns.lineplot(x=f['date'],y=f['total_vaccinations'],color=color)\n",
    "    # l.fill_between(f['date'], 0, f['total_vaccinations'], color=color, alpha=0.9)\n",
    "\n",
    "def draw_text(country, offset):\n",
    "    color = countries[country]\n",
    "    fig.text(0.13, 0.81 - offset, country, \n",
    "       fontsize=14, fontweight='bold', fontfamily='serif',color=color)\n",
    "\n",
    "offset = 0\n",
    "\n",
    "fig.text(0.13, 0.81, 'Absolute number of total immunizations in Brazil and India over time', \n",
    "       fontsize=14, fontweight='bold', fontfamily='serif',color='black')\n",
    "\n",
    "for c in reversed(sorted_countries):\n",
    "    offset = offset + 0.04\n",
    "    draw_line_plot(c[1], c[2])\n",
    "    draw_text(c[2], offset)\n",
    "    \n",
    "\n",
    "for i in ['top', 'left', 'right','bottom']:\n",
    "    ax.spines[i].set_visible(False)\n",
    "    \n",
    "\n",
    "\n",
    "ax.yaxis.tick_right()\n",
    "ax.tick_params(length=0)\n",
    "plt.xlabel('Time')\n",
    "plt.ylabel('Total Vaccinations')\n"
   ]
  }
 ]
}
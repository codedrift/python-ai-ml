{
 "metadata": {
  "language_info": {
   "codemirror_mode": {
    "name": "ipython",
    "version": 3
   },
   "file_extension": ".py",
   "mimetype": "text/x-python",
   "name": "python",
   "nbconvert_exporter": "python",
   "pygments_lexer": "ipython3",
   "version": "3.9.2-final"
  },
  "orig_nbformat": 2,
  "kernelspec": {
   "name": "python3",
   "language": "python",
   "display_name": "Python 3"
  }
 },
 "nbformat": 4,
 "nbformat_minor": 2,
 "cells": [
  {
   "cell_type": "code",
   "execution_count": 249,
   "metadata": {},
   "outputs": [
    {
     "output_type": "stream",
     "name": "stdout",
     "text": [
      "Requirement already satisfied: pandas in /home/codedrift/.local/share/virtualenvs/python-ai-ml-cTYFT-Vp/lib/python3.9/site-packages (1.2.3)\n",
      "Requirement already satisfied: matplotlib in /home/codedrift/.local/share/virtualenvs/python-ai-ml-cTYFT-Vp/lib/python3.9/site-packages (3.4.1)\n",
      "Requirement already satisfied: seaborn in /home/codedrift/.local/share/virtualenvs/python-ai-ml-cTYFT-Vp/lib/python3.9/site-packages (0.11.1)\n",
      "Requirement already satisfied: pillow>=6.2.0 in /home/codedrift/.local/share/virtualenvs/python-ai-ml-cTYFT-Vp/lib/python3.9/site-packages (from matplotlib) (8.1.2)\n",
      "Requirement already satisfied: python-dateutil>=2.7 in /home/codedrift/.local/share/virtualenvs/python-ai-ml-cTYFT-Vp/lib/python3.9/site-packages (from matplotlib) (2.8.1)\n",
      "Requirement already satisfied: pyparsing>=2.2.1 in /home/codedrift/.local/share/virtualenvs/python-ai-ml-cTYFT-Vp/lib/python3.9/site-packages (from matplotlib) (2.4.7)\n",
      "Requirement already satisfied: cycler>=0.10 in /home/codedrift/.local/share/virtualenvs/python-ai-ml-cTYFT-Vp/lib/python3.9/site-packages (from matplotlib) (0.10.0)\n",
      "Requirement already satisfied: kiwisolver>=1.0.1 in /home/codedrift/.local/share/virtualenvs/python-ai-ml-cTYFT-Vp/lib/python3.9/site-packages (from matplotlib) (1.3.1)\n",
      "Requirement already satisfied: numpy>=1.16 in /home/codedrift/.local/share/virtualenvs/python-ai-ml-cTYFT-Vp/lib/python3.9/site-packages (from matplotlib) (1.20.2)\n",
      "Requirement already satisfied: six in /home/codedrift/.local/share/virtualenvs/python-ai-ml-cTYFT-Vp/lib/python3.9/site-packages (from cycler>=0.10->matplotlib) (1.15.0)\n",
      "Requirement already satisfied: pytz>=2017.3 in /home/codedrift/.local/share/virtualenvs/python-ai-ml-cTYFT-Vp/lib/python3.9/site-packages (from pandas) (2021.1)\n",
      "Requirement already satisfied: scipy>=1.0 in /home/codedrift/.local/share/virtualenvs/python-ai-ml-cTYFT-Vp/lib/python3.9/site-packages (from seaborn) (1.6.2)\n"
     ]
    }
   ],
   "source": [
    "!python -m pip install pandas matplotlib seaborn"
   ]
  },
  {
   "cell_type": "code",
   "execution_count": 2,
   "metadata": {},
   "outputs": [],
   "source": [
    "%matplotlib inline\n",
    "import pandas as pd\n",
    "import matplotlib.pyplot as plt\n",
    "import seaborn as sns\n",
    "sns.set_style('white')"
   ]
  },
  {
   "cell_type": "code",
   "execution_count": 43,
   "metadata": {},
   "outputs": [
    {
     "output_type": "stream",
     "name": "stderr",
     "text": [
      "/home/codedrift/.local/share/virtualenvs/python-ai-ml-cTYFT-Vp/lib/python3.9/site-packages/IPython/core/interactiveshell.py:3165: DtypeWarning: Columns (7,12,23) have mixed types.Specify dtype option on import or set low_memory=False.\n  has_raised = await self.run_ast_nodes(code_ast.body, cell_name,\n"
     ]
    }
   ],
   "source": [
    "# data from https://www.kaggle.com/ayushggarg/covid19-vaccine-adverse-reactions\n",
    "\n",
    "df = pd.read_csv('data/reactions/2021VAERSDATA.csv')\n",
    "df2 = pd.read_csv('data/reactions/2021VAERSVAX.csv')\n",
    "df = df.join(df2[\"VAX_MANU\"], rsuffix='_other', how=\"outer\")\n"
   ]
  },
  {
   "cell_type": "code",
   "execution_count": 44,
   "metadata": {},
   "outputs": [
    {
     "output_type": "execute_result",
     "data": {
      "text/plain": [
       "   VAERS_ID    RECVDATE STATE  AGE_YRS  CAGE_YR  CAGE_MO SEX RPT_DATE  \\\n",
       "0  916600.0  01/01/2021    TX     33.0     33.0      NaN   F      NaN   \n",
       "1  916601.0  01/01/2021    CA     73.0     73.0      NaN   F      NaN   \n",
       "2  916602.0  01/01/2021    WA     23.0     23.0      NaN   F      NaN   \n",
       "3  916603.0  01/01/2021    WA     58.0     58.0      NaN   F      NaN   \n",
       "4  916604.0  01/01/2021    TX     47.0     47.0      NaN   F      NaN   \n",
       "\n",
       "                                        SYMPTOM_TEXT DIED  ...  \\\n",
       "0  Right side of epiglottis swelled up and hinder...  NaN  ...   \n",
       "1  Approximately 30 min post vaccination administ...  NaN  ...   \n",
       "2  About 15 minutes after receiving the vaccine, ...  NaN  ...   \n",
       "3  extreme fatigue, dizziness,. could not lift my...  NaN  ...   \n",
       "4  Injection site swelling, redness, warm to the ...  NaN  ...   \n",
       "\n",
       "                                             HISTORY  \\\n",
       "0                                               None   \n",
       "1  Patient residing at nursing facility. See pati...   \n",
       "2                                               None   \n",
       "3  diverticulitis, mitral valve prolapse, osteoar...   \n",
       "4                                                NaN   \n",
       "\n",
       "                                           PRIOR_VAX SPLTTYPE FORM_VERS  \\\n",
       "0                                                NaN      NaN       2.0   \n",
       "1                                                NaN      NaN       2.0   \n",
       "2                                                NaN      NaN       2.0   \n",
       "3  got measles from measel shot, mums from mumps ...      NaN       2.0   \n",
       "4                                                NaN      NaN       2.0   \n",
       "\n",
       "   TODAYS_DATE BIRTH_DEFECT OFC_VISIT ER_ED_VISIT  \\\n",
       "0   01/01/2021          NaN         Y         NaN   \n",
       "1   01/01/2021          NaN         Y         NaN   \n",
       "2   01/01/2021          NaN       NaN           Y   \n",
       "3   01/01/2021          NaN       NaN         NaN   \n",
       "4   01/01/2021          NaN       NaN         NaN   \n",
       "\n",
       "                                           ALLERGIES         VAX_MANU  \n",
       "0                                  Pcn and bee venom          MODERNA  \n",
       "1                                            \"Dairy\"          MODERNA  \n",
       "2                                          Shellfish  PFIZER\\BIONTECH  \n",
       "3  Diclofenac, novacaine, lidocaine, pickles, tom...          MODERNA  \n",
       "4                                                 Na          MODERNA  \n",
       "\n",
       "[5 rows x 36 columns]"
      ],
      "text/html": "<div>\n<style scoped>\n    .dataframe tbody tr th:only-of-type {\n        vertical-align: middle;\n    }\n\n    .dataframe tbody tr th {\n        vertical-align: top;\n    }\n\n    .dataframe thead th {\n        text-align: right;\n    }\n</style>\n<table border=\"1\" class=\"dataframe\">\n  <thead>\n    <tr style=\"text-align: right;\">\n      <th></th>\n      <th>VAERS_ID</th>\n      <th>RECVDATE</th>\n      <th>STATE</th>\n      <th>AGE_YRS</th>\n      <th>CAGE_YR</th>\n      <th>CAGE_MO</th>\n      <th>SEX</th>\n      <th>RPT_DATE</th>\n      <th>SYMPTOM_TEXT</th>\n      <th>DIED</th>\n      <th>...</th>\n      <th>HISTORY</th>\n      <th>PRIOR_VAX</th>\n      <th>SPLTTYPE</th>\n      <th>FORM_VERS</th>\n      <th>TODAYS_DATE</th>\n      <th>BIRTH_DEFECT</th>\n      <th>OFC_VISIT</th>\n      <th>ER_ED_VISIT</th>\n      <th>ALLERGIES</th>\n      <th>VAX_MANU</th>\n    </tr>\n  </thead>\n  <tbody>\n    <tr>\n      <th>0</th>\n      <td>916600.0</td>\n      <td>01/01/2021</td>\n      <td>TX</td>\n      <td>33.0</td>\n      <td>33.0</td>\n      <td>NaN</td>\n      <td>F</td>\n      <td>NaN</td>\n      <td>Right side of epiglottis swelled up and hinder...</td>\n      <td>NaN</td>\n      <td>...</td>\n      <td>None</td>\n      <td>NaN</td>\n      <td>NaN</td>\n      <td>2.0</td>\n      <td>01/01/2021</td>\n      <td>NaN</td>\n      <td>Y</td>\n      <td>NaN</td>\n      <td>Pcn and bee venom</td>\n      <td>MODERNA</td>\n    </tr>\n    <tr>\n      <th>1</th>\n      <td>916601.0</td>\n      <td>01/01/2021</td>\n      <td>CA</td>\n      <td>73.0</td>\n      <td>73.0</td>\n      <td>NaN</td>\n      <td>F</td>\n      <td>NaN</td>\n      <td>Approximately 30 min post vaccination administ...</td>\n      <td>NaN</td>\n      <td>...</td>\n      <td>Patient residing at nursing facility. See pati...</td>\n      <td>NaN</td>\n      <td>NaN</td>\n      <td>2.0</td>\n      <td>01/01/2021</td>\n      <td>NaN</td>\n      <td>Y</td>\n      <td>NaN</td>\n      <td>\"Dairy\"</td>\n      <td>MODERNA</td>\n    </tr>\n    <tr>\n      <th>2</th>\n      <td>916602.0</td>\n      <td>01/01/2021</td>\n      <td>WA</td>\n      <td>23.0</td>\n      <td>23.0</td>\n      <td>NaN</td>\n      <td>F</td>\n      <td>NaN</td>\n      <td>About 15 minutes after receiving the vaccine, ...</td>\n      <td>NaN</td>\n      <td>...</td>\n      <td>None</td>\n      <td>NaN</td>\n      <td>NaN</td>\n      <td>2.0</td>\n      <td>01/01/2021</td>\n      <td>NaN</td>\n      <td>NaN</td>\n      <td>Y</td>\n      <td>Shellfish</td>\n      <td>PFIZER\\BIONTECH</td>\n    </tr>\n    <tr>\n      <th>3</th>\n      <td>916603.0</td>\n      <td>01/01/2021</td>\n      <td>WA</td>\n      <td>58.0</td>\n      <td>58.0</td>\n      <td>NaN</td>\n      <td>F</td>\n      <td>NaN</td>\n      <td>extreme fatigue, dizziness,. could not lift my...</td>\n      <td>NaN</td>\n      <td>...</td>\n      <td>diverticulitis, mitral valve prolapse, osteoar...</td>\n      <td>got measles from measel shot, mums from mumps ...</td>\n      <td>NaN</td>\n      <td>2.0</td>\n      <td>01/01/2021</td>\n      <td>NaN</td>\n      <td>NaN</td>\n      <td>NaN</td>\n      <td>Diclofenac, novacaine, lidocaine, pickles, tom...</td>\n      <td>MODERNA</td>\n    </tr>\n    <tr>\n      <th>4</th>\n      <td>916604.0</td>\n      <td>01/01/2021</td>\n      <td>TX</td>\n      <td>47.0</td>\n      <td>47.0</td>\n      <td>NaN</td>\n      <td>F</td>\n      <td>NaN</td>\n      <td>Injection site swelling, redness, warm to the ...</td>\n      <td>NaN</td>\n      <td>...</td>\n      <td>NaN</td>\n      <td>NaN</td>\n      <td>NaN</td>\n      <td>2.0</td>\n      <td>01/01/2021</td>\n      <td>NaN</td>\n      <td>NaN</td>\n      <td>NaN</td>\n      <td>Na</td>\n      <td>MODERNA</td>\n    </tr>\n  </tbody>\n</table>\n<p>5 rows × 36 columns</p>\n</div>"
     },
     "metadata": {},
     "execution_count": 44
    }
   ],
   "source": [
    "df.head()"
   ]
  },
  {
   "cell_type": "code",
   "execution_count": 45,
   "metadata": {},
   "outputs": [
    {
     "output_type": "execute_result",
     "data": {
      "text/plain": [
       "array(['MODERNA', 'PFIZER\\\\BIONTECH', 'UNKNOWN MANUFACTURER',\n",
       "       'SANOFI PASTEUR', 'GLAXOSMITHKLINE BIOLOGICALS', 'SEQIRUS, INC.',\n",
       "       'MERCK & CO. INC.', 'NOVARTIS VACCINES AND DIAGNOSTICS',\n",
       "       'PFIZER\\\\WYETH', 'PROTEIN SCIENCES CORPORATION',\n",
       "       'EMERGENT BIOSOLUTIONS', 'DYNAVAX TECHNOLOGIES CORPORATION',\n",
       "       'MEDIMMUNE VACCINES, INC.', 'BERNA BIOTECH, LTD.', 'JANSSEN'],\n",
       "      dtype=object)"
      ]
     },
     "metadata": {},
     "execution_count": 45
    }
   ],
   "source": [
    "df[\"VAX_MANU\"].unique()"
   ]
  },
  {
   "cell_type": "code",
   "execution_count": 19,
   "metadata": {},
   "outputs": [
    {
     "output_type": "execute_result",
     "data": {
      "text/plain": [
       "       VAERS_ID    RECVDATE STATE  AGE_YRS  CAGE_YR  CAGE_MO SEX RPT_DATE  \\\n",
       "34116   1113917  03/19/2021    FL     88.0     87.0      NaN   F      NaN   \n",
       "34117   1113920  03/19/2021    PA     83.0      NaN      NaN   F      NaN   \n",
       "34118   1113963  03/19/2021    MS     59.0      NaN      NaN   F      NaN   \n",
       "34119   1115045  03/19/2021    AZ     57.0      NaN      NaN   M      NaN   \n",
       "34120   1115348  03/19/2021    NC      NaN     85.0      NaN   F      NaN   \n",
       "\n",
       "                                            SYMPTOM_TEXT DIED  ... CUR_ILL  \\\n",
       "34116  throat closure three weeks after second dose; ...  NaN  ...     NaN   \n",
       "34117  positive COVID-19 test with no symptoms; Asymp...  NaN  ...     NaN   \n",
       "34118  HLH (hemophagocyticlymphohistiocytosis); This ...    Y  ...     NaN   \n",
       "34119  Death; A spontaneous report was received from ...    Y  ...     NaN   \n",
       "34120  death; A spontaneous report was received from ...    Y  ...     NaN   \n",
       "\n",
       "                                                 HISTORY PRIOR_VAX  \\\n",
       "34116  Medical History/Concurrent Conditions: Aortic ...       NaN   \n",
       "34117  Medical History/Concurrent Conditions: Atrial ...       NaN   \n",
       "34118  Medical History/Concurrent Conditions: Type II...       NaN   \n",
       "34119  Medical History/Concurrent Conditions: No adve...       NaN   \n",
       "34120  Comments: List of non-encoded Patient Relevant...       NaN   \n",
       "\n",
       "                        SPLTTYPE  FORM_VERS TODAYS_DATE BIRTH_DEFECT  \\\n",
       "34116  USMODERNATX, INC.MOD20210          2  03/12/2021          NaN   \n",
       "34117     USPFIZER INC2021231682          2  03/16/2021          NaN   \n",
       "34118     USPFIZER INC2021257356          2  03/12/2021          NaN   \n",
       "34119  USMODERNATX, INC.MOD20210          2  03/15/2021          NaN   \n",
       "34120  USMODERNATX, INC.MOD20210          2  03/12/2021          NaN   \n",
       "\n",
       "      OFC_VISIT ER_ED_VISIT ALLERGIES  \n",
       "34116       NaN           Y       NaN  \n",
       "34117         Y         NaN       NaN  \n",
       "34118       NaN         NaN       NaN  \n",
       "34119       NaN         NaN       NaN  \n",
       "34120       NaN         NaN       NaN  \n",
       "\n",
       "[5 rows x 35 columns]"
      ],
      "text/html": "<div>\n<style scoped>\n    .dataframe tbody tr th:only-of-type {\n        vertical-align: middle;\n    }\n\n    .dataframe tbody tr th {\n        vertical-align: top;\n    }\n\n    .dataframe thead th {\n        text-align: right;\n    }\n</style>\n<table border=\"1\" class=\"dataframe\">\n  <thead>\n    <tr style=\"text-align: right;\">\n      <th></th>\n      <th>VAERS_ID</th>\n      <th>RECVDATE</th>\n      <th>STATE</th>\n      <th>AGE_YRS</th>\n      <th>CAGE_YR</th>\n      <th>CAGE_MO</th>\n      <th>SEX</th>\n      <th>RPT_DATE</th>\n      <th>SYMPTOM_TEXT</th>\n      <th>DIED</th>\n      <th>...</th>\n      <th>CUR_ILL</th>\n      <th>HISTORY</th>\n      <th>PRIOR_VAX</th>\n      <th>SPLTTYPE</th>\n      <th>FORM_VERS</th>\n      <th>TODAYS_DATE</th>\n      <th>BIRTH_DEFECT</th>\n      <th>OFC_VISIT</th>\n      <th>ER_ED_VISIT</th>\n      <th>ALLERGIES</th>\n    </tr>\n  </thead>\n  <tbody>\n    <tr>\n      <th>34116</th>\n      <td>1113917</td>\n      <td>03/19/2021</td>\n      <td>FL</td>\n      <td>88.0</td>\n      <td>87.0</td>\n      <td>NaN</td>\n      <td>F</td>\n      <td>NaN</td>\n      <td>throat closure three weeks after second dose; ...</td>\n      <td>NaN</td>\n      <td>...</td>\n      <td>NaN</td>\n      <td>Medical History/Concurrent Conditions: Aortic ...</td>\n      <td>NaN</td>\n      <td>USMODERNATX, INC.MOD20210</td>\n      <td>2</td>\n      <td>03/12/2021</td>\n      <td>NaN</td>\n      <td>NaN</td>\n      <td>Y</td>\n      <td>NaN</td>\n    </tr>\n    <tr>\n      <th>34117</th>\n      <td>1113920</td>\n      <td>03/19/2021</td>\n      <td>PA</td>\n      <td>83.0</td>\n      <td>NaN</td>\n      <td>NaN</td>\n      <td>F</td>\n      <td>NaN</td>\n      <td>positive COVID-19 test with no symptoms; Asymp...</td>\n      <td>NaN</td>\n      <td>...</td>\n      <td>NaN</td>\n      <td>Medical History/Concurrent Conditions: Atrial ...</td>\n      <td>NaN</td>\n      <td>USPFIZER INC2021231682</td>\n      <td>2</td>\n      <td>03/16/2021</td>\n      <td>NaN</td>\n      <td>Y</td>\n      <td>NaN</td>\n      <td>NaN</td>\n    </tr>\n    <tr>\n      <th>34118</th>\n      <td>1113963</td>\n      <td>03/19/2021</td>\n      <td>MS</td>\n      <td>59.0</td>\n      <td>NaN</td>\n      <td>NaN</td>\n      <td>F</td>\n      <td>NaN</td>\n      <td>HLH (hemophagocyticlymphohistiocytosis); This ...</td>\n      <td>Y</td>\n      <td>...</td>\n      <td>NaN</td>\n      <td>Medical History/Concurrent Conditions: Type II...</td>\n      <td>NaN</td>\n      <td>USPFIZER INC2021257356</td>\n      <td>2</td>\n      <td>03/12/2021</td>\n      <td>NaN</td>\n      <td>NaN</td>\n      <td>NaN</td>\n      <td>NaN</td>\n    </tr>\n    <tr>\n      <th>34119</th>\n      <td>1115045</td>\n      <td>03/19/2021</td>\n      <td>AZ</td>\n      <td>57.0</td>\n      <td>NaN</td>\n      <td>NaN</td>\n      <td>M</td>\n      <td>NaN</td>\n      <td>Death; A spontaneous report was received from ...</td>\n      <td>Y</td>\n      <td>...</td>\n      <td>NaN</td>\n      <td>Medical History/Concurrent Conditions: No adve...</td>\n      <td>NaN</td>\n      <td>USMODERNATX, INC.MOD20210</td>\n      <td>2</td>\n      <td>03/15/2021</td>\n      <td>NaN</td>\n      <td>NaN</td>\n      <td>NaN</td>\n      <td>NaN</td>\n    </tr>\n    <tr>\n      <th>34120</th>\n      <td>1115348</td>\n      <td>03/19/2021</td>\n      <td>NC</td>\n      <td>NaN</td>\n      <td>85.0</td>\n      <td>NaN</td>\n      <td>F</td>\n      <td>NaN</td>\n      <td>death; A spontaneous report was received from ...</td>\n      <td>Y</td>\n      <td>...</td>\n      <td>NaN</td>\n      <td>Comments: List of non-encoded Patient Relevant...</td>\n      <td>NaN</td>\n      <td>USMODERNATX, INC.MOD20210</td>\n      <td>2</td>\n      <td>03/12/2021</td>\n      <td>NaN</td>\n      <td>NaN</td>\n      <td>NaN</td>\n      <td>NaN</td>\n    </tr>\n  </tbody>\n</table>\n<p>5 rows × 35 columns</p>\n</div>"
     },
     "metadata": {},
     "execution_count": 19
    }
   ],
   "source": [
    "df.tail()"
   ]
  },
  {
   "cell_type": "code",
   "execution_count": 32,
   "metadata": {},
   "outputs": [
    {
     "output_type": "execute_result",
     "data": {
      "text/plain": [
       "34121"
      ]
     },
     "metadata": {},
     "execution_count": 32
    }
   ],
   "source": [
    "len(df)"
   ]
  },
  {
   "cell_type": "code",
   "execution_count": 46,
   "metadata": {},
   "outputs": [
    {
     "output_type": "execute_result",
     "data": {
      "text/plain": [
       "VAERS_ID        float64\n",
       "RECVDATE         object\n",
       "STATE            object\n",
       "AGE_YRS         float64\n",
       "CAGE_YR         float64\n",
       "CAGE_MO         float64\n",
       "SEX              object\n",
       "RPT_DATE         object\n",
       "SYMPTOM_TEXT     object\n",
       "DIED             object\n",
       "DATEDIED         object\n",
       "L_THREAT         object\n",
       "ER_VISIT         object\n",
       "HOSPITAL         object\n",
       "HOSPDAYS        float64\n",
       "X_STAY           object\n",
       "DISABLE          object\n",
       "RECOVD           object\n",
       "VAX_DATE         object\n",
       "ONSET_DATE       object\n",
       "NUMDAYS         float64\n",
       "LAB_DATA         object\n",
       "V_ADMINBY        object\n",
       "V_FUNDBY         object\n",
       "OTHER_MEDS       object\n",
       "CUR_ILL          object\n",
       "HISTORY          object\n",
       "PRIOR_VAX        object\n",
       "SPLTTYPE         object\n",
       "FORM_VERS       float64\n",
       "TODAYS_DATE      object\n",
       "BIRTH_DEFECT     object\n",
       "OFC_VISIT        object\n",
       "ER_ED_VISIT      object\n",
       "ALLERGIES        object\n",
       "VAX_MANU         object\n",
       "dtype: object"
      ]
     },
     "metadata": {},
     "execution_count": 46
    }
   ],
   "source": [
    "df.dtypes"
   ]
  },
  {
   "cell_type": "code",
   "execution_count": 22,
   "metadata": {},
   "outputs": [
    {
     "output_type": "stream",
     "name": "stdout",
     "text": [
      "<class 'pandas.core.frame.DataFrame'>\nRangeIndex: 34121 entries, 0 to 34120\nData columns (total 35 columns):\n #   Column        Non-Null Count  Dtype  \n---  ------        --------------  -----  \n 0   VAERS_ID      34121 non-null  int64  \n 1   RECVDATE      34121 non-null  object \n 2   STATE         28550 non-null  object \n 3   AGE_YRS       30933 non-null  float64\n 4   CAGE_YR       26791 non-null  float64\n 5   CAGE_MO       83 non-null     float64\n 6   SEX           34121 non-null  object \n 7   RPT_DATE      63 non-null     object \n 8   SYMPTOM_TEXT  34119 non-null  object \n 9   DIED          1957 non-null   object \n 10  DATEDIED      1798 non-null   object \n 11  L_THREAT      1259 non-null   object \n 12  ER_VISIT      11 non-null     object \n 13  HOSPITAL      4387 non-null   object \n 14  HOSPDAYS      2857 non-null   float64\n 15  X_STAY        52 non-null     object \n 16  DISABLE       870 non-null    object \n 17  RECOVD        31264 non-null  object \n 18  VAX_DATE      32622 non-null  object \n 19  ONSET_DATE    32258 non-null  object \n 20  NUMDAYS       31194 non-null  float64\n 21  LAB_DATA      15080 non-null  object \n 22  V_ADMINBY     34121 non-null  object \n 23  V_FUNDBY      64 non-null     object \n 24  OTHER_MEDS    20239 non-null  object \n 25  CUR_ILL       16069 non-null  object \n 26  HISTORY       22375 non-null  object \n 27  PRIOR_VAX     1434 non-null   object \n 28  SPLTTYPE      8223 non-null   object \n 29  FORM_VERS     34121 non-null  int64  \n 30  TODAYS_DATE   33922 non-null  object \n 31  BIRTH_DEFECT  51 non-null     object \n 32  OFC_VISIT     5404 non-null   object \n 33  ER_ED_VISIT   5529 non-null   object \n 34  ALLERGIES     18587 non-null  object \ndtypes: float64(5), int64(2), object(28)\nmemory usage: 9.1+ MB\n"
     ]
    }
   ],
   "source": [
    "df.info()"
   ]
  }
 ]
}